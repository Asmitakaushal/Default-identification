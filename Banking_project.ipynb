{
 "cells": [
  {
   "cell_type": "code",
   "execution_count": 1,
   "id": "5c714f8e",
   "metadata": {},
   "outputs": [],
   "source": [
    "import pandas as pd\n",
    "pd.set_option('display.max_rows', None)\n",
    "import matplotlib.pyplot as plt\n",
    "import seaborn as sns\n",
    "\n",
    "\n"
   ]
  },
  {
   "cell_type": "markdown",
   "id": "d9bae346",
   "metadata": {},
   "source": [
    " <font color='Red'>Importing Data</font>\n"
   ]
  },
  {
   "cell_type": "code",
   "execution_count": 2,
   "id": "607831bd",
   "metadata": {},
   "outputs": [],
   "source": [
    "application=pd.read_csv('D:/Banking project/application_data.csv')  "
   ]
  },
  {
   "cell_type": "code",
   "execution_count": 3,
   "id": "8441c84f",
   "metadata": {
    "scrolled": true
   },
   "outputs": [
    {
     "data": {
      "text/html": [
       "<div>\n",
       "<style scoped>\n",
       "    .dataframe tbody tr th:only-of-type {\n",
       "        vertical-align: middle;\n",
       "    }\n",
       "\n",
       "    .dataframe tbody tr th {\n",
       "        vertical-align: top;\n",
       "    }\n",
       "\n",
       "    .dataframe thead th {\n",
       "        text-align: right;\n",
       "    }\n",
       "</style>\n",
       "<table border=\"1\" class=\"dataframe\">\n",
       "  <thead>\n",
       "    <tr style=\"text-align: right;\">\n",
       "      <th></th>\n",
       "      <th>SK_ID_CURR</th>\n",
       "      <th>TARGET</th>\n",
       "      <th>NAME_CONTRACT_TYPE</th>\n",
       "      <th>CODE_GENDER</th>\n",
       "      <th>FLAG_OWN_CAR</th>\n",
       "      <th>FLAG_OWN_REALTY</th>\n",
       "      <th>CNT_CHILDREN</th>\n",
       "      <th>AMT_INCOME_TOTAL</th>\n",
       "      <th>AMT_CREDIT</th>\n",
       "      <th>AMT_ANNUITY</th>\n",
       "      <th>...</th>\n",
       "      <th>FLAG_DOCUMENT_18</th>\n",
       "      <th>FLAG_DOCUMENT_19</th>\n",
       "      <th>FLAG_DOCUMENT_20</th>\n",
       "      <th>FLAG_DOCUMENT_21</th>\n",
       "      <th>AMT_REQ_CREDIT_BUREAU_HOUR</th>\n",
       "      <th>AMT_REQ_CREDIT_BUREAU_DAY</th>\n",
       "      <th>AMT_REQ_CREDIT_BUREAU_WEEK</th>\n",
       "      <th>AMT_REQ_CREDIT_BUREAU_MON</th>\n",
       "      <th>AMT_REQ_CREDIT_BUREAU_QRT</th>\n",
       "      <th>AMT_REQ_CREDIT_BUREAU_YEAR</th>\n",
       "    </tr>\n",
       "  </thead>\n",
       "  <tbody>\n",
       "    <tr>\n",
       "      <th>0</th>\n",
       "      <td>100002</td>\n",
       "      <td>1</td>\n",
       "      <td>Cash loans</td>\n",
       "      <td>M</td>\n",
       "      <td>N</td>\n",
       "      <td>Y</td>\n",
       "      <td>0</td>\n",
       "      <td>202500.0</td>\n",
       "      <td>406597.5</td>\n",
       "      <td>24700.5</td>\n",
       "      <td>...</td>\n",
       "      <td>0</td>\n",
       "      <td>0</td>\n",
       "      <td>0</td>\n",
       "      <td>0</td>\n",
       "      <td>0.0</td>\n",
       "      <td>0.0</td>\n",
       "      <td>0.0</td>\n",
       "      <td>0.0</td>\n",
       "      <td>0.0</td>\n",
       "      <td>1.0</td>\n",
       "    </tr>\n",
       "    <tr>\n",
       "      <th>1</th>\n",
       "      <td>100003</td>\n",
       "      <td>0</td>\n",
       "      <td>Cash loans</td>\n",
       "      <td>F</td>\n",
       "      <td>N</td>\n",
       "      <td>N</td>\n",
       "      <td>0</td>\n",
       "      <td>270000.0</td>\n",
       "      <td>1293502.5</td>\n",
       "      <td>35698.5</td>\n",
       "      <td>...</td>\n",
       "      <td>0</td>\n",
       "      <td>0</td>\n",
       "      <td>0</td>\n",
       "      <td>0</td>\n",
       "      <td>0.0</td>\n",
       "      <td>0.0</td>\n",
       "      <td>0.0</td>\n",
       "      <td>0.0</td>\n",
       "      <td>0.0</td>\n",
       "      <td>0.0</td>\n",
       "    </tr>\n",
       "    <tr>\n",
       "      <th>2</th>\n",
       "      <td>100004</td>\n",
       "      <td>0</td>\n",
       "      <td>Revolving loans</td>\n",
       "      <td>M</td>\n",
       "      <td>Y</td>\n",
       "      <td>Y</td>\n",
       "      <td>0</td>\n",
       "      <td>67500.0</td>\n",
       "      <td>135000.0</td>\n",
       "      <td>6750.0</td>\n",
       "      <td>...</td>\n",
       "      <td>0</td>\n",
       "      <td>0</td>\n",
       "      <td>0</td>\n",
       "      <td>0</td>\n",
       "      <td>0.0</td>\n",
       "      <td>0.0</td>\n",
       "      <td>0.0</td>\n",
       "      <td>0.0</td>\n",
       "      <td>0.0</td>\n",
       "      <td>0.0</td>\n",
       "    </tr>\n",
       "    <tr>\n",
       "      <th>3</th>\n",
       "      <td>100006</td>\n",
       "      <td>0</td>\n",
       "      <td>Cash loans</td>\n",
       "      <td>F</td>\n",
       "      <td>N</td>\n",
       "      <td>Y</td>\n",
       "      <td>0</td>\n",
       "      <td>135000.0</td>\n",
       "      <td>312682.5</td>\n",
       "      <td>29686.5</td>\n",
       "      <td>...</td>\n",
       "      <td>0</td>\n",
       "      <td>0</td>\n",
       "      <td>0</td>\n",
       "      <td>0</td>\n",
       "      <td>NaN</td>\n",
       "      <td>NaN</td>\n",
       "      <td>NaN</td>\n",
       "      <td>NaN</td>\n",
       "      <td>NaN</td>\n",
       "      <td>NaN</td>\n",
       "    </tr>\n",
       "    <tr>\n",
       "      <th>4</th>\n",
       "      <td>100007</td>\n",
       "      <td>0</td>\n",
       "      <td>Cash loans</td>\n",
       "      <td>M</td>\n",
       "      <td>N</td>\n",
       "      <td>Y</td>\n",
       "      <td>0</td>\n",
       "      <td>121500.0</td>\n",
       "      <td>513000.0</td>\n",
       "      <td>21865.5</td>\n",
       "      <td>...</td>\n",
       "      <td>0</td>\n",
       "      <td>0</td>\n",
       "      <td>0</td>\n",
       "      <td>0</td>\n",
       "      <td>0.0</td>\n",
       "      <td>0.0</td>\n",
       "      <td>0.0</td>\n",
       "      <td>0.0</td>\n",
       "      <td>0.0</td>\n",
       "      <td>0.0</td>\n",
       "    </tr>\n",
       "  </tbody>\n",
       "</table>\n",
       "<p>5 rows × 122 columns</p>\n",
       "</div>"
      ],
      "text/plain": [
       "   SK_ID_CURR  TARGET NAME_CONTRACT_TYPE CODE_GENDER FLAG_OWN_CAR  \\\n",
       "0      100002       1         Cash loans           M            N   \n",
       "1      100003       0         Cash loans           F            N   \n",
       "2      100004       0    Revolving loans           M            Y   \n",
       "3      100006       0         Cash loans           F            N   \n",
       "4      100007       0         Cash loans           M            N   \n",
       "\n",
       "  FLAG_OWN_REALTY  CNT_CHILDREN  AMT_INCOME_TOTAL  AMT_CREDIT  AMT_ANNUITY  \\\n",
       "0               Y             0          202500.0    406597.5      24700.5   \n",
       "1               N             0          270000.0   1293502.5      35698.5   \n",
       "2               Y             0           67500.0    135000.0       6750.0   \n",
       "3               Y             0          135000.0    312682.5      29686.5   \n",
       "4               Y             0          121500.0    513000.0      21865.5   \n",
       "\n",
       "   ...  FLAG_DOCUMENT_18 FLAG_DOCUMENT_19 FLAG_DOCUMENT_20 FLAG_DOCUMENT_21  \\\n",
       "0  ...                 0                0                0                0   \n",
       "1  ...                 0                0                0                0   \n",
       "2  ...                 0                0                0                0   \n",
       "3  ...                 0                0                0                0   \n",
       "4  ...                 0                0                0                0   \n",
       "\n",
       "  AMT_REQ_CREDIT_BUREAU_HOUR AMT_REQ_CREDIT_BUREAU_DAY  \\\n",
       "0                        0.0                       0.0   \n",
       "1                        0.0                       0.0   \n",
       "2                        0.0                       0.0   \n",
       "3                        NaN                       NaN   \n",
       "4                        0.0                       0.0   \n",
       "\n",
       "   AMT_REQ_CREDIT_BUREAU_WEEK  AMT_REQ_CREDIT_BUREAU_MON  \\\n",
       "0                         0.0                        0.0   \n",
       "1                         0.0                        0.0   \n",
       "2                         0.0                        0.0   \n",
       "3                         NaN                        NaN   \n",
       "4                         0.0                        0.0   \n",
       "\n",
       "   AMT_REQ_CREDIT_BUREAU_QRT  AMT_REQ_CREDIT_BUREAU_YEAR  \n",
       "0                        0.0                         1.0  \n",
       "1                        0.0                         0.0  \n",
       "2                        0.0                         0.0  \n",
       "3                        NaN                         NaN  \n",
       "4                        0.0                         0.0  \n",
       "\n",
       "[5 rows x 122 columns]"
      ]
     },
     "execution_count": 3,
     "metadata": {},
     "output_type": "execute_result"
    }
   ],
   "source": [
    "application.head(5)"
   ]
  },
  {
   "cell_type": "code",
   "execution_count": 4,
   "id": "70652778",
   "metadata": {},
   "outputs": [],
   "source": [
    "pre_application=pd.read_csv('D:/Banking project/previous_application.csv')  "
   ]
  },
  {
   "cell_type": "code",
   "execution_count": 5,
   "id": "056cc8fe",
   "metadata": {},
   "outputs": [
    {
     "data": {
      "text/html": [
       "<div>\n",
       "<style scoped>\n",
       "    .dataframe tbody tr th:only-of-type {\n",
       "        vertical-align: middle;\n",
       "    }\n",
       "\n",
       "    .dataframe tbody tr th {\n",
       "        vertical-align: top;\n",
       "    }\n",
       "\n",
       "    .dataframe thead th {\n",
       "        text-align: right;\n",
       "    }\n",
       "</style>\n",
       "<table border=\"1\" class=\"dataframe\">\n",
       "  <thead>\n",
       "    <tr style=\"text-align: right;\">\n",
       "      <th></th>\n",
       "      <th>SK_ID_PREV</th>\n",
       "      <th>SK_ID_CURR</th>\n",
       "      <th>NAME_CONTRACT_TYPE</th>\n",
       "      <th>AMT_ANNUITY</th>\n",
       "      <th>AMT_APPLICATION</th>\n",
       "      <th>AMT_CREDIT</th>\n",
       "      <th>AMT_DOWN_PAYMENT</th>\n",
       "      <th>AMT_GOODS_PRICE</th>\n",
       "      <th>WEEKDAY_APPR_PROCESS_START</th>\n",
       "      <th>HOUR_APPR_PROCESS_START</th>\n",
       "      <th>...</th>\n",
       "      <th>NAME_SELLER_INDUSTRY</th>\n",
       "      <th>CNT_PAYMENT</th>\n",
       "      <th>NAME_YIELD_GROUP</th>\n",
       "      <th>PRODUCT_COMBINATION</th>\n",
       "      <th>DAYS_FIRST_DRAWING</th>\n",
       "      <th>DAYS_FIRST_DUE</th>\n",
       "      <th>DAYS_LAST_DUE_1ST_VERSION</th>\n",
       "      <th>DAYS_LAST_DUE</th>\n",
       "      <th>DAYS_TERMINATION</th>\n",
       "      <th>NFLAG_INSURED_ON_APPROVAL</th>\n",
       "    </tr>\n",
       "  </thead>\n",
       "  <tbody>\n",
       "    <tr>\n",
       "      <th>0</th>\n",
       "      <td>2030495</td>\n",
       "      <td>271877</td>\n",
       "      <td>Consumer loans</td>\n",
       "      <td>1730.430</td>\n",
       "      <td>17145.0</td>\n",
       "      <td>17145.0</td>\n",
       "      <td>0.0</td>\n",
       "      <td>17145.0</td>\n",
       "      <td>SATURDAY</td>\n",
       "      <td>15</td>\n",
       "      <td>...</td>\n",
       "      <td>Connectivity</td>\n",
       "      <td>12.0</td>\n",
       "      <td>middle</td>\n",
       "      <td>POS mobile with interest</td>\n",
       "      <td>365243.0</td>\n",
       "      <td>-42.0</td>\n",
       "      <td>300.0</td>\n",
       "      <td>-42.0</td>\n",
       "      <td>-37.0</td>\n",
       "      <td>0.0</td>\n",
       "    </tr>\n",
       "    <tr>\n",
       "      <th>1</th>\n",
       "      <td>2802425</td>\n",
       "      <td>108129</td>\n",
       "      <td>Cash loans</td>\n",
       "      <td>25188.615</td>\n",
       "      <td>607500.0</td>\n",
       "      <td>679671.0</td>\n",
       "      <td>NaN</td>\n",
       "      <td>607500.0</td>\n",
       "      <td>THURSDAY</td>\n",
       "      <td>11</td>\n",
       "      <td>...</td>\n",
       "      <td>XNA</td>\n",
       "      <td>36.0</td>\n",
       "      <td>low_action</td>\n",
       "      <td>Cash X-Sell: low</td>\n",
       "      <td>365243.0</td>\n",
       "      <td>-134.0</td>\n",
       "      <td>916.0</td>\n",
       "      <td>365243.0</td>\n",
       "      <td>365243.0</td>\n",
       "      <td>1.0</td>\n",
       "    </tr>\n",
       "    <tr>\n",
       "      <th>2</th>\n",
       "      <td>2523466</td>\n",
       "      <td>122040</td>\n",
       "      <td>Cash loans</td>\n",
       "      <td>15060.735</td>\n",
       "      <td>112500.0</td>\n",
       "      <td>136444.5</td>\n",
       "      <td>NaN</td>\n",
       "      <td>112500.0</td>\n",
       "      <td>TUESDAY</td>\n",
       "      <td>11</td>\n",
       "      <td>...</td>\n",
       "      <td>XNA</td>\n",
       "      <td>12.0</td>\n",
       "      <td>high</td>\n",
       "      <td>Cash X-Sell: high</td>\n",
       "      <td>365243.0</td>\n",
       "      <td>-271.0</td>\n",
       "      <td>59.0</td>\n",
       "      <td>365243.0</td>\n",
       "      <td>365243.0</td>\n",
       "      <td>1.0</td>\n",
       "    </tr>\n",
       "    <tr>\n",
       "      <th>3</th>\n",
       "      <td>2819243</td>\n",
       "      <td>176158</td>\n",
       "      <td>Cash loans</td>\n",
       "      <td>47041.335</td>\n",
       "      <td>450000.0</td>\n",
       "      <td>470790.0</td>\n",
       "      <td>NaN</td>\n",
       "      <td>450000.0</td>\n",
       "      <td>MONDAY</td>\n",
       "      <td>7</td>\n",
       "      <td>...</td>\n",
       "      <td>XNA</td>\n",
       "      <td>12.0</td>\n",
       "      <td>middle</td>\n",
       "      <td>Cash X-Sell: middle</td>\n",
       "      <td>365243.0</td>\n",
       "      <td>-482.0</td>\n",
       "      <td>-152.0</td>\n",
       "      <td>-182.0</td>\n",
       "      <td>-177.0</td>\n",
       "      <td>1.0</td>\n",
       "    </tr>\n",
       "    <tr>\n",
       "      <th>4</th>\n",
       "      <td>1784265</td>\n",
       "      <td>202054</td>\n",
       "      <td>Cash loans</td>\n",
       "      <td>31924.395</td>\n",
       "      <td>337500.0</td>\n",
       "      <td>404055.0</td>\n",
       "      <td>NaN</td>\n",
       "      <td>337500.0</td>\n",
       "      <td>THURSDAY</td>\n",
       "      <td>9</td>\n",
       "      <td>...</td>\n",
       "      <td>XNA</td>\n",
       "      <td>24.0</td>\n",
       "      <td>high</td>\n",
       "      <td>Cash Street: high</td>\n",
       "      <td>NaN</td>\n",
       "      <td>NaN</td>\n",
       "      <td>NaN</td>\n",
       "      <td>NaN</td>\n",
       "      <td>NaN</td>\n",
       "      <td>NaN</td>\n",
       "    </tr>\n",
       "  </tbody>\n",
       "</table>\n",
       "<p>5 rows × 37 columns</p>\n",
       "</div>"
      ],
      "text/plain": [
       "   SK_ID_PREV  SK_ID_CURR NAME_CONTRACT_TYPE  AMT_ANNUITY  AMT_APPLICATION  \\\n",
       "0     2030495      271877     Consumer loans     1730.430          17145.0   \n",
       "1     2802425      108129         Cash loans    25188.615         607500.0   \n",
       "2     2523466      122040         Cash loans    15060.735         112500.0   \n",
       "3     2819243      176158         Cash loans    47041.335         450000.0   \n",
       "4     1784265      202054         Cash loans    31924.395         337500.0   \n",
       "\n",
       "   AMT_CREDIT  AMT_DOWN_PAYMENT  AMT_GOODS_PRICE WEEKDAY_APPR_PROCESS_START  \\\n",
       "0     17145.0               0.0          17145.0                   SATURDAY   \n",
       "1    679671.0               NaN         607500.0                   THURSDAY   \n",
       "2    136444.5               NaN         112500.0                    TUESDAY   \n",
       "3    470790.0               NaN         450000.0                     MONDAY   \n",
       "4    404055.0               NaN         337500.0                   THURSDAY   \n",
       "\n",
       "   HOUR_APPR_PROCESS_START  ... NAME_SELLER_INDUSTRY  CNT_PAYMENT  \\\n",
       "0                       15  ...         Connectivity         12.0   \n",
       "1                       11  ...                  XNA         36.0   \n",
       "2                       11  ...                  XNA         12.0   \n",
       "3                        7  ...                  XNA         12.0   \n",
       "4                        9  ...                  XNA         24.0   \n",
       "\n",
       "   NAME_YIELD_GROUP       PRODUCT_COMBINATION  DAYS_FIRST_DRAWING  \\\n",
       "0            middle  POS mobile with interest            365243.0   \n",
       "1        low_action          Cash X-Sell: low            365243.0   \n",
       "2              high         Cash X-Sell: high            365243.0   \n",
       "3            middle       Cash X-Sell: middle            365243.0   \n",
       "4              high         Cash Street: high                 NaN   \n",
       "\n",
       "  DAYS_FIRST_DUE DAYS_LAST_DUE_1ST_VERSION  DAYS_LAST_DUE DAYS_TERMINATION  \\\n",
       "0          -42.0                     300.0          -42.0            -37.0   \n",
       "1         -134.0                     916.0       365243.0         365243.0   \n",
       "2         -271.0                      59.0       365243.0         365243.0   \n",
       "3         -482.0                    -152.0         -182.0           -177.0   \n",
       "4            NaN                       NaN            NaN              NaN   \n",
       "\n",
       "  NFLAG_INSURED_ON_APPROVAL  \n",
       "0                       0.0  \n",
       "1                       1.0  \n",
       "2                       1.0  \n",
       "3                       1.0  \n",
       "4                       NaN  \n",
       "\n",
       "[5 rows x 37 columns]"
      ]
     },
     "execution_count": 5,
     "metadata": {},
     "output_type": "execute_result"
    }
   ],
   "source": [
    "pre_application.head(5)"
   ]
  },
  {
   "cell_type": "markdown",
   "id": "4c59f869",
   "metadata": {},
   "source": [
    " <font color='Red'>Getting to Know the Data </font> \n"
   ]
  },
  {
   "cell_type": "code",
   "execution_count": 6,
   "id": "6d3113b9",
   "metadata": {},
   "outputs": [
    {
     "name": "stdout",
     "output_type": "stream",
     "text": [
      "<class 'pandas.core.frame.DataFrame'>\n",
      "RangeIndex: 307511 entries, 0 to 307510\n",
      "Data columns (total 122 columns):\n",
      " #    Column                        Dtype  \n",
      "---   ------                        -----  \n",
      " 0    SK_ID_CURR                    int64  \n",
      " 1    TARGET                        int64  \n",
      " 2    NAME_CONTRACT_TYPE            object \n",
      " 3    CODE_GENDER                   object \n",
      " 4    FLAG_OWN_CAR                  object \n",
      " 5    FLAG_OWN_REALTY               object \n",
      " 6    CNT_CHILDREN                  int64  \n",
      " 7    AMT_INCOME_TOTAL              float64\n",
      " 8    AMT_CREDIT                    float64\n",
      " 9    AMT_ANNUITY                   float64\n",
      " 10   AMT_GOODS_PRICE               float64\n",
      " 11   NAME_TYPE_SUITE               object \n",
      " 12   NAME_INCOME_TYPE              object \n",
      " 13   NAME_EDUCATION_TYPE           object \n",
      " 14   NAME_FAMILY_STATUS            object \n",
      " 15   NAME_HOUSING_TYPE             object \n",
      " 16   REGION_POPULATION_RELATIVE    float64\n",
      " 17   DAYS_BIRTH                    int64  \n",
      " 18   DAYS_EMPLOYED                 int64  \n",
      " 19   DAYS_REGISTRATION             float64\n",
      " 20   DAYS_ID_PUBLISH               int64  \n",
      " 21   OWN_CAR_AGE                   float64\n",
      " 22   FLAG_MOBIL                    int64  \n",
      " 23   FLAG_EMP_PHONE                int64  \n",
      " 24   FLAG_WORK_PHONE               int64  \n",
      " 25   FLAG_CONT_MOBILE              int64  \n",
      " 26   FLAG_PHONE                    int64  \n",
      " 27   FLAG_EMAIL                    int64  \n",
      " 28   OCCUPATION_TYPE               object \n",
      " 29   CNT_FAM_MEMBERS               float64\n",
      " 30   REGION_RATING_CLIENT          int64  \n",
      " 31   REGION_RATING_CLIENT_W_CITY   int64  \n",
      " 32   WEEKDAY_APPR_PROCESS_START    object \n",
      " 33   HOUR_APPR_PROCESS_START       int64  \n",
      " 34   REG_REGION_NOT_LIVE_REGION    int64  \n",
      " 35   REG_REGION_NOT_WORK_REGION    int64  \n",
      " 36   LIVE_REGION_NOT_WORK_REGION   int64  \n",
      " 37   REG_CITY_NOT_LIVE_CITY        int64  \n",
      " 38   REG_CITY_NOT_WORK_CITY        int64  \n",
      " 39   LIVE_CITY_NOT_WORK_CITY       int64  \n",
      " 40   ORGANIZATION_TYPE             object \n",
      " 41   EXT_SOURCE_1                  float64\n",
      " 42   EXT_SOURCE_2                  float64\n",
      " 43   EXT_SOURCE_3                  float64\n",
      " 44   APARTMENTS_AVG                float64\n",
      " 45   BASEMENTAREA_AVG              float64\n",
      " 46   YEARS_BEGINEXPLUATATION_AVG   float64\n",
      " 47   YEARS_BUILD_AVG               float64\n",
      " 48   COMMONAREA_AVG                float64\n",
      " 49   ELEVATORS_AVG                 float64\n",
      " 50   ENTRANCES_AVG                 float64\n",
      " 51   FLOORSMAX_AVG                 float64\n",
      " 52   FLOORSMIN_AVG                 float64\n",
      " 53   LANDAREA_AVG                  float64\n",
      " 54   LIVINGAPARTMENTS_AVG          float64\n",
      " 55   LIVINGAREA_AVG                float64\n",
      " 56   NONLIVINGAPARTMENTS_AVG       float64\n",
      " 57   NONLIVINGAREA_AVG             float64\n",
      " 58   APARTMENTS_MODE               float64\n",
      " 59   BASEMENTAREA_MODE             float64\n",
      " 60   YEARS_BEGINEXPLUATATION_MODE  float64\n",
      " 61   YEARS_BUILD_MODE              float64\n",
      " 62   COMMONAREA_MODE               float64\n",
      " 63   ELEVATORS_MODE                float64\n",
      " 64   ENTRANCES_MODE                float64\n",
      " 65   FLOORSMAX_MODE                float64\n",
      " 66   FLOORSMIN_MODE                float64\n",
      " 67   LANDAREA_MODE                 float64\n",
      " 68   LIVINGAPARTMENTS_MODE         float64\n",
      " 69   LIVINGAREA_MODE               float64\n",
      " 70   NONLIVINGAPARTMENTS_MODE      float64\n",
      " 71   NONLIVINGAREA_MODE            float64\n",
      " 72   APARTMENTS_MEDI               float64\n",
      " 73   BASEMENTAREA_MEDI             float64\n",
      " 74   YEARS_BEGINEXPLUATATION_MEDI  float64\n",
      " 75   YEARS_BUILD_MEDI              float64\n",
      " 76   COMMONAREA_MEDI               float64\n",
      " 77   ELEVATORS_MEDI                float64\n",
      " 78   ENTRANCES_MEDI                float64\n",
      " 79   FLOORSMAX_MEDI                float64\n",
      " 80   FLOORSMIN_MEDI                float64\n",
      " 81   LANDAREA_MEDI                 float64\n",
      " 82   LIVINGAPARTMENTS_MEDI         float64\n",
      " 83   LIVINGAREA_MEDI               float64\n",
      " 84   NONLIVINGAPARTMENTS_MEDI      float64\n",
      " 85   NONLIVINGAREA_MEDI            float64\n",
      " 86   FONDKAPREMONT_MODE            object \n",
      " 87   HOUSETYPE_MODE                object \n",
      " 88   TOTALAREA_MODE                float64\n",
      " 89   WALLSMATERIAL_MODE            object \n",
      " 90   EMERGENCYSTATE_MODE           object \n",
      " 91   OBS_30_CNT_SOCIAL_CIRCLE      float64\n",
      " 92   DEF_30_CNT_SOCIAL_CIRCLE      float64\n",
      " 93   OBS_60_CNT_SOCIAL_CIRCLE      float64\n",
      " 94   DEF_60_CNT_SOCIAL_CIRCLE      float64\n",
      " 95   DAYS_LAST_PHONE_CHANGE        float64\n",
      " 96   FLAG_DOCUMENT_2               int64  \n",
      " 97   FLAG_DOCUMENT_3               int64  \n",
      " 98   FLAG_DOCUMENT_4               int64  \n",
      " 99   FLAG_DOCUMENT_5               int64  \n",
      " 100  FLAG_DOCUMENT_6               int64  \n",
      " 101  FLAG_DOCUMENT_7               int64  \n",
      " 102  FLAG_DOCUMENT_8               int64  \n",
      " 103  FLAG_DOCUMENT_9               int64  \n",
      " 104  FLAG_DOCUMENT_10              int64  \n",
      " 105  FLAG_DOCUMENT_11              int64  \n",
      " 106  FLAG_DOCUMENT_12              int64  \n",
      " 107  FLAG_DOCUMENT_13              int64  \n",
      " 108  FLAG_DOCUMENT_14              int64  \n",
      " 109  FLAG_DOCUMENT_15              int64  \n",
      " 110  FLAG_DOCUMENT_16              int64  \n",
      " 111  FLAG_DOCUMENT_17              int64  \n",
      " 112  FLAG_DOCUMENT_18              int64  \n",
      " 113  FLAG_DOCUMENT_19              int64  \n",
      " 114  FLAG_DOCUMENT_20              int64  \n",
      " 115  FLAG_DOCUMENT_21              int64  \n",
      " 116  AMT_REQ_CREDIT_BUREAU_HOUR    float64\n",
      " 117  AMT_REQ_CREDIT_BUREAU_DAY     float64\n",
      " 118  AMT_REQ_CREDIT_BUREAU_WEEK    float64\n",
      " 119  AMT_REQ_CREDIT_BUREAU_MON     float64\n",
      " 120  AMT_REQ_CREDIT_BUREAU_QRT     float64\n",
      " 121  AMT_REQ_CREDIT_BUREAU_YEAR    float64\n",
      "dtypes: float64(65), int64(41), object(16)\n",
      "memory usage: 286.2+ MB\n"
     ]
    }
   ],
   "source": [
    "application.info(verbose=True);"
   ]
  },
  {
   "cell_type": "code",
   "execution_count": 7,
   "id": "cac8a27a",
   "metadata": {},
   "outputs": [
    {
     "data": {
      "text/html": [
       "<div>\n",
       "<style scoped>\n",
       "    .dataframe tbody tr th:only-of-type {\n",
       "        vertical-align: middle;\n",
       "    }\n",
       "\n",
       "    .dataframe tbody tr th {\n",
       "        vertical-align: top;\n",
       "    }\n",
       "\n",
       "    .dataframe thead th {\n",
       "        text-align: right;\n",
       "    }\n",
       "</style>\n",
       "<table border=\"1\" class=\"dataframe\">\n",
       "  <thead>\n",
       "    <tr style=\"text-align: right;\">\n",
       "      <th></th>\n",
       "      <th>SK_ID_CURR</th>\n",
       "      <th>TARGET</th>\n",
       "      <th>CNT_CHILDREN</th>\n",
       "      <th>AMT_INCOME_TOTAL</th>\n",
       "      <th>AMT_CREDIT</th>\n",
       "      <th>AMT_ANNUITY</th>\n",
       "      <th>AMT_GOODS_PRICE</th>\n",
       "      <th>REGION_POPULATION_RELATIVE</th>\n",
       "      <th>DAYS_BIRTH</th>\n",
       "      <th>DAYS_EMPLOYED</th>\n",
       "      <th>...</th>\n",
       "      <th>FLAG_DOCUMENT_18</th>\n",
       "      <th>FLAG_DOCUMENT_19</th>\n",
       "      <th>FLAG_DOCUMENT_20</th>\n",
       "      <th>FLAG_DOCUMENT_21</th>\n",
       "      <th>AMT_REQ_CREDIT_BUREAU_HOUR</th>\n",
       "      <th>AMT_REQ_CREDIT_BUREAU_DAY</th>\n",
       "      <th>AMT_REQ_CREDIT_BUREAU_WEEK</th>\n",
       "      <th>AMT_REQ_CREDIT_BUREAU_MON</th>\n",
       "      <th>AMT_REQ_CREDIT_BUREAU_QRT</th>\n",
       "      <th>AMT_REQ_CREDIT_BUREAU_YEAR</th>\n",
       "    </tr>\n",
       "  </thead>\n",
       "  <tbody>\n",
       "    <tr>\n",
       "      <th>count</th>\n",
       "      <td>307511.000000</td>\n",
       "      <td>307511.000000</td>\n",
       "      <td>307511.000000</td>\n",
       "      <td>3.075110e+05</td>\n",
       "      <td>3.075110e+05</td>\n",
       "      <td>307499.000000</td>\n",
       "      <td>3.072330e+05</td>\n",
       "      <td>307511.000000</td>\n",
       "      <td>307511.000000</td>\n",
       "      <td>307511.000000</td>\n",
       "      <td>...</td>\n",
       "      <td>307511.000000</td>\n",
       "      <td>307511.000000</td>\n",
       "      <td>307511.000000</td>\n",
       "      <td>307511.000000</td>\n",
       "      <td>265992.000000</td>\n",
       "      <td>265992.000000</td>\n",
       "      <td>265992.000000</td>\n",
       "      <td>265992.000000</td>\n",
       "      <td>265992.000000</td>\n",
       "      <td>265992.000000</td>\n",
       "    </tr>\n",
       "    <tr>\n",
       "      <th>mean</th>\n",
       "      <td>278180.518577</td>\n",
       "      <td>0.080729</td>\n",
       "      <td>0.417052</td>\n",
       "      <td>1.687979e+05</td>\n",
       "      <td>5.990260e+05</td>\n",
       "      <td>27108.573909</td>\n",
       "      <td>5.383962e+05</td>\n",
       "      <td>0.020868</td>\n",
       "      <td>-16036.995067</td>\n",
       "      <td>63815.045904</td>\n",
       "      <td>...</td>\n",
       "      <td>0.008130</td>\n",
       "      <td>0.000595</td>\n",
       "      <td>0.000507</td>\n",
       "      <td>0.000335</td>\n",
       "      <td>0.006402</td>\n",
       "      <td>0.007000</td>\n",
       "      <td>0.034362</td>\n",
       "      <td>0.267395</td>\n",
       "      <td>0.265474</td>\n",
       "      <td>1.899974</td>\n",
       "    </tr>\n",
       "    <tr>\n",
       "      <th>std</th>\n",
       "      <td>102790.175348</td>\n",
       "      <td>0.272419</td>\n",
       "      <td>0.722121</td>\n",
       "      <td>2.371231e+05</td>\n",
       "      <td>4.024908e+05</td>\n",
       "      <td>14493.737315</td>\n",
       "      <td>3.694465e+05</td>\n",
       "      <td>0.013831</td>\n",
       "      <td>4363.988632</td>\n",
       "      <td>141275.766519</td>\n",
       "      <td>...</td>\n",
       "      <td>0.089798</td>\n",
       "      <td>0.024387</td>\n",
       "      <td>0.022518</td>\n",
       "      <td>0.018299</td>\n",
       "      <td>0.083849</td>\n",
       "      <td>0.110757</td>\n",
       "      <td>0.204685</td>\n",
       "      <td>0.916002</td>\n",
       "      <td>0.794056</td>\n",
       "      <td>1.869295</td>\n",
       "    </tr>\n",
       "    <tr>\n",
       "      <th>min</th>\n",
       "      <td>100002.000000</td>\n",
       "      <td>0.000000</td>\n",
       "      <td>0.000000</td>\n",
       "      <td>2.565000e+04</td>\n",
       "      <td>4.500000e+04</td>\n",
       "      <td>1615.500000</td>\n",
       "      <td>4.050000e+04</td>\n",
       "      <td>0.000290</td>\n",
       "      <td>-25229.000000</td>\n",
       "      <td>-17912.000000</td>\n",
       "      <td>...</td>\n",
       "      <td>0.000000</td>\n",
       "      <td>0.000000</td>\n",
       "      <td>0.000000</td>\n",
       "      <td>0.000000</td>\n",
       "      <td>0.000000</td>\n",
       "      <td>0.000000</td>\n",
       "      <td>0.000000</td>\n",
       "      <td>0.000000</td>\n",
       "      <td>0.000000</td>\n",
       "      <td>0.000000</td>\n",
       "    </tr>\n",
       "    <tr>\n",
       "      <th>25%</th>\n",
       "      <td>189145.500000</td>\n",
       "      <td>0.000000</td>\n",
       "      <td>0.000000</td>\n",
       "      <td>1.125000e+05</td>\n",
       "      <td>2.700000e+05</td>\n",
       "      <td>16524.000000</td>\n",
       "      <td>2.385000e+05</td>\n",
       "      <td>0.010006</td>\n",
       "      <td>-19682.000000</td>\n",
       "      <td>-2760.000000</td>\n",
       "      <td>...</td>\n",
       "      <td>0.000000</td>\n",
       "      <td>0.000000</td>\n",
       "      <td>0.000000</td>\n",
       "      <td>0.000000</td>\n",
       "      <td>0.000000</td>\n",
       "      <td>0.000000</td>\n",
       "      <td>0.000000</td>\n",
       "      <td>0.000000</td>\n",
       "      <td>0.000000</td>\n",
       "      <td>0.000000</td>\n",
       "    </tr>\n",
       "    <tr>\n",
       "      <th>50%</th>\n",
       "      <td>278202.000000</td>\n",
       "      <td>0.000000</td>\n",
       "      <td>0.000000</td>\n",
       "      <td>1.471500e+05</td>\n",
       "      <td>5.135310e+05</td>\n",
       "      <td>24903.000000</td>\n",
       "      <td>4.500000e+05</td>\n",
       "      <td>0.018850</td>\n",
       "      <td>-15750.000000</td>\n",
       "      <td>-1213.000000</td>\n",
       "      <td>...</td>\n",
       "      <td>0.000000</td>\n",
       "      <td>0.000000</td>\n",
       "      <td>0.000000</td>\n",
       "      <td>0.000000</td>\n",
       "      <td>0.000000</td>\n",
       "      <td>0.000000</td>\n",
       "      <td>0.000000</td>\n",
       "      <td>0.000000</td>\n",
       "      <td>0.000000</td>\n",
       "      <td>1.000000</td>\n",
       "    </tr>\n",
       "    <tr>\n",
       "      <th>75%</th>\n",
       "      <td>367142.500000</td>\n",
       "      <td>0.000000</td>\n",
       "      <td>1.000000</td>\n",
       "      <td>2.025000e+05</td>\n",
       "      <td>8.086500e+05</td>\n",
       "      <td>34596.000000</td>\n",
       "      <td>6.795000e+05</td>\n",
       "      <td>0.028663</td>\n",
       "      <td>-12413.000000</td>\n",
       "      <td>-289.000000</td>\n",
       "      <td>...</td>\n",
       "      <td>0.000000</td>\n",
       "      <td>0.000000</td>\n",
       "      <td>0.000000</td>\n",
       "      <td>0.000000</td>\n",
       "      <td>0.000000</td>\n",
       "      <td>0.000000</td>\n",
       "      <td>0.000000</td>\n",
       "      <td>0.000000</td>\n",
       "      <td>0.000000</td>\n",
       "      <td>3.000000</td>\n",
       "    </tr>\n",
       "    <tr>\n",
       "      <th>max</th>\n",
       "      <td>456255.000000</td>\n",
       "      <td>1.000000</td>\n",
       "      <td>19.000000</td>\n",
       "      <td>1.170000e+08</td>\n",
       "      <td>4.050000e+06</td>\n",
       "      <td>258025.500000</td>\n",
       "      <td>4.050000e+06</td>\n",
       "      <td>0.072508</td>\n",
       "      <td>-7489.000000</td>\n",
       "      <td>365243.000000</td>\n",
       "      <td>...</td>\n",
       "      <td>1.000000</td>\n",
       "      <td>1.000000</td>\n",
       "      <td>1.000000</td>\n",
       "      <td>1.000000</td>\n",
       "      <td>4.000000</td>\n",
       "      <td>9.000000</td>\n",
       "      <td>8.000000</td>\n",
       "      <td>27.000000</td>\n",
       "      <td>261.000000</td>\n",
       "      <td>25.000000</td>\n",
       "    </tr>\n",
       "  </tbody>\n",
       "</table>\n",
       "<p>8 rows × 106 columns</p>\n",
       "</div>"
      ],
      "text/plain": [
       "          SK_ID_CURR         TARGET   CNT_CHILDREN  AMT_INCOME_TOTAL  \\\n",
       "count  307511.000000  307511.000000  307511.000000      3.075110e+05   \n",
       "mean   278180.518577       0.080729       0.417052      1.687979e+05   \n",
       "std    102790.175348       0.272419       0.722121      2.371231e+05   \n",
       "min    100002.000000       0.000000       0.000000      2.565000e+04   \n",
       "25%    189145.500000       0.000000       0.000000      1.125000e+05   \n",
       "50%    278202.000000       0.000000       0.000000      1.471500e+05   \n",
       "75%    367142.500000       0.000000       1.000000      2.025000e+05   \n",
       "max    456255.000000       1.000000      19.000000      1.170000e+08   \n",
       "\n",
       "         AMT_CREDIT    AMT_ANNUITY  AMT_GOODS_PRICE  \\\n",
       "count  3.075110e+05  307499.000000     3.072330e+05   \n",
       "mean   5.990260e+05   27108.573909     5.383962e+05   \n",
       "std    4.024908e+05   14493.737315     3.694465e+05   \n",
       "min    4.500000e+04    1615.500000     4.050000e+04   \n",
       "25%    2.700000e+05   16524.000000     2.385000e+05   \n",
       "50%    5.135310e+05   24903.000000     4.500000e+05   \n",
       "75%    8.086500e+05   34596.000000     6.795000e+05   \n",
       "max    4.050000e+06  258025.500000     4.050000e+06   \n",
       "\n",
       "       REGION_POPULATION_RELATIVE     DAYS_BIRTH  DAYS_EMPLOYED  ...  \\\n",
       "count               307511.000000  307511.000000  307511.000000  ...   \n",
       "mean                     0.020868  -16036.995067   63815.045904  ...   \n",
       "std                      0.013831    4363.988632  141275.766519  ...   \n",
       "min                      0.000290  -25229.000000  -17912.000000  ...   \n",
       "25%                      0.010006  -19682.000000   -2760.000000  ...   \n",
       "50%                      0.018850  -15750.000000   -1213.000000  ...   \n",
       "75%                      0.028663  -12413.000000    -289.000000  ...   \n",
       "max                      0.072508   -7489.000000  365243.000000  ...   \n",
       "\n",
       "       FLAG_DOCUMENT_18  FLAG_DOCUMENT_19  FLAG_DOCUMENT_20  FLAG_DOCUMENT_21  \\\n",
       "count     307511.000000     307511.000000     307511.000000     307511.000000   \n",
       "mean           0.008130          0.000595          0.000507          0.000335   \n",
       "std            0.089798          0.024387          0.022518          0.018299   \n",
       "min            0.000000          0.000000          0.000000          0.000000   \n",
       "25%            0.000000          0.000000          0.000000          0.000000   \n",
       "50%            0.000000          0.000000          0.000000          0.000000   \n",
       "75%            0.000000          0.000000          0.000000          0.000000   \n",
       "max            1.000000          1.000000          1.000000          1.000000   \n",
       "\n",
       "       AMT_REQ_CREDIT_BUREAU_HOUR  AMT_REQ_CREDIT_BUREAU_DAY  \\\n",
       "count               265992.000000              265992.000000   \n",
       "mean                     0.006402                   0.007000   \n",
       "std                      0.083849                   0.110757   \n",
       "min                      0.000000                   0.000000   \n",
       "25%                      0.000000                   0.000000   \n",
       "50%                      0.000000                   0.000000   \n",
       "75%                      0.000000                   0.000000   \n",
       "max                      4.000000                   9.000000   \n",
       "\n",
       "       AMT_REQ_CREDIT_BUREAU_WEEK  AMT_REQ_CREDIT_BUREAU_MON  \\\n",
       "count               265992.000000              265992.000000   \n",
       "mean                     0.034362                   0.267395   \n",
       "std                      0.204685                   0.916002   \n",
       "min                      0.000000                   0.000000   \n",
       "25%                      0.000000                   0.000000   \n",
       "50%                      0.000000                   0.000000   \n",
       "75%                      0.000000                   0.000000   \n",
       "max                      8.000000                  27.000000   \n",
       "\n",
       "       AMT_REQ_CREDIT_BUREAU_QRT  AMT_REQ_CREDIT_BUREAU_YEAR  \n",
       "count              265992.000000               265992.000000  \n",
       "mean                    0.265474                    1.899974  \n",
       "std                     0.794056                    1.869295  \n",
       "min                     0.000000                    0.000000  \n",
       "25%                     0.000000                    0.000000  \n",
       "50%                     0.000000                    1.000000  \n",
       "75%                     0.000000                    3.000000  \n",
       "max                   261.000000                   25.000000  \n",
       "\n",
       "[8 rows x 106 columns]"
      ]
     },
     "execution_count": 7,
     "metadata": {},
     "output_type": "execute_result"
    }
   ],
   "source": [
    "application.describe()"
   ]
  },
  {
   "cell_type": "code",
   "execution_count": 8,
   "id": "6d590385",
   "metadata": {},
   "outputs": [
    {
     "name": "stdout",
     "output_type": "stream",
     "text": [
      "<class 'pandas.core.frame.DataFrame'>\n",
      "RangeIndex: 1048575 entries, 0 to 1048574\n",
      "Data columns (total 37 columns):\n",
      " #   Column                       Non-Null Count    Dtype  \n",
      "---  ------                       --------------    -----  \n",
      " 0   SK_ID_PREV                   1048575 non-null  int64  \n",
      " 1   SK_ID_CURR                   1048575 non-null  int64  \n",
      " 2   NAME_CONTRACT_TYPE           1048575 non-null  object \n",
      " 3   AMT_ANNUITY                  815566 non-null   float64\n",
      " 4   AMT_APPLICATION              1048575 non-null  float64\n",
      " 5   AMT_CREDIT                   1048575 non-null  float64\n",
      " 6   AMT_DOWN_PAYMENT             489179 non-null   float64\n",
      " 7   AMT_GOODS_PRICE              807610 non-null   float64\n",
      " 8   WEEKDAY_APPR_PROCESS_START   1048575 non-null  object \n",
      " 9   HOUR_APPR_PROCESS_START      1048575 non-null  int64  \n",
      " 10  FLAG_LAST_APPL_PER_CONTRACT  1048575 non-null  object \n",
      " 11  NFLAG_LAST_APPL_IN_DAY       1048575 non-null  int64  \n",
      " 12  RATE_DOWN_PAYMENT            489179 non-null   float64\n",
      " 13  RATE_INTEREST_PRIMARY        3721 non-null     float64\n",
      " 14  RATE_INTEREST_PRIVILEGED     3721 non-null     float64\n",
      " 15  NAME_CASH_LOAN_PURPOSE       1048575 non-null  object \n",
      " 16  NAME_CONTRACT_STATUS         1048575 non-null  object \n",
      " 17  DAYS_DECISION                1048575 non-null  int64  \n",
      " 18  NAME_PAYMENT_TYPE            1048575 non-null  object \n",
      " 19  CODE_REJECT_REASON           1048575 non-null  object \n",
      " 20  NAME_TYPE_SUITE              533435 non-null   object \n",
      " 21  NAME_CLIENT_TYPE             1048575 non-null  object \n",
      " 22  NAME_GOODS_CATEGORY          1048575 non-null  object \n",
      " 23  NAME_PORTFOLIO               1048575 non-null  object \n",
      " 24  NAME_PRODUCT_TYPE            1048575 non-null  object \n",
      " 25  CHANNEL_TYPE                 1048575 non-null  object \n",
      " 26  SELLERPLACE_AREA             1048575 non-null  int64  \n",
      " 27  NAME_SELLER_INDUSTRY         1048575 non-null  object \n",
      " 28  CNT_PAYMENT                  815569 non-null   float64\n",
      " 29  NAME_YIELD_GROUP             1048575 non-null  object \n",
      " 30  PRODUCT_COMBINATION          1048351 non-null  object \n",
      " 31  DAYS_FIRST_DRAWING           627867 non-null   float64\n",
      " 32  DAYS_FIRST_DUE               627867 non-null   float64\n",
      " 33  DAYS_LAST_DUE_1ST_VERSION    627867 non-null   float64\n",
      " 34  DAYS_LAST_DUE                627867 non-null   float64\n",
      " 35  DAYS_TERMINATION             627867 non-null   float64\n",
      " 36  NFLAG_INSURED_ON_APPROVAL    627867 non-null   float64\n",
      "dtypes: float64(15), int64(6), object(16)\n",
      "memory usage: 296.0+ MB\n"
     ]
    }
   ],
   "source": [
    "pre_application.info()"
   ]
  },
  {
   "cell_type": "code",
   "execution_count": 9,
   "id": "9e398869",
   "metadata": {},
   "outputs": [
    {
     "data": {
      "text/html": [
       "<div>\n",
       "<style scoped>\n",
       "    .dataframe tbody tr th:only-of-type {\n",
       "        vertical-align: middle;\n",
       "    }\n",
       "\n",
       "    .dataframe tbody tr th {\n",
       "        vertical-align: top;\n",
       "    }\n",
       "\n",
       "    .dataframe thead th {\n",
       "        text-align: right;\n",
       "    }\n",
       "</style>\n",
       "<table border=\"1\" class=\"dataframe\">\n",
       "  <thead>\n",
       "    <tr style=\"text-align: right;\">\n",
       "      <th></th>\n",
       "      <th>SK_ID_PREV</th>\n",
       "      <th>SK_ID_CURR</th>\n",
       "      <th>AMT_ANNUITY</th>\n",
       "      <th>AMT_APPLICATION</th>\n",
       "      <th>AMT_CREDIT</th>\n",
       "      <th>AMT_DOWN_PAYMENT</th>\n",
       "      <th>AMT_GOODS_PRICE</th>\n",
       "      <th>HOUR_APPR_PROCESS_START</th>\n",
       "      <th>NFLAG_LAST_APPL_IN_DAY</th>\n",
       "      <th>RATE_DOWN_PAYMENT</th>\n",
       "      <th>...</th>\n",
       "      <th>RATE_INTEREST_PRIVILEGED</th>\n",
       "      <th>DAYS_DECISION</th>\n",
       "      <th>SELLERPLACE_AREA</th>\n",
       "      <th>CNT_PAYMENT</th>\n",
       "      <th>DAYS_FIRST_DRAWING</th>\n",
       "      <th>DAYS_FIRST_DUE</th>\n",
       "      <th>DAYS_LAST_DUE_1ST_VERSION</th>\n",
       "      <th>DAYS_LAST_DUE</th>\n",
       "      <th>DAYS_TERMINATION</th>\n",
       "      <th>NFLAG_INSURED_ON_APPROVAL</th>\n",
       "    </tr>\n",
       "  </thead>\n",
       "  <tbody>\n",
       "    <tr>\n",
       "      <th>count</th>\n",
       "      <td>1.048575e+06</td>\n",
       "      <td>1.048575e+06</td>\n",
       "      <td>815566.000000</td>\n",
       "      <td>1.048575e+06</td>\n",
       "      <td>1.048575e+06</td>\n",
       "      <td>4.891790e+05</td>\n",
       "      <td>8.076100e+05</td>\n",
       "      <td>1.048575e+06</td>\n",
       "      <td>1.048575e+06</td>\n",
       "      <td>489179.000000</td>\n",
       "      <td>...</td>\n",
       "      <td>3721.000000</td>\n",
       "      <td>1.048575e+06</td>\n",
       "      <td>1.048575e+06</td>\n",
       "      <td>815569.000000</td>\n",
       "      <td>627867.000000</td>\n",
       "      <td>627867.000000</td>\n",
       "      <td>627867.000000</td>\n",
       "      <td>627867.000000</td>\n",
       "      <td>627867.000000</td>\n",
       "      <td>627867.000000</td>\n",
       "    </tr>\n",
       "    <tr>\n",
       "      <th>mean</th>\n",
       "      <td>1.922775e+06</td>\n",
       "      <td>2.784367e+05</td>\n",
       "      <td>15891.265151</td>\n",
       "      <td>1.742698e+05</td>\n",
       "      <td>1.950000e+05</td>\n",
       "      <td>6.700778e+03</td>\n",
       "      <td>2.262892e+05</td>\n",
       "      <td>1.248486e+01</td>\n",
       "      <td>9.964123e-01</td>\n",
       "      <td>0.079619</td>\n",
       "      <td>...</td>\n",
       "      <td>0.774922</td>\n",
       "      <td>-8.820381e+02</td>\n",
       "      <td>3.183904e+02</td>\n",
       "      <td>15.995639</td>\n",
       "      <td>342387.346201</td>\n",
       "      <td>13833.802031</td>\n",
       "      <td>33614.930898</td>\n",
       "      <td>76591.061435</td>\n",
       "      <td>81985.701661</td>\n",
       "      <td>0.331530</td>\n",
       "    </tr>\n",
       "    <tr>\n",
       "      <th>std</th>\n",
       "      <td>5.329366e+05</td>\n",
       "      <td>1.028569e+05</td>\n",
       "      <td>14745.557438</td>\n",
       "      <td>2.910789e+05</td>\n",
       "      <td>3.169407e+05</td>\n",
       "      <td>2.078570e+04</td>\n",
       "      <td>3.134490e+05</td>\n",
       "      <td>3.333140e+00</td>\n",
       "      <td>5.979011e-02</td>\n",
       "      <td>0.107882</td>\n",
       "      <td>...</td>\n",
       "      <td>0.099514</td>\n",
       "      <td>7.792649e+02</td>\n",
       "      <td>7.996734e+03</td>\n",
       "      <td>14.508109</td>\n",
       "      <td>88595.441587</td>\n",
       "      <td>72460.126454</td>\n",
       "      <td>106643.960780</td>\n",
       "      <td>149653.053854</td>\n",
       "      <td>153298.887247</td>\n",
       "      <td>0.470764</td>\n",
       "    </tr>\n",
       "    <tr>\n",
       "      <th>min</th>\n",
       "      <td>1.000001e+06</td>\n",
       "      <td>1.000010e+05</td>\n",
       "      <td>0.000000</td>\n",
       "      <td>0.000000e+00</td>\n",
       "      <td>0.000000e+00</td>\n",
       "      <td>-9.000000e-01</td>\n",
       "      <td>0.000000e+00</td>\n",
       "      <td>0.000000e+00</td>\n",
       "      <td>0.000000e+00</td>\n",
       "      <td>-0.000014</td>\n",
       "      <td>...</td>\n",
       "      <td>0.373150</td>\n",
       "      <td>-2.922000e+03</td>\n",
       "      <td>-1.000000e+00</td>\n",
       "      <td>0.000000</td>\n",
       "      <td>-2921.000000</td>\n",
       "      <td>-2892.000000</td>\n",
       "      <td>-2801.000000</td>\n",
       "      <td>-2889.000000</td>\n",
       "      <td>-2874.000000</td>\n",
       "      <td>0.000000</td>\n",
       "    </tr>\n",
       "    <tr>\n",
       "      <th>25%</th>\n",
       "      <td>1.460642e+06</td>\n",
       "      <td>1.893860e+05</td>\n",
       "      <td>6301.350000</td>\n",
       "      <td>1.890000e+04</td>\n",
       "      <td>2.427750e+04</td>\n",
       "      <td>0.000000e+00</td>\n",
       "      <td>5.058000e+04</td>\n",
       "      <td>1.000000e+01</td>\n",
       "      <td>1.000000e+00</td>\n",
       "      <td>0.000000</td>\n",
       "      <td>...</td>\n",
       "      <td>0.715645</td>\n",
       "      <td>-1.303000e+03</td>\n",
       "      <td>-1.000000e+00</td>\n",
       "      <td>6.000000</td>\n",
       "      <td>365243.000000</td>\n",
       "      <td>-1626.000000</td>\n",
       "      <td>-1241.000000</td>\n",
       "      <td>-1313.000000</td>\n",
       "      <td>-1269.000000</td>\n",
       "      <td>0.000000</td>\n",
       "    </tr>\n",
       "    <tr>\n",
       "      <th>50%</th>\n",
       "      <td>1.923419e+06</td>\n",
       "      <td>2.788100e+05</td>\n",
       "      <td>11250.000000</td>\n",
       "      <td>7.081650e+04</td>\n",
       "      <td>8.025300e+04</td>\n",
       "      <td>1.624500e+03</td>\n",
       "      <td>1.115116e+05</td>\n",
       "      <td>1.200000e+01</td>\n",
       "      <td>1.000000e+00</td>\n",
       "      <td>0.051062</td>\n",
       "      <td>...</td>\n",
       "      <td>0.835095</td>\n",
       "      <td>-5.830000e+02</td>\n",
       "      <td>4.000000e+00</td>\n",
       "      <td>12.000000</td>\n",
       "      <td>365243.000000</td>\n",
       "      <td>-830.000000</td>\n",
       "      <td>-361.000000</td>\n",
       "      <td>-537.000000</td>\n",
       "      <td>-498.000000</td>\n",
       "      <td>0.000000</td>\n",
       "    </tr>\n",
       "    <tr>\n",
       "      <th>75%</th>\n",
       "      <td>2.384448e+06</td>\n",
       "      <td>3.677445e+05</td>\n",
       "      <td>20523.003750</td>\n",
       "      <td>1.800000e+05</td>\n",
       "      <td>2.152395e+05</td>\n",
       "      <td>7.749000e+03</td>\n",
       "      <td>2.295000e+05</td>\n",
       "      <td>1.500000e+01</td>\n",
       "      <td>1.000000e+00</td>\n",
       "      <td>0.108909</td>\n",
       "      <td>...</td>\n",
       "      <td>0.852537</td>\n",
       "      <td>-2.810000e+02</td>\n",
       "      <td>8.500000e+01</td>\n",
       "      <td>24.000000</td>\n",
       "      <td>365243.000000</td>\n",
       "      <td>-410.000000</td>\n",
       "      <td>128.000000</td>\n",
       "      <td>-74.000000</td>\n",
       "      <td>-44.000000</td>\n",
       "      <td>1.000000</td>\n",
       "    </tr>\n",
       "    <tr>\n",
       "      <th>max</th>\n",
       "      <td>2.845382e+06</td>\n",
       "      <td>4.562550e+05</td>\n",
       "      <td>418058.145000</td>\n",
       "      <td>6.905160e+06</td>\n",
       "      <td>6.905160e+06</td>\n",
       "      <td>2.150100e+06</td>\n",
       "      <td>6.905160e+06</td>\n",
       "      <td>2.300000e+01</td>\n",
       "      <td>1.000000e+00</td>\n",
       "      <td>0.989740</td>\n",
       "      <td>...</td>\n",
       "      <td>1.000000</td>\n",
       "      <td>-2.000000e+00</td>\n",
       "      <td>4.000000e+06</td>\n",
       "      <td>84.000000</td>\n",
       "      <td>365243.000000</td>\n",
       "      <td>365243.000000</td>\n",
       "      <td>365243.000000</td>\n",
       "      <td>365243.000000</td>\n",
       "      <td>365243.000000</td>\n",
       "      <td>1.000000</td>\n",
       "    </tr>\n",
       "  </tbody>\n",
       "</table>\n",
       "<p>8 rows × 21 columns</p>\n",
       "</div>"
      ],
      "text/plain": [
       "         SK_ID_PREV    SK_ID_CURR    AMT_ANNUITY  AMT_APPLICATION  \\\n",
       "count  1.048575e+06  1.048575e+06  815566.000000     1.048575e+06   \n",
       "mean   1.922775e+06  2.784367e+05   15891.265151     1.742698e+05   \n",
       "std    5.329366e+05  1.028569e+05   14745.557438     2.910789e+05   \n",
       "min    1.000001e+06  1.000010e+05       0.000000     0.000000e+00   \n",
       "25%    1.460642e+06  1.893860e+05    6301.350000     1.890000e+04   \n",
       "50%    1.923419e+06  2.788100e+05   11250.000000     7.081650e+04   \n",
       "75%    2.384448e+06  3.677445e+05   20523.003750     1.800000e+05   \n",
       "max    2.845382e+06  4.562550e+05  418058.145000     6.905160e+06   \n",
       "\n",
       "         AMT_CREDIT  AMT_DOWN_PAYMENT  AMT_GOODS_PRICE  \\\n",
       "count  1.048575e+06      4.891790e+05     8.076100e+05   \n",
       "mean   1.950000e+05      6.700778e+03     2.262892e+05   \n",
       "std    3.169407e+05      2.078570e+04     3.134490e+05   \n",
       "min    0.000000e+00     -9.000000e-01     0.000000e+00   \n",
       "25%    2.427750e+04      0.000000e+00     5.058000e+04   \n",
       "50%    8.025300e+04      1.624500e+03     1.115116e+05   \n",
       "75%    2.152395e+05      7.749000e+03     2.295000e+05   \n",
       "max    6.905160e+06      2.150100e+06     6.905160e+06   \n",
       "\n",
       "       HOUR_APPR_PROCESS_START  NFLAG_LAST_APPL_IN_DAY  RATE_DOWN_PAYMENT  \\\n",
       "count             1.048575e+06            1.048575e+06      489179.000000   \n",
       "mean              1.248486e+01            9.964123e-01           0.079619   \n",
       "std               3.333140e+00            5.979011e-02           0.107882   \n",
       "min               0.000000e+00            0.000000e+00          -0.000014   \n",
       "25%               1.000000e+01            1.000000e+00           0.000000   \n",
       "50%               1.200000e+01            1.000000e+00           0.051062   \n",
       "75%               1.500000e+01            1.000000e+00           0.108909   \n",
       "max               2.300000e+01            1.000000e+00           0.989740   \n",
       "\n",
       "       ...  RATE_INTEREST_PRIVILEGED  DAYS_DECISION  SELLERPLACE_AREA  \\\n",
       "count  ...               3721.000000   1.048575e+06      1.048575e+06   \n",
       "mean   ...                  0.774922  -8.820381e+02      3.183904e+02   \n",
       "std    ...                  0.099514   7.792649e+02      7.996734e+03   \n",
       "min    ...                  0.373150  -2.922000e+03     -1.000000e+00   \n",
       "25%    ...                  0.715645  -1.303000e+03     -1.000000e+00   \n",
       "50%    ...                  0.835095  -5.830000e+02      4.000000e+00   \n",
       "75%    ...                  0.852537  -2.810000e+02      8.500000e+01   \n",
       "max    ...                  1.000000  -2.000000e+00      4.000000e+06   \n",
       "\n",
       "         CNT_PAYMENT  DAYS_FIRST_DRAWING  DAYS_FIRST_DUE  \\\n",
       "count  815569.000000       627867.000000   627867.000000   \n",
       "mean       15.995639       342387.346201    13833.802031   \n",
       "std        14.508109        88595.441587    72460.126454   \n",
       "min         0.000000        -2921.000000    -2892.000000   \n",
       "25%         6.000000       365243.000000    -1626.000000   \n",
       "50%        12.000000       365243.000000     -830.000000   \n",
       "75%        24.000000       365243.000000     -410.000000   \n",
       "max        84.000000       365243.000000   365243.000000   \n",
       "\n",
       "       DAYS_LAST_DUE_1ST_VERSION  DAYS_LAST_DUE  DAYS_TERMINATION  \\\n",
       "count              627867.000000  627867.000000     627867.000000   \n",
       "mean                33614.930898   76591.061435      81985.701661   \n",
       "std                106643.960780  149653.053854     153298.887247   \n",
       "min                 -2801.000000   -2889.000000      -2874.000000   \n",
       "25%                 -1241.000000   -1313.000000      -1269.000000   \n",
       "50%                  -361.000000    -537.000000       -498.000000   \n",
       "75%                   128.000000     -74.000000        -44.000000   \n",
       "max                365243.000000  365243.000000     365243.000000   \n",
       "\n",
       "       NFLAG_INSURED_ON_APPROVAL  \n",
       "count              627867.000000  \n",
       "mean                    0.331530  \n",
       "std                     0.470764  \n",
       "min                     0.000000  \n",
       "25%                     0.000000  \n",
       "50%                     0.000000  \n",
       "75%                     1.000000  \n",
       "max                     1.000000  \n",
       "\n",
       "[8 rows x 21 columns]"
      ]
     },
     "execution_count": 9,
     "metadata": {},
     "output_type": "execute_result"
    }
   ],
   "source": [
    "pre_application.describe()"
   ]
  },
  {
   "cell_type": "markdown",
   "id": "03ad82ae",
   "metadata": {},
   "source": [
    " <font color='Red'>Cleaning Data</font>\n"
   ]
  },
  {
   "cell_type": "code",
   "execution_count": 10,
   "id": "1bcc6bee",
   "metadata": {},
   "outputs": [
    {
     "data": {
      "text/plain": [
       "True"
      ]
     },
     "execution_count": 10,
     "metadata": {},
     "output_type": "execute_result"
    }
   ],
   "source": [
    "application.isnull().values.any() "
   ]
  },
  {
   "cell_type": "code",
   "execution_count": 12,
   "id": "6878f950",
   "metadata": {},
   "outputs": [
    {
     "data": {
      "text/plain": [
       "SK_ID_PREV                           0\n",
       "SK_ID_CURR                           0\n",
       "NAME_CONTRACT_TYPE                   0\n",
       "AMT_ANNUITY                     233009\n",
       "AMT_APPLICATION                      0\n",
       "AMT_CREDIT                           0\n",
       "AMT_DOWN_PAYMENT                559396\n",
       "AMT_GOODS_PRICE                 240965\n",
       "WEEKDAY_APPR_PROCESS_START           0\n",
       "HOUR_APPR_PROCESS_START              0\n",
       "FLAG_LAST_APPL_PER_CONTRACT          0\n",
       "NFLAG_LAST_APPL_IN_DAY               0\n",
       "RATE_DOWN_PAYMENT               559396\n",
       "RATE_INTEREST_PRIMARY          1044854\n",
       "RATE_INTEREST_PRIVILEGED       1044854\n",
       "NAME_CASH_LOAN_PURPOSE               0\n",
       "NAME_CONTRACT_STATUS                 0\n",
       "DAYS_DECISION                        0\n",
       "NAME_PAYMENT_TYPE                    0\n",
       "CODE_REJECT_REASON                   0\n",
       "NAME_TYPE_SUITE                 515140\n",
       "NAME_CLIENT_TYPE                     0\n",
       "NAME_GOODS_CATEGORY                  0\n",
       "NAME_PORTFOLIO                       0\n",
       "NAME_PRODUCT_TYPE                    0\n",
       "CHANNEL_TYPE                         0\n",
       "SELLERPLACE_AREA                     0\n",
       "NAME_SELLER_INDUSTRY                 0\n",
       "CNT_PAYMENT                     233006\n",
       "NAME_YIELD_GROUP                     0\n",
       "PRODUCT_COMBINATION                224\n",
       "DAYS_FIRST_DRAWING              420708\n",
       "DAYS_FIRST_DUE                  420708\n",
       "DAYS_LAST_DUE_1ST_VERSION       420708\n",
       "DAYS_LAST_DUE                   420708\n",
       "DAYS_TERMINATION                420708\n",
       "NFLAG_INSURED_ON_APPROVAL       420708\n",
       "dtype: int64"
      ]
     },
     "execution_count": 12,
     "metadata": {},
     "output_type": "execute_result"
    }
   ],
   "source": [
    "pre_application.isnull().sum()"
   ]
  },
  {
   "cell_type": "code",
   "execution_count": 13,
   "id": "a7ce0381",
   "metadata": {},
   "outputs": [
    {
     "data": {
      "text/plain": [
       "SK_ID_CURR                           0\n",
       "TARGET                               0\n",
       "NAME_CONTRACT_TYPE                   0\n",
       "CODE_GENDER                          0\n",
       "FLAG_OWN_CAR                         0\n",
       "FLAG_OWN_REALTY                      0\n",
       "CNT_CHILDREN                         0\n",
       "AMT_INCOME_TOTAL                     0\n",
       "AMT_CREDIT                           0\n",
       "AMT_ANNUITY                         12\n",
       "AMT_GOODS_PRICE                    278\n",
       "NAME_TYPE_SUITE                   1292\n",
       "NAME_INCOME_TYPE                     0\n",
       "NAME_EDUCATION_TYPE                  0\n",
       "NAME_FAMILY_STATUS                   0\n",
       "NAME_HOUSING_TYPE                    0\n",
       "REGION_POPULATION_RELATIVE           0\n",
       "DAYS_BIRTH                           0\n",
       "DAYS_EMPLOYED                        0\n",
       "DAYS_REGISTRATION                    0\n",
       "DAYS_ID_PUBLISH                      0\n",
       "OWN_CAR_AGE                     202929\n",
       "FLAG_MOBIL                           0\n",
       "FLAG_EMP_PHONE                       0\n",
       "FLAG_WORK_PHONE                      0\n",
       "FLAG_CONT_MOBILE                     0\n",
       "FLAG_PHONE                           0\n",
       "FLAG_EMAIL                           0\n",
       "OCCUPATION_TYPE                  96391\n",
       "CNT_FAM_MEMBERS                      2\n",
       "REGION_RATING_CLIENT                 0\n",
       "REGION_RATING_CLIENT_W_CITY          0\n",
       "WEEKDAY_APPR_PROCESS_START           0\n",
       "HOUR_APPR_PROCESS_START              0\n",
       "REG_REGION_NOT_LIVE_REGION           0\n",
       "REG_REGION_NOT_WORK_REGION           0\n",
       "LIVE_REGION_NOT_WORK_REGION          0\n",
       "REG_CITY_NOT_LIVE_CITY               0\n",
       "REG_CITY_NOT_WORK_CITY               0\n",
       "LIVE_CITY_NOT_WORK_CITY              0\n",
       "ORGANIZATION_TYPE                    0\n",
       "EXT_SOURCE_1                    173378\n",
       "EXT_SOURCE_2                       660\n",
       "EXT_SOURCE_3                     60965\n",
       "APARTMENTS_AVG                  156061\n",
       "BASEMENTAREA_AVG                179943\n",
       "YEARS_BEGINEXPLUATATION_AVG     150007\n",
       "YEARS_BUILD_AVG                 204488\n",
       "COMMONAREA_AVG                  214865\n",
       "ELEVATORS_AVG                   163891\n",
       "ENTRANCES_AVG                   154828\n",
       "FLOORSMAX_AVG                   153020\n",
       "FLOORSMIN_AVG                   208642\n",
       "LANDAREA_AVG                    182590\n",
       "LIVINGAPARTMENTS_AVG            210199\n",
       "LIVINGAREA_AVG                  154350\n",
       "NONLIVINGAPARTMENTS_AVG         213514\n",
       "NONLIVINGAREA_AVG               169682\n",
       "APARTMENTS_MODE                 156061\n",
       "BASEMENTAREA_MODE               179943\n",
       "YEARS_BEGINEXPLUATATION_MODE    150007\n",
       "YEARS_BUILD_MODE                204488\n",
       "COMMONAREA_MODE                 214865\n",
       "ELEVATORS_MODE                  163891\n",
       "ENTRANCES_MODE                  154828\n",
       "FLOORSMAX_MODE                  153020\n",
       "FLOORSMIN_MODE                  208642\n",
       "LANDAREA_MODE                   182590\n",
       "LIVINGAPARTMENTS_MODE           210199\n",
       "LIVINGAREA_MODE                 154350\n",
       "NONLIVINGAPARTMENTS_MODE        213514\n",
       "NONLIVINGAREA_MODE              169682\n",
       "APARTMENTS_MEDI                 156061\n",
       "BASEMENTAREA_MEDI               179943\n",
       "YEARS_BEGINEXPLUATATION_MEDI    150007\n",
       "YEARS_BUILD_MEDI                204488\n",
       "COMMONAREA_MEDI                 214865\n",
       "ELEVATORS_MEDI                  163891\n",
       "ENTRANCES_MEDI                  154828\n",
       "FLOORSMAX_MEDI                  153020\n",
       "FLOORSMIN_MEDI                  208642\n",
       "LANDAREA_MEDI                   182590\n",
       "LIVINGAPARTMENTS_MEDI           210199\n",
       "LIVINGAREA_MEDI                 154350\n",
       "NONLIVINGAPARTMENTS_MEDI        213514\n",
       "NONLIVINGAREA_MEDI              169682\n",
       "FONDKAPREMONT_MODE              210295\n",
       "HOUSETYPE_MODE                  154297\n",
       "TOTALAREA_MODE                  148431\n",
       "WALLSMATERIAL_MODE              156341\n",
       "EMERGENCYSTATE_MODE             145755\n",
       "OBS_30_CNT_SOCIAL_CIRCLE          1021\n",
       "DEF_30_CNT_SOCIAL_CIRCLE          1021\n",
       "OBS_60_CNT_SOCIAL_CIRCLE          1021\n",
       "DEF_60_CNT_SOCIAL_CIRCLE          1021\n",
       "DAYS_LAST_PHONE_CHANGE               1\n",
       "FLAG_DOCUMENT_2                      0\n",
       "FLAG_DOCUMENT_3                      0\n",
       "FLAG_DOCUMENT_4                      0\n",
       "FLAG_DOCUMENT_5                      0\n",
       "FLAG_DOCUMENT_6                      0\n",
       "FLAG_DOCUMENT_7                      0\n",
       "FLAG_DOCUMENT_8                      0\n",
       "FLAG_DOCUMENT_9                      0\n",
       "FLAG_DOCUMENT_10                     0\n",
       "FLAG_DOCUMENT_11                     0\n",
       "FLAG_DOCUMENT_12                     0\n",
       "FLAG_DOCUMENT_13                     0\n",
       "FLAG_DOCUMENT_14                     0\n",
       "FLAG_DOCUMENT_15                     0\n",
       "FLAG_DOCUMENT_16                     0\n",
       "FLAG_DOCUMENT_17                     0\n",
       "FLAG_DOCUMENT_18                     0\n",
       "FLAG_DOCUMENT_19                     0\n",
       "FLAG_DOCUMENT_20                     0\n",
       "FLAG_DOCUMENT_21                     0\n",
       "AMT_REQ_CREDIT_BUREAU_HOUR       41519\n",
       "AMT_REQ_CREDIT_BUREAU_DAY        41519\n",
       "AMT_REQ_CREDIT_BUREAU_WEEK       41519\n",
       "AMT_REQ_CREDIT_BUREAU_MON        41519\n",
       "AMT_REQ_CREDIT_BUREAU_QRT        41519\n",
       "AMT_REQ_CREDIT_BUREAU_YEAR       41519\n",
       "dtype: int64"
      ]
     },
     "execution_count": 13,
     "metadata": {},
     "output_type": "execute_result"
    }
   ],
   "source": [
    "application.isnull().sum()\n"
   ]
  },
  {
   "cell_type": "code",
   "execution_count": 14,
   "id": "d0333857",
   "metadata": {},
   "outputs": [],
   "source": [
    "null_values= pd.DataFrame(application.isnull().sum()*100/application.shape[0]).reset_index()"
   ]
  },
  {
   "cell_type": "code",
   "execution_count": 15,
   "id": "0528a038",
   "metadata": {},
   "outputs": [
    {
     "data": {
      "text/html": [
       "<div>\n",
       "<style scoped>\n",
       "    .dataframe tbody tr th:only-of-type {\n",
       "        vertical-align: middle;\n",
       "    }\n",
       "\n",
       "    .dataframe tbody tr th {\n",
       "        vertical-align: top;\n",
       "    }\n",
       "\n",
       "    .dataframe thead th {\n",
       "        text-align: right;\n",
       "    }\n",
       "</style>\n",
       "<table border=\"1\" class=\"dataframe\">\n",
       "  <thead>\n",
       "    <tr style=\"text-align: right;\">\n",
       "      <th></th>\n",
       "      <th>index</th>\n",
       "      <th>0</th>\n",
       "    </tr>\n",
       "  </thead>\n",
       "  <tbody>\n",
       "    <tr>\n",
       "      <th>0</th>\n",
       "      <td>SK_ID_CURR</td>\n",
       "      <td>0.000000</td>\n",
       "    </tr>\n",
       "    <tr>\n",
       "      <th>1</th>\n",
       "      <td>TARGET</td>\n",
       "      <td>0.000000</td>\n",
       "    </tr>\n",
       "    <tr>\n",
       "      <th>2</th>\n",
       "      <td>NAME_CONTRACT_TYPE</td>\n",
       "      <td>0.000000</td>\n",
       "    </tr>\n",
       "    <tr>\n",
       "      <th>3</th>\n",
       "      <td>CODE_GENDER</td>\n",
       "      <td>0.000000</td>\n",
       "    </tr>\n",
       "    <tr>\n",
       "      <th>4</th>\n",
       "      <td>FLAG_OWN_CAR</td>\n",
       "      <td>0.000000</td>\n",
       "    </tr>\n",
       "    <tr>\n",
       "      <th>5</th>\n",
       "      <td>FLAG_OWN_REALTY</td>\n",
       "      <td>0.000000</td>\n",
       "    </tr>\n",
       "    <tr>\n",
       "      <th>6</th>\n",
       "      <td>CNT_CHILDREN</td>\n",
       "      <td>0.000000</td>\n",
       "    </tr>\n",
       "    <tr>\n",
       "      <th>7</th>\n",
       "      <td>AMT_INCOME_TOTAL</td>\n",
       "      <td>0.000000</td>\n",
       "    </tr>\n",
       "    <tr>\n",
       "      <th>8</th>\n",
       "      <td>AMT_CREDIT</td>\n",
       "      <td>0.000000</td>\n",
       "    </tr>\n",
       "    <tr>\n",
       "      <th>9</th>\n",
       "      <td>AMT_ANNUITY</td>\n",
       "      <td>0.003902</td>\n",
       "    </tr>\n",
       "    <tr>\n",
       "      <th>10</th>\n",
       "      <td>AMT_GOODS_PRICE</td>\n",
       "      <td>0.090403</td>\n",
       "    </tr>\n",
       "    <tr>\n",
       "      <th>11</th>\n",
       "      <td>NAME_TYPE_SUITE</td>\n",
       "      <td>0.420148</td>\n",
       "    </tr>\n",
       "    <tr>\n",
       "      <th>12</th>\n",
       "      <td>NAME_INCOME_TYPE</td>\n",
       "      <td>0.000000</td>\n",
       "    </tr>\n",
       "    <tr>\n",
       "      <th>13</th>\n",
       "      <td>NAME_EDUCATION_TYPE</td>\n",
       "      <td>0.000000</td>\n",
       "    </tr>\n",
       "    <tr>\n",
       "      <th>14</th>\n",
       "      <td>NAME_FAMILY_STATUS</td>\n",
       "      <td>0.000000</td>\n",
       "    </tr>\n",
       "    <tr>\n",
       "      <th>15</th>\n",
       "      <td>NAME_HOUSING_TYPE</td>\n",
       "      <td>0.000000</td>\n",
       "    </tr>\n",
       "    <tr>\n",
       "      <th>16</th>\n",
       "      <td>REGION_POPULATION_RELATIVE</td>\n",
       "      <td>0.000000</td>\n",
       "    </tr>\n",
       "    <tr>\n",
       "      <th>17</th>\n",
       "      <td>DAYS_BIRTH</td>\n",
       "      <td>0.000000</td>\n",
       "    </tr>\n",
       "    <tr>\n",
       "      <th>18</th>\n",
       "      <td>DAYS_EMPLOYED</td>\n",
       "      <td>0.000000</td>\n",
       "    </tr>\n",
       "    <tr>\n",
       "      <th>19</th>\n",
       "      <td>DAYS_REGISTRATION</td>\n",
       "      <td>0.000000</td>\n",
       "    </tr>\n",
       "    <tr>\n",
       "      <th>20</th>\n",
       "      <td>DAYS_ID_PUBLISH</td>\n",
       "      <td>0.000000</td>\n",
       "    </tr>\n",
       "    <tr>\n",
       "      <th>21</th>\n",
       "      <td>OWN_CAR_AGE</td>\n",
       "      <td>65.990810</td>\n",
       "    </tr>\n",
       "    <tr>\n",
       "      <th>22</th>\n",
       "      <td>FLAG_MOBIL</td>\n",
       "      <td>0.000000</td>\n",
       "    </tr>\n",
       "    <tr>\n",
       "      <th>23</th>\n",
       "      <td>FLAG_EMP_PHONE</td>\n",
       "      <td>0.000000</td>\n",
       "    </tr>\n",
       "    <tr>\n",
       "      <th>24</th>\n",
       "      <td>FLAG_WORK_PHONE</td>\n",
       "      <td>0.000000</td>\n",
       "    </tr>\n",
       "    <tr>\n",
       "      <th>25</th>\n",
       "      <td>FLAG_CONT_MOBILE</td>\n",
       "      <td>0.000000</td>\n",
       "    </tr>\n",
       "    <tr>\n",
       "      <th>26</th>\n",
       "      <td>FLAG_PHONE</td>\n",
       "      <td>0.000000</td>\n",
       "    </tr>\n",
       "    <tr>\n",
       "      <th>27</th>\n",
       "      <td>FLAG_EMAIL</td>\n",
       "      <td>0.000000</td>\n",
       "    </tr>\n",
       "    <tr>\n",
       "      <th>28</th>\n",
       "      <td>OCCUPATION_TYPE</td>\n",
       "      <td>31.345545</td>\n",
       "    </tr>\n",
       "    <tr>\n",
       "      <th>29</th>\n",
       "      <td>CNT_FAM_MEMBERS</td>\n",
       "      <td>0.000650</td>\n",
       "    </tr>\n",
       "    <tr>\n",
       "      <th>30</th>\n",
       "      <td>REGION_RATING_CLIENT</td>\n",
       "      <td>0.000000</td>\n",
       "    </tr>\n",
       "    <tr>\n",
       "      <th>31</th>\n",
       "      <td>REGION_RATING_CLIENT_W_CITY</td>\n",
       "      <td>0.000000</td>\n",
       "    </tr>\n",
       "    <tr>\n",
       "      <th>32</th>\n",
       "      <td>WEEKDAY_APPR_PROCESS_START</td>\n",
       "      <td>0.000000</td>\n",
       "    </tr>\n",
       "    <tr>\n",
       "      <th>33</th>\n",
       "      <td>HOUR_APPR_PROCESS_START</td>\n",
       "      <td>0.000000</td>\n",
       "    </tr>\n",
       "    <tr>\n",
       "      <th>34</th>\n",
       "      <td>REG_REGION_NOT_LIVE_REGION</td>\n",
       "      <td>0.000000</td>\n",
       "    </tr>\n",
       "    <tr>\n",
       "      <th>35</th>\n",
       "      <td>REG_REGION_NOT_WORK_REGION</td>\n",
       "      <td>0.000000</td>\n",
       "    </tr>\n",
       "    <tr>\n",
       "      <th>36</th>\n",
       "      <td>LIVE_REGION_NOT_WORK_REGION</td>\n",
       "      <td>0.000000</td>\n",
       "    </tr>\n",
       "    <tr>\n",
       "      <th>37</th>\n",
       "      <td>REG_CITY_NOT_LIVE_CITY</td>\n",
       "      <td>0.000000</td>\n",
       "    </tr>\n",
       "    <tr>\n",
       "      <th>38</th>\n",
       "      <td>REG_CITY_NOT_WORK_CITY</td>\n",
       "      <td>0.000000</td>\n",
       "    </tr>\n",
       "    <tr>\n",
       "      <th>39</th>\n",
       "      <td>LIVE_CITY_NOT_WORK_CITY</td>\n",
       "      <td>0.000000</td>\n",
       "    </tr>\n",
       "    <tr>\n",
       "      <th>40</th>\n",
       "      <td>ORGANIZATION_TYPE</td>\n",
       "      <td>0.000000</td>\n",
       "    </tr>\n",
       "    <tr>\n",
       "      <th>41</th>\n",
       "      <td>EXT_SOURCE_1</td>\n",
       "      <td>56.381073</td>\n",
       "    </tr>\n",
       "    <tr>\n",
       "      <th>42</th>\n",
       "      <td>EXT_SOURCE_2</td>\n",
       "      <td>0.214626</td>\n",
       "    </tr>\n",
       "    <tr>\n",
       "      <th>43</th>\n",
       "      <td>EXT_SOURCE_3</td>\n",
       "      <td>19.825307</td>\n",
       "    </tr>\n",
       "    <tr>\n",
       "      <th>44</th>\n",
       "      <td>APARTMENTS_AVG</td>\n",
       "      <td>50.749729</td>\n",
       "    </tr>\n",
       "    <tr>\n",
       "      <th>45</th>\n",
       "      <td>BASEMENTAREA_AVG</td>\n",
       "      <td>58.515956</td>\n",
       "    </tr>\n",
       "    <tr>\n",
       "      <th>46</th>\n",
       "      <td>YEARS_BEGINEXPLUATATION_AVG</td>\n",
       "      <td>48.781019</td>\n",
       "    </tr>\n",
       "    <tr>\n",
       "      <th>47</th>\n",
       "      <td>YEARS_BUILD_AVG</td>\n",
       "      <td>66.497784</td>\n",
       "    </tr>\n",
       "    <tr>\n",
       "      <th>48</th>\n",
       "      <td>COMMONAREA_AVG</td>\n",
       "      <td>69.872297</td>\n",
       "    </tr>\n",
       "    <tr>\n",
       "      <th>49</th>\n",
       "      <td>ELEVATORS_AVG</td>\n",
       "      <td>53.295980</td>\n",
       "    </tr>\n",
       "    <tr>\n",
       "      <th>50</th>\n",
       "      <td>ENTRANCES_AVG</td>\n",
       "      <td>50.348768</td>\n",
       "    </tr>\n",
       "    <tr>\n",
       "      <th>51</th>\n",
       "      <td>FLOORSMAX_AVG</td>\n",
       "      <td>49.760822</td>\n",
       "    </tr>\n",
       "    <tr>\n",
       "      <th>52</th>\n",
       "      <td>FLOORSMIN_AVG</td>\n",
       "      <td>67.848630</td>\n",
       "    </tr>\n",
       "    <tr>\n",
       "      <th>53</th>\n",
       "      <td>LANDAREA_AVG</td>\n",
       "      <td>59.376738</td>\n",
       "    </tr>\n",
       "    <tr>\n",
       "      <th>54</th>\n",
       "      <td>LIVINGAPARTMENTS_AVG</td>\n",
       "      <td>68.354953</td>\n",
       "    </tr>\n",
       "    <tr>\n",
       "      <th>55</th>\n",
       "      <td>LIVINGAREA_AVG</td>\n",
       "      <td>50.193326</td>\n",
       "    </tr>\n",
       "    <tr>\n",
       "      <th>56</th>\n",
       "      <td>NONLIVINGAPARTMENTS_AVG</td>\n",
       "      <td>69.432963</td>\n",
       "    </tr>\n",
       "    <tr>\n",
       "      <th>57</th>\n",
       "      <td>NONLIVINGAREA_AVG</td>\n",
       "      <td>55.179164</td>\n",
       "    </tr>\n",
       "    <tr>\n",
       "      <th>58</th>\n",
       "      <td>APARTMENTS_MODE</td>\n",
       "      <td>50.749729</td>\n",
       "    </tr>\n",
       "    <tr>\n",
       "      <th>59</th>\n",
       "      <td>BASEMENTAREA_MODE</td>\n",
       "      <td>58.515956</td>\n",
       "    </tr>\n",
       "    <tr>\n",
       "      <th>60</th>\n",
       "      <td>YEARS_BEGINEXPLUATATION_MODE</td>\n",
       "      <td>48.781019</td>\n",
       "    </tr>\n",
       "    <tr>\n",
       "      <th>61</th>\n",
       "      <td>YEARS_BUILD_MODE</td>\n",
       "      <td>66.497784</td>\n",
       "    </tr>\n",
       "    <tr>\n",
       "      <th>62</th>\n",
       "      <td>COMMONAREA_MODE</td>\n",
       "      <td>69.872297</td>\n",
       "    </tr>\n",
       "    <tr>\n",
       "      <th>63</th>\n",
       "      <td>ELEVATORS_MODE</td>\n",
       "      <td>53.295980</td>\n",
       "    </tr>\n",
       "    <tr>\n",
       "      <th>64</th>\n",
       "      <td>ENTRANCES_MODE</td>\n",
       "      <td>50.348768</td>\n",
       "    </tr>\n",
       "    <tr>\n",
       "      <th>65</th>\n",
       "      <td>FLOORSMAX_MODE</td>\n",
       "      <td>49.760822</td>\n",
       "    </tr>\n",
       "    <tr>\n",
       "      <th>66</th>\n",
       "      <td>FLOORSMIN_MODE</td>\n",
       "      <td>67.848630</td>\n",
       "    </tr>\n",
       "    <tr>\n",
       "      <th>67</th>\n",
       "      <td>LANDAREA_MODE</td>\n",
       "      <td>59.376738</td>\n",
       "    </tr>\n",
       "    <tr>\n",
       "      <th>68</th>\n",
       "      <td>LIVINGAPARTMENTS_MODE</td>\n",
       "      <td>68.354953</td>\n",
       "    </tr>\n",
       "    <tr>\n",
       "      <th>69</th>\n",
       "      <td>LIVINGAREA_MODE</td>\n",
       "      <td>50.193326</td>\n",
       "    </tr>\n",
       "    <tr>\n",
       "      <th>70</th>\n",
       "      <td>NONLIVINGAPARTMENTS_MODE</td>\n",
       "      <td>69.432963</td>\n",
       "    </tr>\n",
       "    <tr>\n",
       "      <th>71</th>\n",
       "      <td>NONLIVINGAREA_MODE</td>\n",
       "      <td>55.179164</td>\n",
       "    </tr>\n",
       "    <tr>\n",
       "      <th>72</th>\n",
       "      <td>APARTMENTS_MEDI</td>\n",
       "      <td>50.749729</td>\n",
       "    </tr>\n",
       "    <tr>\n",
       "      <th>73</th>\n",
       "      <td>BASEMENTAREA_MEDI</td>\n",
       "      <td>58.515956</td>\n",
       "    </tr>\n",
       "    <tr>\n",
       "      <th>74</th>\n",
       "      <td>YEARS_BEGINEXPLUATATION_MEDI</td>\n",
       "      <td>48.781019</td>\n",
       "    </tr>\n",
       "    <tr>\n",
       "      <th>75</th>\n",
       "      <td>YEARS_BUILD_MEDI</td>\n",
       "      <td>66.497784</td>\n",
       "    </tr>\n",
       "    <tr>\n",
       "      <th>76</th>\n",
       "      <td>COMMONAREA_MEDI</td>\n",
       "      <td>69.872297</td>\n",
       "    </tr>\n",
       "    <tr>\n",
       "      <th>77</th>\n",
       "      <td>ELEVATORS_MEDI</td>\n",
       "      <td>53.295980</td>\n",
       "    </tr>\n",
       "    <tr>\n",
       "      <th>78</th>\n",
       "      <td>ENTRANCES_MEDI</td>\n",
       "      <td>50.348768</td>\n",
       "    </tr>\n",
       "    <tr>\n",
       "      <th>79</th>\n",
       "      <td>FLOORSMAX_MEDI</td>\n",
       "      <td>49.760822</td>\n",
       "    </tr>\n",
       "    <tr>\n",
       "      <th>80</th>\n",
       "      <td>FLOORSMIN_MEDI</td>\n",
       "      <td>67.848630</td>\n",
       "    </tr>\n",
       "    <tr>\n",
       "      <th>81</th>\n",
       "      <td>LANDAREA_MEDI</td>\n",
       "      <td>59.376738</td>\n",
       "    </tr>\n",
       "    <tr>\n",
       "      <th>82</th>\n",
       "      <td>LIVINGAPARTMENTS_MEDI</td>\n",
       "      <td>68.354953</td>\n",
       "    </tr>\n",
       "    <tr>\n",
       "      <th>83</th>\n",
       "      <td>LIVINGAREA_MEDI</td>\n",
       "      <td>50.193326</td>\n",
       "    </tr>\n",
       "    <tr>\n",
       "      <th>84</th>\n",
       "      <td>NONLIVINGAPARTMENTS_MEDI</td>\n",
       "      <td>69.432963</td>\n",
       "    </tr>\n",
       "    <tr>\n",
       "      <th>85</th>\n",
       "      <td>NONLIVINGAREA_MEDI</td>\n",
       "      <td>55.179164</td>\n",
       "    </tr>\n",
       "    <tr>\n",
       "      <th>86</th>\n",
       "      <td>FONDKAPREMONT_MODE</td>\n",
       "      <td>68.386172</td>\n",
       "    </tr>\n",
       "    <tr>\n",
       "      <th>87</th>\n",
       "      <td>HOUSETYPE_MODE</td>\n",
       "      <td>50.176091</td>\n",
       "    </tr>\n",
       "    <tr>\n",
       "      <th>88</th>\n",
       "      <td>TOTALAREA_MODE</td>\n",
       "      <td>48.268517</td>\n",
       "    </tr>\n",
       "    <tr>\n",
       "      <th>89</th>\n",
       "      <td>WALLSMATERIAL_MODE</td>\n",
       "      <td>50.840783</td>\n",
       "    </tr>\n",
       "    <tr>\n",
       "      <th>90</th>\n",
       "      <td>EMERGENCYSTATE_MODE</td>\n",
       "      <td>47.398304</td>\n",
       "    </tr>\n",
       "    <tr>\n",
       "      <th>91</th>\n",
       "      <td>OBS_30_CNT_SOCIAL_CIRCLE</td>\n",
       "      <td>0.332021</td>\n",
       "    </tr>\n",
       "    <tr>\n",
       "      <th>92</th>\n",
       "      <td>DEF_30_CNT_SOCIAL_CIRCLE</td>\n",
       "      <td>0.332021</td>\n",
       "    </tr>\n",
       "    <tr>\n",
       "      <th>93</th>\n",
       "      <td>OBS_60_CNT_SOCIAL_CIRCLE</td>\n",
       "      <td>0.332021</td>\n",
       "    </tr>\n",
       "    <tr>\n",
       "      <th>94</th>\n",
       "      <td>DEF_60_CNT_SOCIAL_CIRCLE</td>\n",
       "      <td>0.332021</td>\n",
       "    </tr>\n",
       "    <tr>\n",
       "      <th>95</th>\n",
       "      <td>DAYS_LAST_PHONE_CHANGE</td>\n",
       "      <td>0.000325</td>\n",
       "    </tr>\n",
       "    <tr>\n",
       "      <th>96</th>\n",
       "      <td>FLAG_DOCUMENT_2</td>\n",
       "      <td>0.000000</td>\n",
       "    </tr>\n",
       "    <tr>\n",
       "      <th>97</th>\n",
       "      <td>FLAG_DOCUMENT_3</td>\n",
       "      <td>0.000000</td>\n",
       "    </tr>\n",
       "    <tr>\n",
       "      <th>98</th>\n",
       "      <td>FLAG_DOCUMENT_4</td>\n",
       "      <td>0.000000</td>\n",
       "    </tr>\n",
       "    <tr>\n",
       "      <th>99</th>\n",
       "      <td>FLAG_DOCUMENT_5</td>\n",
       "      <td>0.000000</td>\n",
       "    </tr>\n",
       "    <tr>\n",
       "      <th>100</th>\n",
       "      <td>FLAG_DOCUMENT_6</td>\n",
       "      <td>0.000000</td>\n",
       "    </tr>\n",
       "    <tr>\n",
       "      <th>101</th>\n",
       "      <td>FLAG_DOCUMENT_7</td>\n",
       "      <td>0.000000</td>\n",
       "    </tr>\n",
       "    <tr>\n",
       "      <th>102</th>\n",
       "      <td>FLAG_DOCUMENT_8</td>\n",
       "      <td>0.000000</td>\n",
       "    </tr>\n",
       "    <tr>\n",
       "      <th>103</th>\n",
       "      <td>FLAG_DOCUMENT_9</td>\n",
       "      <td>0.000000</td>\n",
       "    </tr>\n",
       "    <tr>\n",
       "      <th>104</th>\n",
       "      <td>FLAG_DOCUMENT_10</td>\n",
       "      <td>0.000000</td>\n",
       "    </tr>\n",
       "    <tr>\n",
       "      <th>105</th>\n",
       "      <td>FLAG_DOCUMENT_11</td>\n",
       "      <td>0.000000</td>\n",
       "    </tr>\n",
       "    <tr>\n",
       "      <th>106</th>\n",
       "      <td>FLAG_DOCUMENT_12</td>\n",
       "      <td>0.000000</td>\n",
       "    </tr>\n",
       "    <tr>\n",
       "      <th>107</th>\n",
       "      <td>FLAG_DOCUMENT_13</td>\n",
       "      <td>0.000000</td>\n",
       "    </tr>\n",
       "    <tr>\n",
       "      <th>108</th>\n",
       "      <td>FLAG_DOCUMENT_14</td>\n",
       "      <td>0.000000</td>\n",
       "    </tr>\n",
       "    <tr>\n",
       "      <th>109</th>\n",
       "      <td>FLAG_DOCUMENT_15</td>\n",
       "      <td>0.000000</td>\n",
       "    </tr>\n",
       "    <tr>\n",
       "      <th>110</th>\n",
       "      <td>FLAG_DOCUMENT_16</td>\n",
       "      <td>0.000000</td>\n",
       "    </tr>\n",
       "    <tr>\n",
       "      <th>111</th>\n",
       "      <td>FLAG_DOCUMENT_17</td>\n",
       "      <td>0.000000</td>\n",
       "    </tr>\n",
       "    <tr>\n",
       "      <th>112</th>\n",
       "      <td>FLAG_DOCUMENT_18</td>\n",
       "      <td>0.000000</td>\n",
       "    </tr>\n",
       "    <tr>\n",
       "      <th>113</th>\n",
       "      <td>FLAG_DOCUMENT_19</td>\n",
       "      <td>0.000000</td>\n",
       "    </tr>\n",
       "    <tr>\n",
       "      <th>114</th>\n",
       "      <td>FLAG_DOCUMENT_20</td>\n",
       "      <td>0.000000</td>\n",
       "    </tr>\n",
       "    <tr>\n",
       "      <th>115</th>\n",
       "      <td>FLAG_DOCUMENT_21</td>\n",
       "      <td>0.000000</td>\n",
       "    </tr>\n",
       "    <tr>\n",
       "      <th>116</th>\n",
       "      <td>AMT_REQ_CREDIT_BUREAU_HOUR</td>\n",
       "      <td>13.501631</td>\n",
       "    </tr>\n",
       "    <tr>\n",
       "      <th>117</th>\n",
       "      <td>AMT_REQ_CREDIT_BUREAU_DAY</td>\n",
       "      <td>13.501631</td>\n",
       "    </tr>\n",
       "    <tr>\n",
       "      <th>118</th>\n",
       "      <td>AMT_REQ_CREDIT_BUREAU_WEEK</td>\n",
       "      <td>13.501631</td>\n",
       "    </tr>\n",
       "    <tr>\n",
       "      <th>119</th>\n",
       "      <td>AMT_REQ_CREDIT_BUREAU_MON</td>\n",
       "      <td>13.501631</td>\n",
       "    </tr>\n",
       "    <tr>\n",
       "      <th>120</th>\n",
       "      <td>AMT_REQ_CREDIT_BUREAU_QRT</td>\n",
       "      <td>13.501631</td>\n",
       "    </tr>\n",
       "    <tr>\n",
       "      <th>121</th>\n",
       "      <td>AMT_REQ_CREDIT_BUREAU_YEAR</td>\n",
       "      <td>13.501631</td>\n",
       "    </tr>\n",
       "  </tbody>\n",
       "</table>\n",
       "</div>"
      ],
      "text/plain": [
       "                            index          0\n",
       "0                      SK_ID_CURR   0.000000\n",
       "1                          TARGET   0.000000\n",
       "2              NAME_CONTRACT_TYPE   0.000000\n",
       "3                     CODE_GENDER   0.000000\n",
       "4                    FLAG_OWN_CAR   0.000000\n",
       "5                 FLAG_OWN_REALTY   0.000000\n",
       "6                    CNT_CHILDREN   0.000000\n",
       "7                AMT_INCOME_TOTAL   0.000000\n",
       "8                      AMT_CREDIT   0.000000\n",
       "9                     AMT_ANNUITY   0.003902\n",
       "10                AMT_GOODS_PRICE   0.090403\n",
       "11                NAME_TYPE_SUITE   0.420148\n",
       "12               NAME_INCOME_TYPE   0.000000\n",
       "13            NAME_EDUCATION_TYPE   0.000000\n",
       "14             NAME_FAMILY_STATUS   0.000000\n",
       "15              NAME_HOUSING_TYPE   0.000000\n",
       "16     REGION_POPULATION_RELATIVE   0.000000\n",
       "17                     DAYS_BIRTH   0.000000\n",
       "18                  DAYS_EMPLOYED   0.000000\n",
       "19              DAYS_REGISTRATION   0.000000\n",
       "20                DAYS_ID_PUBLISH   0.000000\n",
       "21                    OWN_CAR_AGE  65.990810\n",
       "22                     FLAG_MOBIL   0.000000\n",
       "23                 FLAG_EMP_PHONE   0.000000\n",
       "24                FLAG_WORK_PHONE   0.000000\n",
       "25               FLAG_CONT_MOBILE   0.000000\n",
       "26                     FLAG_PHONE   0.000000\n",
       "27                     FLAG_EMAIL   0.000000\n",
       "28                OCCUPATION_TYPE  31.345545\n",
       "29                CNT_FAM_MEMBERS   0.000650\n",
       "30           REGION_RATING_CLIENT   0.000000\n",
       "31    REGION_RATING_CLIENT_W_CITY   0.000000\n",
       "32     WEEKDAY_APPR_PROCESS_START   0.000000\n",
       "33        HOUR_APPR_PROCESS_START   0.000000\n",
       "34     REG_REGION_NOT_LIVE_REGION   0.000000\n",
       "35     REG_REGION_NOT_WORK_REGION   0.000000\n",
       "36    LIVE_REGION_NOT_WORK_REGION   0.000000\n",
       "37         REG_CITY_NOT_LIVE_CITY   0.000000\n",
       "38         REG_CITY_NOT_WORK_CITY   0.000000\n",
       "39        LIVE_CITY_NOT_WORK_CITY   0.000000\n",
       "40              ORGANIZATION_TYPE   0.000000\n",
       "41                   EXT_SOURCE_1  56.381073\n",
       "42                   EXT_SOURCE_2   0.214626\n",
       "43                   EXT_SOURCE_3  19.825307\n",
       "44                 APARTMENTS_AVG  50.749729\n",
       "45               BASEMENTAREA_AVG  58.515956\n",
       "46    YEARS_BEGINEXPLUATATION_AVG  48.781019\n",
       "47                YEARS_BUILD_AVG  66.497784\n",
       "48                 COMMONAREA_AVG  69.872297\n",
       "49                  ELEVATORS_AVG  53.295980\n",
       "50                  ENTRANCES_AVG  50.348768\n",
       "51                  FLOORSMAX_AVG  49.760822\n",
       "52                  FLOORSMIN_AVG  67.848630\n",
       "53                   LANDAREA_AVG  59.376738\n",
       "54           LIVINGAPARTMENTS_AVG  68.354953\n",
       "55                 LIVINGAREA_AVG  50.193326\n",
       "56        NONLIVINGAPARTMENTS_AVG  69.432963\n",
       "57              NONLIVINGAREA_AVG  55.179164\n",
       "58                APARTMENTS_MODE  50.749729\n",
       "59              BASEMENTAREA_MODE  58.515956\n",
       "60   YEARS_BEGINEXPLUATATION_MODE  48.781019\n",
       "61               YEARS_BUILD_MODE  66.497784\n",
       "62                COMMONAREA_MODE  69.872297\n",
       "63                 ELEVATORS_MODE  53.295980\n",
       "64                 ENTRANCES_MODE  50.348768\n",
       "65                 FLOORSMAX_MODE  49.760822\n",
       "66                 FLOORSMIN_MODE  67.848630\n",
       "67                  LANDAREA_MODE  59.376738\n",
       "68          LIVINGAPARTMENTS_MODE  68.354953\n",
       "69                LIVINGAREA_MODE  50.193326\n",
       "70       NONLIVINGAPARTMENTS_MODE  69.432963\n",
       "71             NONLIVINGAREA_MODE  55.179164\n",
       "72                APARTMENTS_MEDI  50.749729\n",
       "73              BASEMENTAREA_MEDI  58.515956\n",
       "74   YEARS_BEGINEXPLUATATION_MEDI  48.781019\n",
       "75               YEARS_BUILD_MEDI  66.497784\n",
       "76                COMMONAREA_MEDI  69.872297\n",
       "77                 ELEVATORS_MEDI  53.295980\n",
       "78                 ENTRANCES_MEDI  50.348768\n",
       "79                 FLOORSMAX_MEDI  49.760822\n",
       "80                 FLOORSMIN_MEDI  67.848630\n",
       "81                  LANDAREA_MEDI  59.376738\n",
       "82          LIVINGAPARTMENTS_MEDI  68.354953\n",
       "83                LIVINGAREA_MEDI  50.193326\n",
       "84       NONLIVINGAPARTMENTS_MEDI  69.432963\n",
       "85             NONLIVINGAREA_MEDI  55.179164\n",
       "86             FONDKAPREMONT_MODE  68.386172\n",
       "87                 HOUSETYPE_MODE  50.176091\n",
       "88                 TOTALAREA_MODE  48.268517\n",
       "89             WALLSMATERIAL_MODE  50.840783\n",
       "90            EMERGENCYSTATE_MODE  47.398304\n",
       "91       OBS_30_CNT_SOCIAL_CIRCLE   0.332021\n",
       "92       DEF_30_CNT_SOCIAL_CIRCLE   0.332021\n",
       "93       OBS_60_CNT_SOCIAL_CIRCLE   0.332021\n",
       "94       DEF_60_CNT_SOCIAL_CIRCLE   0.332021\n",
       "95         DAYS_LAST_PHONE_CHANGE   0.000325\n",
       "96                FLAG_DOCUMENT_2   0.000000\n",
       "97                FLAG_DOCUMENT_3   0.000000\n",
       "98                FLAG_DOCUMENT_4   0.000000\n",
       "99                FLAG_DOCUMENT_5   0.000000\n",
       "100               FLAG_DOCUMENT_6   0.000000\n",
       "101               FLAG_DOCUMENT_7   0.000000\n",
       "102               FLAG_DOCUMENT_8   0.000000\n",
       "103               FLAG_DOCUMENT_9   0.000000\n",
       "104              FLAG_DOCUMENT_10   0.000000\n",
       "105              FLAG_DOCUMENT_11   0.000000\n",
       "106              FLAG_DOCUMENT_12   0.000000\n",
       "107              FLAG_DOCUMENT_13   0.000000\n",
       "108              FLAG_DOCUMENT_14   0.000000\n",
       "109              FLAG_DOCUMENT_15   0.000000\n",
       "110              FLAG_DOCUMENT_16   0.000000\n",
       "111              FLAG_DOCUMENT_17   0.000000\n",
       "112              FLAG_DOCUMENT_18   0.000000\n",
       "113              FLAG_DOCUMENT_19   0.000000\n",
       "114              FLAG_DOCUMENT_20   0.000000\n",
       "115              FLAG_DOCUMENT_21   0.000000\n",
       "116    AMT_REQ_CREDIT_BUREAU_HOUR  13.501631\n",
       "117     AMT_REQ_CREDIT_BUREAU_DAY  13.501631\n",
       "118    AMT_REQ_CREDIT_BUREAU_WEEK  13.501631\n",
       "119     AMT_REQ_CREDIT_BUREAU_MON  13.501631\n",
       "120     AMT_REQ_CREDIT_BUREAU_QRT  13.501631\n",
       "121    AMT_REQ_CREDIT_BUREAU_YEAR  13.501631"
      ]
     },
     "execution_count": 15,
     "metadata": {},
     "output_type": "execute_result"
    }
   ],
   "source": [
    "null_values"
   ]
  },
  {
   "cell_type": "code",
   "execution_count": 16,
   "id": "7a96bd51",
   "metadata": {},
   "outputs": [],
   "source": [
    "#rename the column name and name the index column:\n",
    "null_values = null_values.rename(columns= {0: 'list'})"
   ]
  },
  {
   "cell_type": "code",
   "execution_count": 17,
   "id": "a14e3f43",
   "metadata": {},
   "outputs": [
    {
     "data": {
      "text/html": [
       "<div>\n",
       "<style scoped>\n",
       "    .dataframe tbody tr th:only-of-type {\n",
       "        vertical-align: middle;\n",
       "    }\n",
       "\n",
       "    .dataframe tbody tr th {\n",
       "        vertical-align: top;\n",
       "    }\n",
       "\n",
       "    .dataframe thead th {\n",
       "        text-align: right;\n",
       "    }\n",
       "</style>\n",
       "<table border=\"1\" class=\"dataframe\">\n",
       "  <thead>\n",
       "    <tr style=\"text-align: right;\">\n",
       "      <th></th>\n",
       "      <th>index</th>\n",
       "      <th>list</th>\n",
       "    </tr>\n",
       "  </thead>\n",
       "  <tbody>\n",
       "    <tr>\n",
       "      <th>48</th>\n",
       "      <td>COMMONAREA_AVG</td>\n",
       "      <td>69.872297</td>\n",
       "    </tr>\n",
       "    <tr>\n",
       "      <th>76</th>\n",
       "      <td>COMMONAREA_MEDI</td>\n",
       "      <td>69.872297</td>\n",
       "    </tr>\n",
       "    <tr>\n",
       "      <th>62</th>\n",
       "      <td>COMMONAREA_MODE</td>\n",
       "      <td>69.872297</td>\n",
       "    </tr>\n",
       "    <tr>\n",
       "      <th>84</th>\n",
       "      <td>NONLIVINGAPARTMENTS_MEDI</td>\n",
       "      <td>69.432963</td>\n",
       "    </tr>\n",
       "    <tr>\n",
       "      <th>56</th>\n",
       "      <td>NONLIVINGAPARTMENTS_AVG</td>\n",
       "      <td>69.432963</td>\n",
       "    </tr>\n",
       "    <tr>\n",
       "      <th>70</th>\n",
       "      <td>NONLIVINGAPARTMENTS_MODE</td>\n",
       "      <td>69.432963</td>\n",
       "    </tr>\n",
       "    <tr>\n",
       "      <th>86</th>\n",
       "      <td>FONDKAPREMONT_MODE</td>\n",
       "      <td>68.386172</td>\n",
       "    </tr>\n",
       "    <tr>\n",
       "      <th>82</th>\n",
       "      <td>LIVINGAPARTMENTS_MEDI</td>\n",
       "      <td>68.354953</td>\n",
       "    </tr>\n",
       "    <tr>\n",
       "      <th>54</th>\n",
       "      <td>LIVINGAPARTMENTS_AVG</td>\n",
       "      <td>68.354953</td>\n",
       "    </tr>\n",
       "    <tr>\n",
       "      <th>68</th>\n",
       "      <td>LIVINGAPARTMENTS_MODE</td>\n",
       "      <td>68.354953</td>\n",
       "    </tr>\n",
       "    <tr>\n",
       "      <th>66</th>\n",
       "      <td>FLOORSMIN_MODE</td>\n",
       "      <td>67.848630</td>\n",
       "    </tr>\n",
       "    <tr>\n",
       "      <th>80</th>\n",
       "      <td>FLOORSMIN_MEDI</td>\n",
       "      <td>67.848630</td>\n",
       "    </tr>\n",
       "    <tr>\n",
       "      <th>52</th>\n",
       "      <td>FLOORSMIN_AVG</td>\n",
       "      <td>67.848630</td>\n",
       "    </tr>\n",
       "    <tr>\n",
       "      <th>61</th>\n",
       "      <td>YEARS_BUILD_MODE</td>\n",
       "      <td>66.497784</td>\n",
       "    </tr>\n",
       "    <tr>\n",
       "      <th>47</th>\n",
       "      <td>YEARS_BUILD_AVG</td>\n",
       "      <td>66.497784</td>\n",
       "    </tr>\n",
       "    <tr>\n",
       "      <th>75</th>\n",
       "      <td>YEARS_BUILD_MEDI</td>\n",
       "      <td>66.497784</td>\n",
       "    </tr>\n",
       "    <tr>\n",
       "      <th>21</th>\n",
       "      <td>OWN_CAR_AGE</td>\n",
       "      <td>65.990810</td>\n",
       "    </tr>\n",
       "    <tr>\n",
       "      <th>53</th>\n",
       "      <td>LANDAREA_AVG</td>\n",
       "      <td>59.376738</td>\n",
       "    </tr>\n",
       "    <tr>\n",
       "      <th>81</th>\n",
       "      <td>LANDAREA_MEDI</td>\n",
       "      <td>59.376738</td>\n",
       "    </tr>\n",
       "    <tr>\n",
       "      <th>67</th>\n",
       "      <td>LANDAREA_MODE</td>\n",
       "      <td>59.376738</td>\n",
       "    </tr>\n",
       "    <tr>\n",
       "      <th>73</th>\n",
       "      <td>BASEMENTAREA_MEDI</td>\n",
       "      <td>58.515956</td>\n",
       "    </tr>\n",
       "    <tr>\n",
       "      <th>45</th>\n",
       "      <td>BASEMENTAREA_AVG</td>\n",
       "      <td>58.515956</td>\n",
       "    </tr>\n",
       "    <tr>\n",
       "      <th>59</th>\n",
       "      <td>BASEMENTAREA_MODE</td>\n",
       "      <td>58.515956</td>\n",
       "    </tr>\n",
       "    <tr>\n",
       "      <th>41</th>\n",
       "      <td>EXT_SOURCE_1</td>\n",
       "      <td>56.381073</td>\n",
       "    </tr>\n",
       "    <tr>\n",
       "      <th>71</th>\n",
       "      <td>NONLIVINGAREA_MODE</td>\n",
       "      <td>55.179164</td>\n",
       "    </tr>\n",
       "    <tr>\n",
       "      <th>85</th>\n",
       "      <td>NONLIVINGAREA_MEDI</td>\n",
       "      <td>55.179164</td>\n",
       "    </tr>\n",
       "    <tr>\n",
       "      <th>57</th>\n",
       "      <td>NONLIVINGAREA_AVG</td>\n",
       "      <td>55.179164</td>\n",
       "    </tr>\n",
       "    <tr>\n",
       "      <th>63</th>\n",
       "      <td>ELEVATORS_MODE</td>\n",
       "      <td>53.295980</td>\n",
       "    </tr>\n",
       "    <tr>\n",
       "      <th>77</th>\n",
       "      <td>ELEVATORS_MEDI</td>\n",
       "      <td>53.295980</td>\n",
       "    </tr>\n",
       "    <tr>\n",
       "      <th>49</th>\n",
       "      <td>ELEVATORS_AVG</td>\n",
       "      <td>53.295980</td>\n",
       "    </tr>\n",
       "    <tr>\n",
       "      <th>89</th>\n",
       "      <td>WALLSMATERIAL_MODE</td>\n",
       "      <td>50.840783</td>\n",
       "    </tr>\n",
       "    <tr>\n",
       "      <th>72</th>\n",
       "      <td>APARTMENTS_MEDI</td>\n",
       "      <td>50.749729</td>\n",
       "    </tr>\n",
       "    <tr>\n",
       "      <th>58</th>\n",
       "      <td>APARTMENTS_MODE</td>\n",
       "      <td>50.749729</td>\n",
       "    </tr>\n",
       "    <tr>\n",
       "      <th>44</th>\n",
       "      <td>APARTMENTS_AVG</td>\n",
       "      <td>50.749729</td>\n",
       "    </tr>\n",
       "    <tr>\n",
       "      <th>64</th>\n",
       "      <td>ENTRANCES_MODE</td>\n",
       "      <td>50.348768</td>\n",
       "    </tr>\n",
       "    <tr>\n",
       "      <th>50</th>\n",
       "      <td>ENTRANCES_AVG</td>\n",
       "      <td>50.348768</td>\n",
       "    </tr>\n",
       "    <tr>\n",
       "      <th>78</th>\n",
       "      <td>ENTRANCES_MEDI</td>\n",
       "      <td>50.348768</td>\n",
       "    </tr>\n",
       "    <tr>\n",
       "      <th>83</th>\n",
       "      <td>LIVINGAREA_MEDI</td>\n",
       "      <td>50.193326</td>\n",
       "    </tr>\n",
       "    <tr>\n",
       "      <th>55</th>\n",
       "      <td>LIVINGAREA_AVG</td>\n",
       "      <td>50.193326</td>\n",
       "    </tr>\n",
       "    <tr>\n",
       "      <th>69</th>\n",
       "      <td>LIVINGAREA_MODE</td>\n",
       "      <td>50.193326</td>\n",
       "    </tr>\n",
       "    <tr>\n",
       "      <th>87</th>\n",
       "      <td>HOUSETYPE_MODE</td>\n",
       "      <td>50.176091</td>\n",
       "    </tr>\n",
       "  </tbody>\n",
       "</table>\n",
       "</div>"
      ],
      "text/plain": [
       "                       index       list\n",
       "48            COMMONAREA_AVG  69.872297\n",
       "76           COMMONAREA_MEDI  69.872297\n",
       "62           COMMONAREA_MODE  69.872297\n",
       "84  NONLIVINGAPARTMENTS_MEDI  69.432963\n",
       "56   NONLIVINGAPARTMENTS_AVG  69.432963\n",
       "70  NONLIVINGAPARTMENTS_MODE  69.432963\n",
       "86        FONDKAPREMONT_MODE  68.386172\n",
       "82     LIVINGAPARTMENTS_MEDI  68.354953\n",
       "54      LIVINGAPARTMENTS_AVG  68.354953\n",
       "68     LIVINGAPARTMENTS_MODE  68.354953\n",
       "66            FLOORSMIN_MODE  67.848630\n",
       "80            FLOORSMIN_MEDI  67.848630\n",
       "52             FLOORSMIN_AVG  67.848630\n",
       "61          YEARS_BUILD_MODE  66.497784\n",
       "47           YEARS_BUILD_AVG  66.497784\n",
       "75          YEARS_BUILD_MEDI  66.497784\n",
       "21               OWN_CAR_AGE  65.990810\n",
       "53              LANDAREA_AVG  59.376738\n",
       "81             LANDAREA_MEDI  59.376738\n",
       "67             LANDAREA_MODE  59.376738\n",
       "73         BASEMENTAREA_MEDI  58.515956\n",
       "45          BASEMENTAREA_AVG  58.515956\n",
       "59         BASEMENTAREA_MODE  58.515956\n",
       "41              EXT_SOURCE_1  56.381073\n",
       "71        NONLIVINGAREA_MODE  55.179164\n",
       "85        NONLIVINGAREA_MEDI  55.179164\n",
       "57         NONLIVINGAREA_AVG  55.179164\n",
       "63            ELEVATORS_MODE  53.295980\n",
       "77            ELEVATORS_MEDI  53.295980\n",
       "49             ELEVATORS_AVG  53.295980\n",
       "89        WALLSMATERIAL_MODE  50.840783\n",
       "72           APARTMENTS_MEDI  50.749729\n",
       "58           APARTMENTS_MODE  50.749729\n",
       "44            APARTMENTS_AVG  50.749729\n",
       "64            ENTRANCES_MODE  50.348768\n",
       "50             ENTRANCES_AVG  50.348768\n",
       "78            ENTRANCES_MEDI  50.348768\n",
       "83           LIVINGAREA_MEDI  50.193326\n",
       "55            LIVINGAREA_AVG  50.193326\n",
       "69           LIVINGAREA_MODE  50.193326\n",
       "87            HOUSETYPE_MODE  50.176091"
      ]
     },
     "execution_count": 17,
     "metadata": {},
     "output_type": "execute_result"
    }
   ],
   "source": [
    "null_values50=null_values[null_values.list > 50]\n",
    "null_values50.sort_values(by='list', ascending=False)\n"
   ]
  },
  {
   "cell_type": "markdown",
   "id": "7e16beb5",
   "metadata": {},
   "source": [
    "### insight:The highest number of missing values is related to different area sizes on the applicant's apartment"
   ]
  },
  {
   "cell_type": "code",
   "execution_count": 18,
   "id": "f62a2186",
   "metadata": {},
   "outputs": [],
   "source": [
    "pre_null_values= pd.DataFrame(pre_application.isnull().sum()*100/pre_application.shape[0]).reset_index()"
   ]
  },
  {
   "cell_type": "code",
   "execution_count": 19,
   "id": "6a00d211",
   "metadata": {},
   "outputs": [
    {
     "data": {
      "text/html": [
       "<div>\n",
       "<style scoped>\n",
       "    .dataframe tbody tr th:only-of-type {\n",
       "        vertical-align: middle;\n",
       "    }\n",
       "\n",
       "    .dataframe tbody tr th {\n",
       "        vertical-align: top;\n",
       "    }\n",
       "\n",
       "    .dataframe thead th {\n",
       "        text-align: right;\n",
       "    }\n",
       "</style>\n",
       "<table border=\"1\" class=\"dataframe\">\n",
       "  <thead>\n",
       "    <tr style=\"text-align: right;\">\n",
       "      <th></th>\n",
       "      <th>index</th>\n",
       "      <th>0</th>\n",
       "    </tr>\n",
       "  </thead>\n",
       "  <tbody>\n",
       "    <tr>\n",
       "      <th>0</th>\n",
       "      <td>SK_ID_PREV</td>\n",
       "      <td>0.000000</td>\n",
       "    </tr>\n",
       "    <tr>\n",
       "      <th>1</th>\n",
       "      <td>SK_ID_CURR</td>\n",
       "      <td>0.000000</td>\n",
       "    </tr>\n",
       "    <tr>\n",
       "      <th>2</th>\n",
       "      <td>NAME_CONTRACT_TYPE</td>\n",
       "      <td>0.000000</td>\n",
       "    </tr>\n",
       "    <tr>\n",
       "      <th>3</th>\n",
       "      <td>AMT_ANNUITY</td>\n",
       "      <td>22.221491</td>\n",
       "    </tr>\n",
       "    <tr>\n",
       "      <th>4</th>\n",
       "      <td>AMT_APPLICATION</td>\n",
       "      <td>0.000000</td>\n",
       "    </tr>\n",
       "    <tr>\n",
       "      <th>5</th>\n",
       "      <td>AMT_CREDIT</td>\n",
       "      <td>0.000000</td>\n",
       "    </tr>\n",
       "    <tr>\n",
       "      <th>6</th>\n",
       "      <td>AMT_DOWN_PAYMENT</td>\n",
       "      <td>53.348211</td>\n",
       "    </tr>\n",
       "    <tr>\n",
       "      <th>7</th>\n",
       "      <td>AMT_GOODS_PRICE</td>\n",
       "      <td>22.980235</td>\n",
       "    </tr>\n",
       "    <tr>\n",
       "      <th>8</th>\n",
       "      <td>WEEKDAY_APPR_PROCESS_START</td>\n",
       "      <td>0.000000</td>\n",
       "    </tr>\n",
       "    <tr>\n",
       "      <th>9</th>\n",
       "      <td>HOUR_APPR_PROCESS_START</td>\n",
       "      <td>0.000000</td>\n",
       "    </tr>\n",
       "    <tr>\n",
       "      <th>10</th>\n",
       "      <td>FLAG_LAST_APPL_PER_CONTRACT</td>\n",
       "      <td>0.000000</td>\n",
       "    </tr>\n",
       "    <tr>\n",
       "      <th>11</th>\n",
       "      <td>NFLAG_LAST_APPL_IN_DAY</td>\n",
       "      <td>0.000000</td>\n",
       "    </tr>\n",
       "    <tr>\n",
       "      <th>12</th>\n",
       "      <td>RATE_DOWN_PAYMENT</td>\n",
       "      <td>53.348211</td>\n",
       "    </tr>\n",
       "    <tr>\n",
       "      <th>13</th>\n",
       "      <td>RATE_INTEREST_PRIMARY</td>\n",
       "      <td>99.645137</td>\n",
       "    </tr>\n",
       "    <tr>\n",
       "      <th>14</th>\n",
       "      <td>RATE_INTEREST_PRIVILEGED</td>\n",
       "      <td>99.645137</td>\n",
       "    </tr>\n",
       "    <tr>\n",
       "      <th>15</th>\n",
       "      <td>NAME_CASH_LOAN_PURPOSE</td>\n",
       "      <td>0.000000</td>\n",
       "    </tr>\n",
       "    <tr>\n",
       "      <th>16</th>\n",
       "      <td>NAME_CONTRACT_STATUS</td>\n",
       "      <td>0.000000</td>\n",
       "    </tr>\n",
       "    <tr>\n",
       "      <th>17</th>\n",
       "      <td>DAYS_DECISION</td>\n",
       "      <td>0.000000</td>\n",
       "    </tr>\n",
       "    <tr>\n",
       "      <th>18</th>\n",
       "      <td>NAME_PAYMENT_TYPE</td>\n",
       "      <td>0.000000</td>\n",
       "    </tr>\n",
       "    <tr>\n",
       "      <th>19</th>\n",
       "      <td>CODE_REJECT_REASON</td>\n",
       "      <td>0.000000</td>\n",
       "    </tr>\n",
       "    <tr>\n",
       "      <th>20</th>\n",
       "      <td>NAME_TYPE_SUITE</td>\n",
       "      <td>49.127626</td>\n",
       "    </tr>\n",
       "    <tr>\n",
       "      <th>21</th>\n",
       "      <td>NAME_CLIENT_TYPE</td>\n",
       "      <td>0.000000</td>\n",
       "    </tr>\n",
       "    <tr>\n",
       "      <th>22</th>\n",
       "      <td>NAME_GOODS_CATEGORY</td>\n",
       "      <td>0.000000</td>\n",
       "    </tr>\n",
       "    <tr>\n",
       "      <th>23</th>\n",
       "      <td>NAME_PORTFOLIO</td>\n",
       "      <td>0.000000</td>\n",
       "    </tr>\n",
       "    <tr>\n",
       "      <th>24</th>\n",
       "      <td>NAME_PRODUCT_TYPE</td>\n",
       "      <td>0.000000</td>\n",
       "    </tr>\n",
       "    <tr>\n",
       "      <th>25</th>\n",
       "      <td>CHANNEL_TYPE</td>\n",
       "      <td>0.000000</td>\n",
       "    </tr>\n",
       "    <tr>\n",
       "      <th>26</th>\n",
       "      <td>SELLERPLACE_AREA</td>\n",
       "      <td>0.000000</td>\n",
       "    </tr>\n",
       "    <tr>\n",
       "      <th>27</th>\n",
       "      <td>NAME_SELLER_INDUSTRY</td>\n",
       "      <td>0.000000</td>\n",
       "    </tr>\n",
       "    <tr>\n",
       "      <th>28</th>\n",
       "      <td>CNT_PAYMENT</td>\n",
       "      <td>22.221205</td>\n",
       "    </tr>\n",
       "    <tr>\n",
       "      <th>29</th>\n",
       "      <td>NAME_YIELD_GROUP</td>\n",
       "      <td>0.000000</td>\n",
       "    </tr>\n",
       "    <tr>\n",
       "      <th>30</th>\n",
       "      <td>PRODUCT_COMBINATION</td>\n",
       "      <td>0.021362</td>\n",
       "    </tr>\n",
       "    <tr>\n",
       "      <th>31</th>\n",
       "      <td>DAYS_FIRST_DRAWING</td>\n",
       "      <td>40.121880</td>\n",
       "    </tr>\n",
       "    <tr>\n",
       "      <th>32</th>\n",
       "      <td>DAYS_FIRST_DUE</td>\n",
       "      <td>40.121880</td>\n",
       "    </tr>\n",
       "    <tr>\n",
       "      <th>33</th>\n",
       "      <td>DAYS_LAST_DUE_1ST_VERSION</td>\n",
       "      <td>40.121880</td>\n",
       "    </tr>\n",
       "    <tr>\n",
       "      <th>34</th>\n",
       "      <td>DAYS_LAST_DUE</td>\n",
       "      <td>40.121880</td>\n",
       "    </tr>\n",
       "    <tr>\n",
       "      <th>35</th>\n",
       "      <td>DAYS_TERMINATION</td>\n",
       "      <td>40.121880</td>\n",
       "    </tr>\n",
       "    <tr>\n",
       "      <th>36</th>\n",
       "      <td>NFLAG_INSURED_ON_APPROVAL</td>\n",
       "      <td>40.121880</td>\n",
       "    </tr>\n",
       "  </tbody>\n",
       "</table>\n",
       "</div>"
      ],
      "text/plain": [
       "                          index          0\n",
       "0                    SK_ID_PREV   0.000000\n",
       "1                    SK_ID_CURR   0.000000\n",
       "2            NAME_CONTRACT_TYPE   0.000000\n",
       "3                   AMT_ANNUITY  22.221491\n",
       "4               AMT_APPLICATION   0.000000\n",
       "5                    AMT_CREDIT   0.000000\n",
       "6              AMT_DOWN_PAYMENT  53.348211\n",
       "7               AMT_GOODS_PRICE  22.980235\n",
       "8    WEEKDAY_APPR_PROCESS_START   0.000000\n",
       "9       HOUR_APPR_PROCESS_START   0.000000\n",
       "10  FLAG_LAST_APPL_PER_CONTRACT   0.000000\n",
       "11       NFLAG_LAST_APPL_IN_DAY   0.000000\n",
       "12            RATE_DOWN_PAYMENT  53.348211\n",
       "13        RATE_INTEREST_PRIMARY  99.645137\n",
       "14     RATE_INTEREST_PRIVILEGED  99.645137\n",
       "15       NAME_CASH_LOAN_PURPOSE   0.000000\n",
       "16         NAME_CONTRACT_STATUS   0.000000\n",
       "17                DAYS_DECISION   0.000000\n",
       "18            NAME_PAYMENT_TYPE   0.000000\n",
       "19           CODE_REJECT_REASON   0.000000\n",
       "20              NAME_TYPE_SUITE  49.127626\n",
       "21             NAME_CLIENT_TYPE   0.000000\n",
       "22          NAME_GOODS_CATEGORY   0.000000\n",
       "23               NAME_PORTFOLIO   0.000000\n",
       "24            NAME_PRODUCT_TYPE   0.000000\n",
       "25                 CHANNEL_TYPE   0.000000\n",
       "26             SELLERPLACE_AREA   0.000000\n",
       "27         NAME_SELLER_INDUSTRY   0.000000\n",
       "28                  CNT_PAYMENT  22.221205\n",
       "29             NAME_YIELD_GROUP   0.000000\n",
       "30          PRODUCT_COMBINATION   0.021362\n",
       "31           DAYS_FIRST_DRAWING  40.121880\n",
       "32               DAYS_FIRST_DUE  40.121880\n",
       "33    DAYS_LAST_DUE_1ST_VERSION  40.121880\n",
       "34                DAYS_LAST_DUE  40.121880\n",
       "35             DAYS_TERMINATION  40.121880\n",
       "36    NFLAG_INSURED_ON_APPROVAL  40.121880"
      ]
     },
     "execution_count": 19,
     "metadata": {},
     "output_type": "execute_result"
    }
   ],
   "source": [
    "pre_null_values"
   ]
  },
  {
   "cell_type": "code",
   "execution_count": 20,
   "id": "924f3d3f",
   "metadata": {},
   "outputs": [],
   "source": [
    "pre_null_values = pre_null_values.rename(columns= {0: 'list'})"
   ]
  },
  {
   "cell_type": "code",
   "execution_count": 21,
   "id": "ca659918",
   "metadata": {},
   "outputs": [
    {
     "data": {
      "text/html": [
       "<div>\n",
       "<style scoped>\n",
       "    .dataframe tbody tr th:only-of-type {\n",
       "        vertical-align: middle;\n",
       "    }\n",
       "\n",
       "    .dataframe tbody tr th {\n",
       "        vertical-align: top;\n",
       "    }\n",
       "\n",
       "    .dataframe thead th {\n",
       "        text-align: right;\n",
       "    }\n",
       "</style>\n",
       "<table border=\"1\" class=\"dataframe\">\n",
       "  <thead>\n",
       "    <tr style=\"text-align: right;\">\n",
       "      <th></th>\n",
       "      <th>index</th>\n",
       "      <th>list</th>\n",
       "    </tr>\n",
       "  </thead>\n",
       "  <tbody>\n",
       "    <tr>\n",
       "      <th>13</th>\n",
       "      <td>RATE_INTEREST_PRIMARY</td>\n",
       "      <td>99.645137</td>\n",
       "    </tr>\n",
       "    <tr>\n",
       "      <th>14</th>\n",
       "      <td>RATE_INTEREST_PRIVILEGED</td>\n",
       "      <td>99.645137</td>\n",
       "    </tr>\n",
       "    <tr>\n",
       "      <th>6</th>\n",
       "      <td>AMT_DOWN_PAYMENT</td>\n",
       "      <td>53.348211</td>\n",
       "    </tr>\n",
       "    <tr>\n",
       "      <th>12</th>\n",
       "      <td>RATE_DOWN_PAYMENT</td>\n",
       "      <td>53.348211</td>\n",
       "    </tr>\n",
       "    <tr>\n",
       "      <th>20</th>\n",
       "      <td>NAME_TYPE_SUITE</td>\n",
       "      <td>49.127626</td>\n",
       "    </tr>\n",
       "    <tr>\n",
       "      <th>31</th>\n",
       "      <td>DAYS_FIRST_DRAWING</td>\n",
       "      <td>40.121880</td>\n",
       "    </tr>\n",
       "    <tr>\n",
       "      <th>32</th>\n",
       "      <td>DAYS_FIRST_DUE</td>\n",
       "      <td>40.121880</td>\n",
       "    </tr>\n",
       "    <tr>\n",
       "      <th>33</th>\n",
       "      <td>DAYS_LAST_DUE_1ST_VERSION</td>\n",
       "      <td>40.121880</td>\n",
       "    </tr>\n",
       "    <tr>\n",
       "      <th>34</th>\n",
       "      <td>DAYS_LAST_DUE</td>\n",
       "      <td>40.121880</td>\n",
       "    </tr>\n",
       "    <tr>\n",
       "      <th>35</th>\n",
       "      <td>DAYS_TERMINATION</td>\n",
       "      <td>40.121880</td>\n",
       "    </tr>\n",
       "    <tr>\n",
       "      <th>36</th>\n",
       "      <td>NFLAG_INSURED_ON_APPROVAL</td>\n",
       "      <td>40.121880</td>\n",
       "    </tr>\n",
       "  </tbody>\n",
       "</table>\n",
       "</div>"
      ],
      "text/plain": [
       "                        index       list\n",
       "13      RATE_INTEREST_PRIMARY  99.645137\n",
       "14   RATE_INTEREST_PRIVILEGED  99.645137\n",
       "6            AMT_DOWN_PAYMENT  53.348211\n",
       "12          RATE_DOWN_PAYMENT  53.348211\n",
       "20            NAME_TYPE_SUITE  49.127626\n",
       "31         DAYS_FIRST_DRAWING  40.121880\n",
       "32             DAYS_FIRST_DUE  40.121880\n",
       "33  DAYS_LAST_DUE_1ST_VERSION  40.121880\n",
       "34              DAYS_LAST_DUE  40.121880\n",
       "35           DAYS_TERMINATION  40.121880\n",
       "36  NFLAG_INSURED_ON_APPROVAL  40.121880"
      ]
     },
     "execution_count": 21,
     "metadata": {},
     "output_type": "execute_result"
    }
   ],
   "source": [
    "null_values40=pre_null_values[pre_null_values.list > 40]\n",
    "null_values40.sort_values(by='list', ascending=False)\n"
   ]
  },
  {
   "cell_type": "markdown",
   "id": "ae8aeb2a",
   "metadata": {},
   "source": [
    "### Insight: Some columns have 99% missing values"
   ]
  },
  {
   "cell_type": "code",
   "execution_count": 22,
   "id": "f23a69bb",
   "metadata": {},
   "outputs": [
    {
     "data": {
      "text/plain": [
       "False"
      ]
     },
     "execution_count": 22,
     "metadata": {},
     "output_type": "execute_result"
    }
   ],
   "source": [
    "application.duplicated(subset='SK_ID_CURR').values.any() "
   ]
  },
  {
   "cell_type": "code",
   "execution_count": 23,
   "id": "7a4d8371",
   "metadata": {},
   "outputs": [
    {
     "data": {
      "text/plain": [
       "True"
      ]
     },
     "execution_count": 23,
     "metadata": {},
     "output_type": "execute_result"
    }
   ],
   "source": [
    "pre_application.duplicated(subset='SK_ID_CURR').values.any() "
   ]
  },
  {
   "cell_type": "code",
   "execution_count": 24,
   "id": "6087bfec",
   "metadata": {},
   "outputs": [
    {
     "data": {
      "text/plain": [
       "False"
      ]
     },
     "execution_count": 24,
     "metadata": {},
     "output_type": "execute_result"
    }
   ],
   "source": [
    "pre_application.duplicated(subset='SK_ID_PREV').values.any() "
   ]
  },
  {
   "cell_type": "markdown",
   "id": "a6cbd92f",
   "metadata": {},
   "source": [
    "### Insight: In application dataset, there is NO duplicate records. But there are duplicae records in Pre_application dataset- 1 person can have multiple previous applications."
   ]
  },
  {
   "cell_type": "code",
   "execution_count": 25,
   "id": "239b2d82",
   "metadata": {},
   "outputs": [
    {
     "data": {
      "image/png": "[encoded data removed]",
      "text/plain": [
       "<Figure size 432x288 with 2 Axes>"
      ]
     },
     "metadata": {
      "needs_background": "light"
     },
     "output_type": "display_data"
    }
   ],
   "source": [
    "Source = application[[\"EXT_SOURCE_1\",\"EXT_SOURCE_2\",\"EXT_SOURCE_3\",\"TARGET\"]]\n",
    "source_corr = Source.corr()\n",
    "ax = sns.heatmap(source_corr,\n",
    "            xticklabels=source_corr.columns,\n",
    "            yticklabels=source_corr.columns,\n",
    "            annot = True,\n",
    "            cmap =\"Blues\", linewidths=.5)\n"
   ]
  },
  {
   "cell_type": "markdown",
   "id": "3146151a",
   "metadata": {},
   "source": [
    "### Insight: Since there is almost no correlation between EXT_SOURCE_X columns and target column, so we can remove these columns"
   ]
  },
  {
   "cell_type": "code",
   "execution_count": 26,
   "id": "8da23b9f",
   "metadata": {},
   "outputs": [],
   "source": [
    "\n",
    "null_values50.columns = ['Column Name', 'Null Values Percentage']\n"
   ]
  },
  {
   "cell_type": "code",
   "execution_count": 27,
   "id": "9b88d3ee",
   "metadata": {},
   "outputs": [],
   "source": [
    "delete_application = null_values50[\"Column Name\"].tolist()+ ['EXT_SOURCE_2','EXT_SOURCE_3'] "
   ]
  },
  {
   "cell_type": "code",
   "execution_count": 28,
   "id": "1b22b281",
   "metadata": {},
   "outputs": [
    {
     "data": {
      "text/plain": [
       "['OWN_CAR_AGE',\n",
       " 'EXT_SOURCE_1',\n",
       " 'APARTMENTS_AVG',\n",
       " 'BASEMENTAREA_AVG',\n",
       " 'YEARS_BUILD_AVG',\n",
       " 'COMMONAREA_AVG',\n",
       " 'ELEVATORS_AVG',\n",
       " 'ENTRANCES_AVG',\n",
       " 'FLOORSMIN_AVG',\n",
       " 'LANDAREA_AVG',\n",
       " 'LIVINGAPARTMENTS_AVG',\n",
       " 'LIVINGAREA_AVG',\n",
       " 'NONLIVINGAPARTMENTS_AVG',\n",
       " 'NONLIVINGAREA_AVG',\n",
       " 'APARTMENTS_MODE',\n",
       " 'BASEMENTAREA_MODE',\n",
       " 'YEARS_BUILD_MODE',\n",
       " 'COMMONAREA_MODE',\n",
       " 'ELEVATORS_MODE',\n",
       " 'ENTRANCES_MODE',\n",
       " 'FLOORSMIN_MODE',\n",
       " 'LANDAREA_MODE',\n",
       " 'LIVINGAPARTMENTS_MODE',\n",
       " 'LIVINGAREA_MODE',\n",
       " 'NONLIVINGAPARTMENTS_MODE',\n",
       " 'NONLIVINGAREA_MODE',\n",
       " 'APARTMENTS_MEDI',\n",
       " 'BASEMENTAREA_MEDI',\n",
       " 'YEARS_BUILD_MEDI',\n",
       " 'COMMONAREA_MEDI',\n",
       " 'ELEVATORS_MEDI',\n",
       " 'ENTRANCES_MEDI',\n",
       " 'FLOORSMIN_MEDI',\n",
       " 'LANDAREA_MEDI',\n",
       " 'LIVINGAPARTMENTS_MEDI',\n",
       " 'LIVINGAREA_MEDI',\n",
       " 'NONLIVINGAPARTMENTS_MEDI',\n",
       " 'NONLIVINGAREA_MEDI',\n",
       " 'FONDKAPREMONT_MODE',\n",
       " 'HOUSETYPE_MODE',\n",
       " 'WALLSMATERIAL_MODE',\n",
       " 'EXT_SOURCE_2',\n",
       " 'EXT_SOURCE_3']"
      ]
     },
     "execution_count": 28,
     "metadata": {},
     "output_type": "execute_result"
    }
   ],
   "source": [
    "delete_application"
   ]
  },
  {
   "cell_type": "code",
   "execution_count": 29,
   "id": "7d2ba07d",
   "metadata": {},
   "outputs": [],
   "source": [
    "un_col=['FLAG_MOBIL', 'FLAG_EMP_PHONE', 'FLAG_WORK_PHONE', 'FLAG_CONT_MOBILE',\n",
    "       'FLAG_PHONE', 'FLAG_EMAIL', 'REGION_RATING_CLIENT',\n",
    "       'DAYS_LAST_PHONE_CHANGE', 'FLAG_DOCUMENT_2', 'FLAG_DOCUMENT_3','FLAG_DOCUMENT_4', 'FLAG_DOCUMENT_5', 'FLAG_DOCUMENT_6',\n",
    "       'FLAG_DOCUMENT_7', 'FLAG_DOCUMENT_8', 'FLAG_DOCUMENT_9','FLAG_DOCUMENT_10', 'FLAG_DOCUMENT_11', 'FLAG_DOCUMENT_12',\n",
    "       'FLAG_DOCUMENT_13', 'FLAG_DOCUMENT_14', 'FLAG_DOCUMENT_15','FLAG_DOCUMENT_16', 'FLAG_DOCUMENT_17', 'FLAG_DOCUMENT_18',\n",
    "       'FLAG_DOCUMENT_19', 'FLAG_DOCUMENT_20', 'FLAG_DOCUMENT_21', 'EXT_SOURCE_2', 'EXT_SOURCE_3','OBS_30_CNT_SOCIAL_CIRCLE','DEF_30_CNT_SOCIAL_CIRCLE','OBS_60_CNT_SOCIAL_CIRCLE','DEF_60_CNT_SOCIAL_CIRCLE','AMT_REQ_CREDIT_BUREAU_HOUR','AMT_REQ_CREDIT_BUREAU_DAY','AMT_REQ_CREDIT_BUREAU_WEEK', 'AMT_REQ_CREDIT_BUREAU_MON', 'AMT_REQ_CREDIT_BUREAU_QRT','AMT_REQ_CREDIT_BUREAU_YEAR', 'NAME_TYPE_SUITE']\n",
    "delete_application= delete_application+un_col"
   ]
  },
  {
   "cell_type": "markdown",
   "id": "11da0df2",
   "metadata": {},
   "source": [
    "### Insight :To narrow down the number of columns to examin we will drop few of them, considering only the ones that will be helpful to make accurate decisions.\n",
    "### un_col are unwanted columns"
   ]
  },
  {
   "cell_type": "code",
   "execution_count": 30,
   "id": "1031a527",
   "metadata": {},
   "outputs": [
    {
     "data": {
      "text/plain": [
       "84"
      ]
     },
     "execution_count": 30,
     "metadata": {},
     "output_type": "execute_result"
    }
   ],
   "source": [
    "len(delete_application)"
   ]
  },
  {
   "cell_type": "code",
   "execution_count": 31,
   "id": "3431207b",
   "metadata": {},
   "outputs": [],
   "source": [
    "application.drop(labels=delete_application,axis=1,inplace=True)\n"
   ]
  },
  {
   "cell_type": "code",
   "execution_count": 32,
   "id": "6870b891",
   "metadata": {},
   "outputs": [
    {
     "data": {
      "text/plain": [
       "SK_ID_CURR                           0\n",
       "TARGET                               0\n",
       "NAME_CONTRACT_TYPE                   0\n",
       "CODE_GENDER                          0\n",
       "FLAG_OWN_CAR                         0\n",
       "FLAG_OWN_REALTY                      0\n",
       "CNT_CHILDREN                         0\n",
       "AMT_INCOME_TOTAL                     0\n",
       "AMT_CREDIT                           0\n",
       "AMT_ANNUITY                         12\n",
       "AMT_GOODS_PRICE                    278\n",
       "NAME_INCOME_TYPE                     0\n",
       "NAME_EDUCATION_TYPE                  0\n",
       "NAME_FAMILY_STATUS                   0\n",
       "NAME_HOUSING_TYPE                    0\n",
       "REGION_POPULATION_RELATIVE           0\n",
       "DAYS_BIRTH                           0\n",
       "DAYS_EMPLOYED                        0\n",
       "DAYS_REGISTRATION                    0\n",
       "DAYS_ID_PUBLISH                      0\n",
       "OCCUPATION_TYPE                  96391\n",
       "CNT_FAM_MEMBERS                      2\n",
       "REGION_RATING_CLIENT_W_CITY          0\n",
       "WEEKDAY_APPR_PROCESS_START           0\n",
       "HOUR_APPR_PROCESS_START              0\n",
       "REG_REGION_NOT_LIVE_REGION           0\n",
       "REG_REGION_NOT_WORK_REGION           0\n",
       "LIVE_REGION_NOT_WORK_REGION          0\n",
       "REG_CITY_NOT_LIVE_CITY               0\n",
       "REG_CITY_NOT_WORK_CITY               0\n",
       "LIVE_CITY_NOT_WORK_CITY              0\n",
       "ORGANIZATION_TYPE                    0\n",
       "YEARS_BEGINEXPLUATATION_AVG     150007\n",
       "FLOORSMAX_AVG                   153020\n",
       "YEARS_BEGINEXPLUATATION_MODE    150007\n",
       "FLOORSMAX_MODE                  153020\n",
       "YEARS_BEGINEXPLUATATION_MEDI    150007\n",
       "FLOORSMAX_MEDI                  153020\n",
       "TOTALAREA_MODE                  148431\n",
       "EMERGENCYSTATE_MODE             145755\n",
       "dtype: int64"
      ]
     },
     "execution_count": 32,
     "metadata": {},
     "output_type": "execute_result"
    }
   ],
   "source": [
    "application.isnull().sum()\n"
   ]
  },
  {
   "cell_type": "code",
   "execution_count": 33,
   "id": "15d21ce4",
   "metadata": {},
   "outputs": [
    {
     "data": {
      "text/html": [
       "<div>\n",
       "<style scoped>\n",
       "    .dataframe tbody tr th:only-of-type {\n",
       "        vertical-align: middle;\n",
       "    }\n",
       "\n",
       "    .dataframe tbody tr th {\n",
       "        vertical-align: top;\n",
       "    }\n",
       "\n",
       "    .dataframe thead th {\n",
       "        text-align: right;\n",
       "    }\n",
       "</style>\n",
       "<table border=\"1\" class=\"dataframe\">\n",
       "  <thead>\n",
       "    <tr style=\"text-align: right;\">\n",
       "      <th></th>\n",
       "      <th>SK_ID_CURR</th>\n",
       "      <th>TARGET</th>\n",
       "      <th>NAME_CONTRACT_TYPE</th>\n",
       "      <th>CODE_GENDER</th>\n",
       "      <th>FLAG_OWN_CAR</th>\n",
       "      <th>FLAG_OWN_REALTY</th>\n",
       "      <th>CNT_CHILDREN</th>\n",
       "      <th>AMT_INCOME_TOTAL</th>\n",
       "      <th>AMT_CREDIT</th>\n",
       "      <th>AMT_ANNUITY</th>\n",
       "      <th>...</th>\n",
       "      <th>LIVE_CITY_NOT_WORK_CITY</th>\n",
       "      <th>ORGANIZATION_TYPE</th>\n",
       "      <th>YEARS_BEGINEXPLUATATION_AVG</th>\n",
       "      <th>FLOORSMAX_AVG</th>\n",
       "      <th>YEARS_BEGINEXPLUATATION_MODE</th>\n",
       "      <th>FLOORSMAX_MODE</th>\n",
       "      <th>YEARS_BEGINEXPLUATATION_MEDI</th>\n",
       "      <th>FLOORSMAX_MEDI</th>\n",
       "      <th>TOTALAREA_MODE</th>\n",
       "      <th>EMERGENCYSTATE_MODE</th>\n",
       "    </tr>\n",
       "  </thead>\n",
       "  <tbody>\n",
       "    <tr>\n",
       "      <th>0</th>\n",
       "      <td>100002</td>\n",
       "      <td>1</td>\n",
       "      <td>Cash loans</td>\n",
       "      <td>M</td>\n",
       "      <td>N</td>\n",
       "      <td>Y</td>\n",
       "      <td>0</td>\n",
       "      <td>202500.0</td>\n",
       "      <td>406597.5</td>\n",
       "      <td>24700.5</td>\n",
       "      <td>...</td>\n",
       "      <td>0</td>\n",
       "      <td>Business Entity Type 3</td>\n",
       "      <td>0.9722</td>\n",
       "      <td>0.0833</td>\n",
       "      <td>0.9722</td>\n",
       "      <td>0.0833</td>\n",
       "      <td>0.9722</td>\n",
       "      <td>0.0833</td>\n",
       "      <td>0.0149</td>\n",
       "      <td>No</td>\n",
       "    </tr>\n",
       "    <tr>\n",
       "      <th>1</th>\n",
       "      <td>100003</td>\n",
       "      <td>0</td>\n",
       "      <td>Cash loans</td>\n",
       "      <td>F</td>\n",
       "      <td>N</td>\n",
       "      <td>N</td>\n",
       "      <td>0</td>\n",
       "      <td>270000.0</td>\n",
       "      <td>1293502.5</td>\n",
       "      <td>35698.5</td>\n",
       "      <td>...</td>\n",
       "      <td>0</td>\n",
       "      <td>School</td>\n",
       "      <td>0.9851</td>\n",
       "      <td>0.2917</td>\n",
       "      <td>0.9851</td>\n",
       "      <td>0.2917</td>\n",
       "      <td>0.9851</td>\n",
       "      <td>0.2917</td>\n",
       "      <td>0.0714</td>\n",
       "      <td>No</td>\n",
       "    </tr>\n",
       "    <tr>\n",
       "      <th>2</th>\n",
       "      <td>100004</td>\n",
       "      <td>0</td>\n",
       "      <td>Revolving loans</td>\n",
       "      <td>M</td>\n",
       "      <td>Y</td>\n",
       "      <td>Y</td>\n",
       "      <td>0</td>\n",
       "      <td>67500.0</td>\n",
       "      <td>135000.0</td>\n",
       "      <td>6750.0</td>\n",
       "      <td>...</td>\n",
       "      <td>0</td>\n",
       "      <td>Government</td>\n",
       "      <td>NaN</td>\n",
       "      <td>NaN</td>\n",
       "      <td>NaN</td>\n",
       "      <td>NaN</td>\n",
       "      <td>NaN</td>\n",
       "      <td>NaN</td>\n",
       "      <td>NaN</td>\n",
       "      <td>NaN</td>\n",
       "    </tr>\n",
       "    <tr>\n",
       "      <th>3</th>\n",
       "      <td>100006</td>\n",
       "      <td>0</td>\n",
       "      <td>Cash loans</td>\n",
       "      <td>F</td>\n",
       "      <td>N</td>\n",
       "      <td>Y</td>\n",
       "      <td>0</td>\n",
       "      <td>135000.0</td>\n",
       "      <td>312682.5</td>\n",
       "      <td>29686.5</td>\n",
       "      <td>...</td>\n",
       "      <td>0</td>\n",
       "      <td>Business Entity Type 3</td>\n",
       "      <td>NaN</td>\n",
       "      <td>NaN</td>\n",
       "      <td>NaN</td>\n",
       "      <td>NaN</td>\n",
       "      <td>NaN</td>\n",
       "      <td>NaN</td>\n",
       "      <td>NaN</td>\n",
       "      <td>NaN</td>\n",
       "    </tr>\n",
       "    <tr>\n",
       "      <th>4</th>\n",
       "      <td>100007</td>\n",
       "      <td>0</td>\n",
       "      <td>Cash loans</td>\n",
       "      <td>M</td>\n",
       "      <td>N</td>\n",
       "      <td>Y</td>\n",
       "      <td>0</td>\n",
       "      <td>121500.0</td>\n",
       "      <td>513000.0</td>\n",
       "      <td>21865.5</td>\n",
       "      <td>...</td>\n",
       "      <td>1</td>\n",
       "      <td>Religion</td>\n",
       "      <td>NaN</td>\n",
       "      <td>NaN</td>\n",
       "      <td>NaN</td>\n",
       "      <td>NaN</td>\n",
       "      <td>NaN</td>\n",
       "      <td>NaN</td>\n",
       "      <td>NaN</td>\n",
       "      <td>NaN</td>\n",
       "    </tr>\n",
       "  </tbody>\n",
       "</table>\n",
       "<p>5 rows × 40 columns</p>\n",
       "</div>"
      ],
      "text/plain": [
       "   SK_ID_CURR  TARGET NAME_CONTRACT_TYPE CODE_GENDER FLAG_OWN_CAR  \\\n",
       "0      100002       1         Cash loans           M            N   \n",
       "1      100003       0         Cash loans           F            N   \n",
       "2      100004       0    Revolving loans           M            Y   \n",
       "3      100006       0         Cash loans           F            N   \n",
       "4      100007       0         Cash loans           M            N   \n",
       "\n",
       "  FLAG_OWN_REALTY  CNT_CHILDREN  AMT_INCOME_TOTAL  AMT_CREDIT  AMT_ANNUITY  \\\n",
       "0               Y             0          202500.0    406597.5      24700.5   \n",
       "1               N             0          270000.0   1293502.5      35698.5   \n",
       "2               Y             0           67500.0    135000.0       6750.0   \n",
       "3               Y             0          135000.0    312682.5      29686.5   \n",
       "4               Y             0          121500.0    513000.0      21865.5   \n",
       "\n",
       "   ...  LIVE_CITY_NOT_WORK_CITY       ORGANIZATION_TYPE  \\\n",
       "0  ...                        0  Business Entity Type 3   \n",
       "1  ...                        0                  School   \n",
       "2  ...                        0              Government   \n",
       "3  ...                        0  Business Entity Type 3   \n",
       "4  ...                        1                Religion   \n",
       "\n",
       "  YEARS_BEGINEXPLUATATION_AVG FLOORSMAX_AVG YEARS_BEGINEXPLUATATION_MODE  \\\n",
       "0                      0.9722        0.0833                       0.9722   \n",
       "1                      0.9851        0.2917                       0.9851   \n",
       "2                         NaN           NaN                          NaN   \n",
       "3                         NaN           NaN                          NaN   \n",
       "4                         NaN           NaN                          NaN   \n",
       "\n",
       "   FLOORSMAX_MODE  YEARS_BEGINEXPLUATATION_MEDI  FLOORSMAX_MEDI  \\\n",
       "0          0.0833                        0.9722          0.0833   \n",
       "1          0.2917                        0.9851          0.2917   \n",
       "2             NaN                           NaN             NaN   \n",
       "3             NaN                           NaN             NaN   \n",
       "4             NaN                           NaN             NaN   \n",
       "\n",
       "   TOTALAREA_MODE  EMERGENCYSTATE_MODE  \n",
       "0          0.0149                   No  \n",
       "1          0.0714                   No  \n",
       "2             NaN                  NaN  \n",
       "3             NaN                  NaN  \n",
       "4             NaN                  NaN  \n",
       "\n",
       "[5 rows x 40 columns]"
      ]
     },
     "execution_count": 33,
     "metadata": {},
     "output_type": "execute_result"
    }
   ],
   "source": [
    "application.head(5)"
   ]
  },
  {
   "cell_type": "code",
   "execution_count": 34,
   "id": "45449f22",
   "metadata": {},
   "outputs": [],
   "source": [
    "null_values40.columns = ['Column Name', 'Null Values Percentage']\n",
    "delete_preapplication=  null_values40[\"Column Name\"].tolist()"
   ]
  },
  {
   "cell_type": "code",
   "execution_count": 39,
   "id": "3852dd48",
   "metadata": {},
   "outputs": [],
   "source": [
    "Unnecessary_previous = ['WEEKDAY_APPR_PROCESS_START','HOUR_APPR_PROCESS_START',\n",
    "                        'FLAG_LAST_APPL_PER_CONTRACT','NFLAG_LAST_APPL_IN_DAY']\n",
    "delete_preapplication= delete_preapplication +Unnecessary_previous"
   ]
  },
  {
   "cell_type": "code",
   "execution_count": 40,
   "id": "38d00d04",
   "metadata": {},
   "outputs": [
    {
     "data": {
      "text/plain": [
       "['AMT_DOWN_PAYMENT',\n",
       " 'RATE_DOWN_PAYMENT',\n",
       " 'RATE_INTEREST_PRIMARY',\n",
       " 'RATE_INTEREST_PRIVILEGED',\n",
       " 'NAME_TYPE_SUITE',\n",
       " 'DAYS_FIRST_DRAWING',\n",
       " 'DAYS_FIRST_DUE',\n",
       " 'DAYS_LAST_DUE_1ST_VERSION',\n",
       " 'DAYS_LAST_DUE',\n",
       " 'DAYS_TERMINATION',\n",
       " 'NFLAG_INSURED_ON_APPROVAL',\n",
       " 'WEEKDAY_APPR_PROCESS_START',\n",
       " 'HOUR_APPR_PROCESS_START',\n",
       " 'FLAG_LAST_APPL_PER_CONTRACT',\n",
       " 'NFLAG_LAST_APPL_IN_DAY',\n",
       " 'WEEKDAY_APPR_PROCESS_START',\n",
       " 'HOUR_APPR_PROCESS_START',\n",
       " 'FLAG_LAST_APPL_PER_CONTRACT',\n",
       " 'NFLAG_LAST_APPL_IN_DAY']"
      ]
     },
     "execution_count": 40,
     "metadata": {},
     "output_type": "execute_result"
    }
   ],
   "source": [
    "delete_preapplication"
   ]
  },
  {
   "cell_type": "code",
   "execution_count": 41,
   "id": "cde8a3b6",
   "metadata": {},
   "outputs": [
    {
     "ename": "KeyError",
     "evalue": "\"['AMT_DOWN_PAYMENT', 'RATE_DOWN_PAYMENT', 'RATE_INTEREST_PRIMARY', 'RATE_INTEREST_PRIVILEGED', 'NAME_TYPE_SUITE', 'DAYS_FIRST_DRAWING', 'DAYS_FIRST_DUE', 'DAYS_LAST_DUE_1ST_VERSION', 'DAYS_LAST_DUE', 'DAYS_TERMINATION', 'NFLAG_INSURED_ON_APPROVAL', 'WEEKDAY_APPR_PROCESS_START', 'HOUR_APPR_PROCESS_START', 'FLAG_LAST_APPL_PER_CONTRACT', 'NFLAG_LAST_APPL_IN_DAY', 'WEEKDAY_APPR_PROCESS_START', 'HOUR_APPR_PROCESS_START', 'FLAG_LAST_APPL_PER_CONTRACT', 'NFLAG_LAST_APPL_IN_DAY'] not found in axis\"",
     "output_type": "error",
     "traceback": [
      "\u001b[1;31m---------------------------------------------------------------------------\u001b[0m",
      "\u001b[1;31mKeyError\u001b[0m                                  Traceback (most recent call last)",
      "Input \u001b[1;32mIn [41]\u001b[0m, in \u001b[0;36m<module>\u001b[1;34m\u001b[0m\n\u001b[1;32m----> 1\u001b[0m \u001b[43mpre_application\u001b[49m\u001b[38;5;241;43m.\u001b[39;49m\u001b[43mdrop\u001b[49m\u001b[43m(\u001b[49m\u001b[43mlabels\u001b[49m\u001b[38;5;241;43m=\u001b[39;49m\u001b[43m \u001b[49m\u001b[43mdelete_preapplication\u001b[49m\u001b[43m,\u001b[49m\u001b[43m \u001b[49m\u001b[43maxis\u001b[49m\u001b[38;5;241;43m=\u001b[39;49m\u001b[38;5;241;43m1\u001b[39;49m\u001b[43m,\u001b[49m\u001b[43minplace\u001b[49m\u001b[38;5;241;43m=\u001b[39;49m\u001b[38;5;28;43;01mTrue\u001b[39;49;00m\u001b[43m)\u001b[49m\n",
      "File \u001b[1;32m~\\AppData\\Local\\Programs\\Python\\Python310\\lib\\site-packages\\pandas\\util\\_decorators.py:311\u001b[0m, in \u001b[0;36mdeprecate_nonkeyword_arguments.<locals>.decorate.<locals>.wrapper\u001b[1;34m(*args, **kwargs)\u001b[0m\n\u001b[0;32m    305\u001b[0m \u001b[38;5;28;01mif\u001b[39;00m \u001b[38;5;28mlen\u001b[39m(args) \u001b[38;5;241m>\u001b[39m num_allow_args:\n\u001b[0;32m    306\u001b[0m     warnings\u001b[38;5;241m.\u001b[39mwarn(\n\u001b[0;32m    307\u001b[0m         msg\u001b[38;5;241m.\u001b[39mformat(arguments\u001b[38;5;241m=\u001b[39marguments),\n\u001b[0;32m    308\u001b[0m         \u001b[38;5;167;01mFutureWarning\u001b[39;00m,\n\u001b[0;32m    309\u001b[0m         stacklevel\u001b[38;5;241m=\u001b[39mstacklevel,\n\u001b[0;32m    310\u001b[0m     )\n\u001b[1;32m--> 311\u001b[0m \u001b[38;5;28;01mreturn\u001b[39;00m func(\u001b[38;5;241m*\u001b[39margs, \u001b[38;5;241m*\u001b[39m\u001b[38;5;241m*\u001b[39mkwargs)\n",
      "File \u001b[1;32m~\\AppData\\Local\\Programs\\Python\\Python310\\lib\\site-packages\\pandas\\core\\frame.py:4948\u001b[0m, in \u001b[0;36mDataFrame.drop\u001b[1;34m(self, labels, axis, index, columns, level, inplace, errors)\u001b[0m\n\u001b[0;32m   4800\u001b[0m \u001b[38;5;129m@deprecate_nonkeyword_arguments\u001b[39m(version\u001b[38;5;241m=\u001b[39m\u001b[38;5;28;01mNone\u001b[39;00m, allowed_args\u001b[38;5;241m=\u001b[39m[\u001b[38;5;124m\"\u001b[39m\u001b[38;5;124mself\u001b[39m\u001b[38;5;124m\"\u001b[39m, \u001b[38;5;124m\"\u001b[39m\u001b[38;5;124mlabels\u001b[39m\u001b[38;5;124m\"\u001b[39m])\n\u001b[0;32m   4801\u001b[0m \u001b[38;5;28;01mdef\u001b[39;00m \u001b[38;5;21mdrop\u001b[39m(\n\u001b[0;32m   4802\u001b[0m     \u001b[38;5;28mself\u001b[39m,\n\u001b[1;32m   (...)\u001b[0m\n\u001b[0;32m   4809\u001b[0m     errors: \u001b[38;5;28mstr\u001b[39m \u001b[38;5;241m=\u001b[39m \u001b[38;5;124m\"\u001b[39m\u001b[38;5;124mraise\u001b[39m\u001b[38;5;124m\"\u001b[39m,\n\u001b[0;32m   4810\u001b[0m ):\n\u001b[0;32m   4811\u001b[0m     \u001b[38;5;124;03m\"\"\"\u001b[39;00m\n\u001b[0;32m   4812\u001b[0m \u001b[38;5;124;03m    Drop specified labels from rows or columns.\u001b[39;00m\n\u001b[0;32m   4813\u001b[0m \n\u001b[1;32m   (...)\u001b[0m\n\u001b[0;32m   4946\u001b[0m \u001b[38;5;124;03m            weight  1.0     0.8\u001b[39;00m\n\u001b[0;32m   4947\u001b[0m \u001b[38;5;124;03m    \"\"\"\u001b[39;00m\n\u001b[1;32m-> 4948\u001b[0m     \u001b[38;5;28;01mreturn\u001b[39;00m \u001b[38;5;28;43msuper\u001b[39;49m\u001b[43m(\u001b[49m\u001b[43m)\u001b[49m\u001b[38;5;241;43m.\u001b[39;49m\u001b[43mdrop\u001b[49m\u001b[43m(\u001b[49m\n\u001b[0;32m   4949\u001b[0m \u001b[43m        \u001b[49m\u001b[43mlabels\u001b[49m\u001b[38;5;241;43m=\u001b[39;49m\u001b[43mlabels\u001b[49m\u001b[43m,\u001b[49m\n\u001b[0;32m   4950\u001b[0m \u001b[43m        \u001b[49m\u001b[43maxis\u001b[49m\u001b[38;5;241;43m=\u001b[39;49m\u001b[43maxis\u001b[49m\u001b[43m,\u001b[49m\n\u001b[0;32m   4951\u001b[0m \u001b[43m        \u001b[49m\u001b[43mindex\u001b[49m\u001b[38;5;241;43m=\u001b[39;49m\u001b[43mindex\u001b[49m\u001b[43m,\u001b[49m\n\u001b[0;32m   4952\u001b[0m \u001b[43m        \u001b[49m\u001b[43mcolumns\u001b[49m\u001b[38;5;241;43m=\u001b[39;49m\u001b[43mcolumns\u001b[49m\u001b[43m,\u001b[49m\n\u001b[0;32m   4953\u001b[0m \u001b[43m        \u001b[49m\u001b[43mlevel\u001b[49m\u001b[38;5;241;43m=\u001b[39;49m\u001b[43mlevel\u001b[49m\u001b[43m,\u001b[49m\n\u001b[0;32m   4954\u001b[0m \u001b[43m        \u001b[49m\u001b[43minplace\u001b[49m\u001b[38;5;241;43m=\u001b[39;49m\u001b[43minplace\u001b[49m\u001b[43m,\u001b[49m\n\u001b[0;32m   4955\u001b[0m \u001b[43m        \u001b[49m\u001b[43merrors\u001b[49m\u001b[38;5;241;43m=\u001b[39;49m\u001b[43merrors\u001b[49m\u001b[43m,\u001b[49m\n\u001b[0;32m   4956\u001b[0m \u001b[43m    \u001b[49m\u001b[43m)\u001b[49m\n",
      "File \u001b[1;32m~\\AppData\\Local\\Programs\\Python\\Python310\\lib\\site-packages\\pandas\\core\\generic.py:4279\u001b[0m, in \u001b[0;36mNDFrame.drop\u001b[1;34m(self, labels, axis, index, columns, level, inplace, errors)\u001b[0m\n\u001b[0;32m   4277\u001b[0m \u001b[38;5;28;01mfor\u001b[39;00m axis, labels \u001b[38;5;129;01min\u001b[39;00m axes\u001b[38;5;241m.\u001b[39mitems():\n\u001b[0;32m   4278\u001b[0m     \u001b[38;5;28;01mif\u001b[39;00m labels \u001b[38;5;129;01mis\u001b[39;00m \u001b[38;5;129;01mnot\u001b[39;00m \u001b[38;5;28;01mNone\u001b[39;00m:\n\u001b[1;32m-> 4279\u001b[0m         obj \u001b[38;5;241m=\u001b[39m \u001b[43mobj\u001b[49m\u001b[38;5;241;43m.\u001b[39;49m\u001b[43m_drop_axis\u001b[49m\u001b[43m(\u001b[49m\u001b[43mlabels\u001b[49m\u001b[43m,\u001b[49m\u001b[43m \u001b[49m\u001b[43maxis\u001b[49m\u001b[43m,\u001b[49m\u001b[43m \u001b[49m\u001b[43mlevel\u001b[49m\u001b[38;5;241;43m=\u001b[39;49m\u001b[43mlevel\u001b[49m\u001b[43m,\u001b[49m\u001b[43m \u001b[49m\u001b[43merrors\u001b[49m\u001b[38;5;241;43m=\u001b[39;49m\u001b[43merrors\u001b[49m\u001b[43m)\u001b[49m\n\u001b[0;32m   4281\u001b[0m \u001b[38;5;28;01mif\u001b[39;00m inplace:\n\u001b[0;32m   4282\u001b[0m     \u001b[38;5;28mself\u001b[39m\u001b[38;5;241m.\u001b[39m_update_inplace(obj)\n",
      "File \u001b[1;32m~\\AppData\\Local\\Programs\\Python\\Python310\\lib\\site-packages\\pandas\\core\\generic.py:4323\u001b[0m, in \u001b[0;36mNDFrame._drop_axis\u001b[1;34m(self, labels, axis, level, errors, consolidate, only_slice)\u001b[0m\n\u001b[0;32m   4321\u001b[0m         new_axis \u001b[38;5;241m=\u001b[39m axis\u001b[38;5;241m.\u001b[39mdrop(labels, level\u001b[38;5;241m=\u001b[39mlevel, errors\u001b[38;5;241m=\u001b[39merrors)\n\u001b[0;32m   4322\u001b[0m     \u001b[38;5;28;01melse\u001b[39;00m:\n\u001b[1;32m-> 4323\u001b[0m         new_axis \u001b[38;5;241m=\u001b[39m \u001b[43maxis\u001b[49m\u001b[38;5;241;43m.\u001b[39;49m\u001b[43mdrop\u001b[49m\u001b[43m(\u001b[49m\u001b[43mlabels\u001b[49m\u001b[43m,\u001b[49m\u001b[43m \u001b[49m\u001b[43merrors\u001b[49m\u001b[38;5;241;43m=\u001b[39;49m\u001b[43merrors\u001b[49m\u001b[43m)\u001b[49m\n\u001b[0;32m   4324\u001b[0m     indexer \u001b[38;5;241m=\u001b[39m axis\u001b[38;5;241m.\u001b[39mget_indexer(new_axis)\n\u001b[0;32m   4326\u001b[0m \u001b[38;5;66;03m# Case for non-unique axis\u001b[39;00m\n\u001b[0;32m   4327\u001b[0m \u001b[38;5;28;01melse\u001b[39;00m:\n",
      "File \u001b[1;32m~\\AppData\\Local\\Programs\\Python\\Python310\\lib\\site-packages\\pandas\\core\\indexes\\base.py:6644\u001b[0m, in \u001b[0;36mIndex.drop\u001b[1;34m(self, labels, errors)\u001b[0m\n\u001b[0;32m   6642\u001b[0m \u001b[38;5;28;01mif\u001b[39;00m mask\u001b[38;5;241m.\u001b[39many():\n\u001b[0;32m   6643\u001b[0m     \u001b[38;5;28;01mif\u001b[39;00m errors \u001b[38;5;241m!=\u001b[39m \u001b[38;5;124m\"\u001b[39m\u001b[38;5;124mignore\u001b[39m\u001b[38;5;124m\"\u001b[39m:\n\u001b[1;32m-> 6644\u001b[0m         \u001b[38;5;28;01mraise\u001b[39;00m \u001b[38;5;167;01mKeyError\u001b[39;00m(\u001b[38;5;124mf\u001b[39m\u001b[38;5;124m\"\u001b[39m\u001b[38;5;132;01m{\u001b[39;00m\u001b[38;5;28mlist\u001b[39m(labels[mask])\u001b[38;5;132;01m}\u001b[39;00m\u001b[38;5;124m not found in axis\u001b[39m\u001b[38;5;124m\"\u001b[39m)\n\u001b[0;32m   6645\u001b[0m     indexer \u001b[38;5;241m=\u001b[39m indexer[\u001b[38;5;241m~\u001b[39mmask]\n\u001b[0;32m   6646\u001b[0m \u001b[38;5;28;01mreturn\u001b[39;00m \u001b[38;5;28mself\u001b[39m\u001b[38;5;241m.\u001b[39mdelete(indexer)\n",
      "\u001b[1;31mKeyError\u001b[0m: \"['AMT_DOWN_PAYMENT', 'RATE_DOWN_PAYMENT', 'RATE_INTEREST_PRIMARY', 'RATE_INTEREST_PRIVILEGED', 'NAME_TYPE_SUITE', 'DAYS_FIRST_DRAWING', 'DAYS_FIRST_DUE', 'DAYS_LAST_DUE_1ST_VERSION', 'DAYS_LAST_DUE', 'DAYS_TERMINATION', 'NFLAG_INSURED_ON_APPROVAL', 'WEEKDAY_APPR_PROCESS_START', 'HOUR_APPR_PROCESS_START', 'FLAG_LAST_APPL_PER_CONTRACT', 'NFLAG_LAST_APPL_IN_DAY', 'WEEKDAY_APPR_PROCESS_START', 'HOUR_APPR_PROCESS_START', 'FLAG_LAST_APPL_PER_CONTRACT', 'NFLAG_LAST_APPL_IN_DAY'] not found in axis\""
     ]
    }
   ],
   "source": [
    "pre_application.drop(labels= delete_preapplication, axis=1,inplace=True)"
   ]
  },
  {
   "cell_type": "code",
   "execution_count": null,
   "id": "3274967d",
   "metadata": {},
   "outputs": [],
   "source": [
    "pre_application.shape"
   ]
  },
  {
   "cell_type": "code",
   "execution_count": null,
   "id": "7ce034c6",
   "metadata": {},
   "outputs": [],
   "source": [
    "application.shape"
   ]
  },
  {
   "cell_type": "code",
   "execution_count": null,
   "id": "a8ba6d89",
   "metadata": {},
   "outputs": [],
   "source": [
    "application.head()"
   ]
  },
  {
   "cell_type": "markdown",
   "id": "d084158a",
   "metadata": {},
   "source": [
    " <font color='Red'>Trying to fill missing values</font>\n"
   ]
  },
  {
   "cell_type": "code",
   "execution_count": 42,
   "id": "86ba8647",
   "metadata": {},
   "outputs": [
    {
     "data": {
      "text/plain": [
       "count    307499.000000\n",
       "mean      27108.573909\n",
       "std       14493.737315\n",
       "min        1615.500000\n",
       "25%       16524.000000\n",
       "50%       24903.000000\n",
       "75%       34596.000000\n",
       "max      258025.500000\n",
       "Name: AMT_ANNUITY, dtype: float64"
      ]
     },
     "execution_count": 42,
     "metadata": {},
     "output_type": "execute_result"
    }
   ],
   "source": [
    "application['AMT_ANNUITY'].describe()"
   ]
  },
  {
   "cell_type": "code",
   "execution_count": 43,
   "id": "04659709",
   "metadata": {},
   "outputs": [],
   "source": [
    "app_AMT_Q1= application['AMT_ANNUITY'].quantile(0.25)\n",
    "app_AMT_Q3= application['AMT_ANNUITY'].quantile(0.75)\n",
    "IQR=app_AMT_Q3-app_AMT_Q1"
   ]
  },
  {
   "cell_type": "code",
   "execution_count": 44,
   "id": "e1fbc609",
   "metadata": {},
   "outputs": [
    {
     "data": {
      "text/plain": [
       "16524.0"
      ]
     },
     "execution_count": 44,
     "metadata": {},
     "output_type": "execute_result"
    }
   ],
   "source": [
    "app_AMT_Q1"
   ]
  },
  {
   "cell_type": "code",
   "execution_count": 45,
   "id": "0199a303",
   "metadata": {},
   "outputs": [
    {
     "data": {
      "text/plain": [
       "34596.0"
      ]
     },
     "execution_count": 45,
     "metadata": {},
     "output_type": "execute_result"
    }
   ],
   "source": [
    "app_AMT_Q3"
   ]
  },
  {
   "cell_type": "code",
   "execution_count": 46,
   "id": "987ff049",
   "metadata": {},
   "outputs": [
    {
     "data": {
      "text/plain": [
       "18072.0"
      ]
     },
     "execution_count": 46,
     "metadata": {},
     "output_type": "execute_result"
    }
   ],
   "source": [
    "IQR"
   ]
  },
  {
   "cell_type": "code",
   "execution_count": 47,
   "id": "46143225",
   "metadata": {},
   "outputs": [
    {
     "data": {
      "text/plain": [
       "61704.0"
      ]
     },
     "execution_count": 47,
     "metadata": {},
     "output_type": "execute_result"
    }
   ],
   "source": [
    "#Finding lower whisker\n",
    "lower_AMT= app_AMT_Q1 - (1.5*IQR)\n",
    "lower_AMT\n",
    "## Finding value for upper whisker\n",
    "upper_AMT= app_AMT_Q3 + (1.5*IQR)\n",
    "upper_AMT"
   ]
  },
  {
   "cell_type": "code",
   "execution_count": 48,
   "id": "2a068282",
   "metadata": {},
   "outputs": [
    {
     "data": {
      "text/plain": [
       "-10584.0"
      ]
     },
     "execution_count": 48,
     "metadata": {},
     "output_type": "execute_result"
    }
   ],
   "source": [
    "lower_AMT"
   ]
  },
  {
   "cell_type": "code",
   "execution_count": 49,
   "id": "a461b4dc",
   "metadata": {},
   "outputs": [
    {
     "data": {
      "image/png": "[encoded data removed]",
      "text/plain": [
       "<Figure size 432x432 with 1 Axes>"
      ]
     },
     "metadata": {
      "needs_background": "light"
     },
     "output_type": "display_data"
    }
   ],
   "source": [
    "plt.figure(figsize=(6,6))\n",
    "sns.kdeplot(application['AMT_ANNUITY'])\n",
    "plt.show()"
   ]
  },
  {
   "cell_type": "markdown",
   "id": "6c1751e2",
   "metadata": {},
   "source": [
    "### There is a single peak at the left side of the distribution and it indicates the presence of outliers and hence imputing with mean would not be the right approach and hence imputing with median."
   ]
  },
  {
   "cell_type": "code",
   "execution_count": 50,
   "id": "b29601c7",
   "metadata": {},
   "outputs": [
    {
     "name": "stderr",
     "output_type": "stream",
     "text": [
      "C:\\Users\\Asmita kaushal\\AppData\\Local\\Programs\\Python\\Python310\\lib\\site-packages\\seaborn\\_decorators.py:36: FutureWarning: Pass the following variable as a keyword arg: x. From version 0.12, the only valid positional argument will be `data`, and passing other arguments without an explicit keyword will result in an error or misinterpretation.\n",
      "  warnings.warn(\n"
     ]
    },
    {
     "data": {
      "image/png": "[encoded data removed]",
      "text/plain": [
       "<Figure size 720x432 with 1 Axes>"
      ]
     },
     "metadata": {
      "needs_background": "light"
     },
     "output_type": "display_data"
    }
   ],
   "source": [
    "plt.figure(figsize = [10,6]) \n",
    "sns.boxplot(application['AMT_ANNUITY']) \n",
    "plt.title(\"Boxplot of AMT_ANNUITY\")\n",
    "plt.show()"
   ]
  },
  {
   "cell_type": "markdown",
   "id": "23939ebe",
   "metadata": {},
   "source": [
    "### Insight : Box plot shows data has many outlier's therefore we will use median to fill the missing values"
   ]
  },
  {
   "cell_type": "code",
   "execution_count": 51,
   "id": "cfb00e9c",
   "metadata": {},
   "outputs": [],
   "source": [
    "AMT_median=application['AMT_ANNUITY'].median()"
   ]
  },
  {
   "cell_type": "code",
   "execution_count": 52,
   "id": "3f7e6e91",
   "metadata": {},
   "outputs": [],
   "source": [
    "#filled with median\n",
    "application.loc[application['AMT_ANNUITY'].isnull(),'AMT_ANNUITY']=AMT_median\n"
   ]
  },
  {
   "cell_type": "code",
   "execution_count": 53,
   "id": "e4ba6074",
   "metadata": {},
   "outputs": [
    {
     "data": {
      "text/plain": [
       "False"
      ]
     },
     "execution_count": 53,
     "metadata": {},
     "output_type": "execute_result"
    }
   ],
   "source": [
    "application['AMT_ANNUITY'].isnull().any()"
   ]
  },
  {
   "cell_type": "code",
   "execution_count": 54,
   "id": "22e8c9f4",
   "metadata": {},
   "outputs": [
    {
     "data": {
      "text/plain": [
       "SK_ID_CURR                           0\n",
       "TARGET                               0\n",
       "NAME_CONTRACT_TYPE                   0\n",
       "CODE_GENDER                          0\n",
       "FLAG_OWN_CAR                         0\n",
       "FLAG_OWN_REALTY                      0\n",
       "CNT_CHILDREN                         0\n",
       "AMT_INCOME_TOTAL                     0\n",
       "AMT_CREDIT                           0\n",
       "AMT_ANNUITY                          0\n",
       "AMT_GOODS_PRICE                    278\n",
       "NAME_INCOME_TYPE                     0\n",
       "NAME_EDUCATION_TYPE                  0\n",
       "NAME_FAMILY_STATUS                   0\n",
       "NAME_HOUSING_TYPE                    0\n",
       "REGION_POPULATION_RELATIVE           0\n",
       "DAYS_BIRTH                           0\n",
       "DAYS_EMPLOYED                        0\n",
       "DAYS_REGISTRATION                    0\n",
       "DAYS_ID_PUBLISH                      0\n",
       "OCCUPATION_TYPE                  96391\n",
       "CNT_FAM_MEMBERS                      2\n",
       "REGION_RATING_CLIENT_W_CITY          0\n",
       "WEEKDAY_APPR_PROCESS_START           0\n",
       "HOUR_APPR_PROCESS_START              0\n",
       "REG_REGION_NOT_LIVE_REGION           0\n",
       "REG_REGION_NOT_WORK_REGION           0\n",
       "LIVE_REGION_NOT_WORK_REGION          0\n",
       "REG_CITY_NOT_LIVE_CITY               0\n",
       "REG_CITY_NOT_WORK_CITY               0\n",
       "LIVE_CITY_NOT_WORK_CITY              0\n",
       "ORGANIZATION_TYPE                    0\n",
       "YEARS_BEGINEXPLUATATION_AVG     150007\n",
       "FLOORSMAX_AVG                   153020\n",
       "YEARS_BEGINEXPLUATATION_MODE    150007\n",
       "FLOORSMAX_MODE                  153020\n",
       "YEARS_BEGINEXPLUATATION_MEDI    150007\n",
       "FLOORSMAX_MEDI                  153020\n",
       "TOTALAREA_MODE                  148431\n",
       "EMERGENCYSTATE_MODE             145755\n",
       "dtype: int64"
      ]
     },
     "execution_count": 54,
     "metadata": {},
     "output_type": "execute_result"
    }
   ],
   "source": [
    "application.isnull().sum()"
   ]
  },
  {
   "cell_type": "code",
   "execution_count": 55,
   "id": "4549846d",
   "metadata": {},
   "outputs": [],
   "source": [
    "un_cols=['EMERGENCYSTATE_MODE','TOTALAREA_MODE','FLOORSMAX_MEDI','YEARS_BEGINEXPLUATATION_MEDI','FLOORSMAX_MODE','YEARS_BEGINEXPLUATATION_MODE','YEARS_BEGINEXPLUATATION_MODE','FLOORSMAX_AVG','YEARS_BEGINEXPLUATATION_AVG']"
   ]
  },
  {
   "cell_type": "code",
   "execution_count": 56,
   "id": "803bb7e2",
   "metadata": {},
   "outputs": [],
   "source": [
    "application.drop(labels=un_cols,axis=1,inplace=True)"
   ]
  },
  {
   "cell_type": "code",
   "execution_count": 57,
   "id": "c6911897",
   "metadata": {},
   "outputs": [
    {
     "data": {
      "text/plain": [
       "count    307509.000000\n",
       "mean          2.152665\n",
       "std           0.910682\n",
       "min           1.000000\n",
       "25%           2.000000\n",
       "50%           2.000000\n",
       "75%           3.000000\n",
       "max          20.000000\n",
       "Name: CNT_FAM_MEMBERS, dtype: float64"
      ]
     },
     "execution_count": 57,
     "metadata": {},
     "output_type": "execute_result"
    }
   ],
   "source": [
    "application['CNT_FAM_MEMBERS'].describe()    "
   ]
  },
  {
   "cell_type": "code",
   "execution_count": 58,
   "id": "cbc56b64",
   "metadata": {},
   "outputs": [
    {
     "name": "stderr",
     "output_type": "stream",
     "text": [
      "C:\\Users\\Asmita kaushal\\AppData\\Local\\Programs\\Python\\Python310\\lib\\site-packages\\seaborn\\_decorators.py:36: FutureWarning: Pass the following variable as a keyword arg: x. From version 0.12, the only valid positional argument will be `data`, and passing other arguments without an explicit keyword will result in an error or misinterpretation.\n",
      "  warnings.warn(\n"
     ]
    },
    {
     "data": {
      "image/png": "[encoded data removed]",
      "text/plain": [
       "<Figure size 720x432 with 1 Axes>"
      ]
     },
     "metadata": {
      "needs_background": "light"
     },
     "output_type": "display_data"
    }
   ],
   "source": [
    "plt.figure(figsize = [10,6]) \n",
    "sns.boxplot(application['CNT_FAM_MEMBERS']) \n",
    "plt.title(\"Boxplot of CNT_FAM_MEMBERS\")\n",
    "plt.show()"
   ]
  },
  {
   "cell_type": "markdown",
   "id": "9d3f9df8",
   "metadata": {},
   "source": [
    "### Insight : Box plot shows data has many outlier's therefore we will use median to fill the missing values"
   ]
  },
  {
   "cell_type": "code",
   "execution_count": 59,
   "id": "feb4f577",
   "metadata": {},
   "outputs": [],
   "source": [
    "median=application['CNT_FAM_MEMBERS'].median()"
   ]
  },
  {
   "cell_type": "code",
   "execution_count": 60,
   "id": "1e865efd",
   "metadata": {},
   "outputs": [],
   "source": [
    "application.loc[application['CNT_FAM_MEMBERS'].isnull(),'CNT_FAM_MEMBERS']=median\n"
   ]
  },
  {
   "cell_type": "code",
   "execution_count": 61,
   "id": "622a3326",
   "metadata": {},
   "outputs": [
    {
     "data": {
      "text/plain": [
       "False"
      ]
     },
     "execution_count": 61,
     "metadata": {},
     "output_type": "execute_result"
    }
   ],
   "source": [
    "application['CNT_FAM_MEMBERS'].isnull().any()"
   ]
  },
  {
   "cell_type": "code",
   "execution_count": 62,
   "id": "65598647",
   "metadata": {},
   "outputs": [
    {
     "data": {
      "text/plain": [
       "count    3.072330e+05\n",
       "mean     5.383962e+05\n",
       "std      3.694465e+05\n",
       "min      4.050000e+04\n",
       "25%      2.385000e+05\n",
       "50%      4.500000e+05\n",
       "75%      6.795000e+05\n",
       "max      4.050000e+06\n",
       "Name: AMT_GOODS_PRICE, dtype: float64"
      ]
     },
     "execution_count": 62,
     "metadata": {},
     "output_type": "execute_result"
    }
   ],
   "source": [
    "application['AMT_GOODS_PRICE'].describe()"
   ]
  },
  {
   "cell_type": "code",
   "execution_count": 63,
   "id": "e44b6e7a",
   "metadata": {},
   "outputs": [
    {
     "name": "stderr",
     "output_type": "stream",
     "text": [
      "C:\\Users\\Asmita kaushal\\AppData\\Local\\Programs\\Python\\Python310\\lib\\site-packages\\seaborn\\_decorators.py:36: FutureWarning: Pass the following variable as a keyword arg: x. From version 0.12, the only valid positional argument will be `data`, and passing other arguments without an explicit keyword will result in an error or misinterpretation.\n",
      "  warnings.warn(\n"
     ]
    },
    {
     "data": {
      "image/png": "[encoded data removed]",
      "text/plain": [
       "<Figure size 720x432 with 1 Axes>"
      ]
     },
     "metadata": {
      "needs_background": "light"
     },
     "output_type": "display_data"
    }
   ],
   "source": [
    "plt.figure(figsize = [10,6]) \n",
    "sns.boxplot(application['AMT_GOODS_PRICE']) \n",
    "plt.title(\"Boxplot of AMT_GOODS_PRICE\")\n",
    "plt.show()"
   ]
  },
  {
   "cell_type": "markdown",
   "id": "7eaff3b2",
   "metadata": {},
   "source": [
    "### Insight : Box plot shows data has many outlier's therefore we will use median to fill the missing values"
   ]
  },
  {
   "cell_type": "code",
   "execution_count": 64,
   "id": "caebd5cf",
   "metadata": {},
   "outputs": [],
   "source": [
    "mediann=application['AMT_GOODS_PRICE'].median()"
   ]
  },
  {
   "cell_type": "code",
   "execution_count": 65,
   "id": "0848f54c",
   "metadata": {},
   "outputs": [],
   "source": [
    "application.loc[application['AMT_GOODS_PRICE'].isnull(),'AMT_GOODS_PRICE']=mediann\n"
   ]
  },
  {
   "cell_type": "code",
   "execution_count": 66,
   "id": "b1d35236",
   "metadata": {},
   "outputs": [
    {
     "data": {
      "text/plain": [
       "False"
      ]
     },
     "execution_count": 66,
     "metadata": {},
     "output_type": "execute_result"
    }
   ],
   "source": [
    "application['AMT_GOODS_PRICE'].isnull().any()"
   ]
  },
  {
   "cell_type": "markdown",
   "id": "864c0aa0",
   "metadata": {},
   "source": [
    " <font color='Red'>Standardise</font>\n"
   ]
  },
  {
   "cell_type": "code",
   "execution_count": 67,
   "id": "c8b58366",
   "metadata": {},
   "outputs": [],
   "source": [
    "# Converting Negative days to positive days\n",
    "\n",
    "date_col = ['DAYS_BIRTH','DAYS_EMPLOYED','DAYS_REGISTRATION','DAYS_ID_PUBLISH']\n",
    "\n",
    "for col in date_col:\n",
    "    application[col] = abs(application[col])"
   ]
  },
  {
   "cell_type": "code",
   "execution_count": 71,
   "id": "2ff87504",
   "metadata": {},
   "outputs": [
    {
     "name": "stdout",
     "output_type": "stream",
     "text": [
      "[ 9461 16765 19046 ...  7951  7857 25061]\n"
     ]
    }
   ],
   "source": [
    "print(application['DAYS_BIRTH'].unique())\n"
   ]
  },
  {
   "cell_type": "code",
   "execution_count": 73,
   "id": "fdb73699",
   "metadata": {},
   "outputs": [],
   "source": [
    "# Creating bins for income amount\n",
    "application['AMT_INCOME_TOTAL']=application['AMT_INCOME_TOTAL']/100000\n",
    "\n",
    "application['AMT_INCOME_RANGE']=pd.cut(application['AMT_INCOME_TOTAL'],bins=[0,1,2,3,4,5,6,7,8,9,10,11],labels=['0-100K','100K-200K', '200k-300k','300k-400k','400k-500k','500k-600k','600k-700k','700k-800k','800k-900k','900k-1M', '1M Above'])\n"
   ]
  },
  {
   "cell_type": "code",
   "execution_count": 74,
   "id": "0fe72d87",
   "metadata": {},
   "outputs": [
    {
     "data": {
      "text/plain": [
       "0-100K       307511\n",
       "100K-200K         0\n",
       "200k-300k         0\n",
       "300k-400k         0\n",
       "400k-500k         0\n",
       "500k-600k         0\n",
       "600k-700k         0\n",
       "700k-800k         0\n",
       "800k-900k         0\n",
       "900k-1M           0\n",
       "1M Above          0\n",
       "Name: AMT_INCOME_RANGE, dtype: int64"
      ]
     },
     "execution_count": 74,
     "metadata": {},
     "output_type": "execute_result"
    }
   ],
   "source": [
    "application['AMT_INCOME_RANGE'].value_counts()"
   ]
  },
  {
   "cell_type": "markdown",
   "id": "4365c3ca",
   "metadata": {},
   "source": [
    "### Insight : Most loan applicants have income amount in the range of 100K-200K. Very few loan applicants have income more than 300K\n"
   ]
  },
  {
   "cell_type": "code",
   "execution_count": 75,
   "id": "29fde756",
   "metadata": {},
   "outputs": [],
   "source": [
    "#creating bins for amount credit\n",
    "application['AMT_CREDIT']=application['AMT_CREDIT']/100000\n",
    "application['AMT_CREDIT_RANGE']=pd.cut(application['AMT_CREDIT'],bins=[0,1,2,3,4,5,6,7,8,9,10,11],labels=['0-100K','100K-200K', '200k-300k','300k-400k','400k-500k','500k-600k','600k-700k','700k-800k','800k-900k','900k-1M', '1M Above'])"
   ]
  },
  {
   "cell_type": "code",
   "execution_count": 76,
   "id": "da446bd1",
   "metadata": {},
   "outputs": [
    {
     "data": {
      "text/plain": [
       "200k-300k    54813\n",
       "500k-600k    34232\n",
       "400k-500k    32038\n",
       "100K-200K    30140\n",
       "300k-400k    26338\n",
       "600k-700k    24049\n",
       "800k-900k    21792\n",
       "700k-800k    19193\n",
       "1M Above     13422\n",
       "900k-1M       8927\n",
       "0-100K        6004\n",
       "Name: AMT_CREDIT_RANGE, dtype: int64"
      ]
     },
     "execution_count": 76,
     "metadata": {},
     "output_type": "execute_result"
    }
   ],
   "source": [
    "application['AMT_CREDIT_RANGE'].value_counts()"
   ]
  },
  {
   "cell_type": "markdown",
   "id": "f87bddf0",
   "metadata": {},
   "source": [
    "### Insight : Very few people take loan ranging from 0-100k\n"
   ]
  },
  {
   "cell_type": "code",
   "execution_count": 77,
   "id": "d9a67b0a",
   "metadata": {},
   "outputs": [],
   "source": [
    "# Creating bins for Employement Time\n",
    "application['YEARS_EMPLOYED'] = application['DAYS_EMPLOYED'] // 365\n",
    "bins = [0,5,10,20,30,40,50,60,150]\n",
    "slots = ['0-5','5-10','10-20','20-30','30-40','40-50','50-60','60 above']\n",
    "\n",
    "application['EMPLOYMENT_YEAR']=pd.cut(application['YEARS_EMPLOYED'],bins=bins,labels=slots)"
   ]
  },
  {
   "cell_type": "code",
   "execution_count": 78,
   "id": "a9175153",
   "metadata": {},
   "outputs": [
    {
     "data": {
      "text/plain": [
       "0-5         124634\n",
       "5-10         55983\n",
       "10-20        32658\n",
       "20-30         8409\n",
       "30-40         2374\n",
       "40-50          175\n",
       "50-60            0\n",
       "60 above         0\n",
       "Name: EMPLOYMENT_YEAR, dtype: int64"
      ]
     },
     "execution_count": 78,
     "metadata": {},
     "output_type": "execute_result"
    }
   ],
   "source": [
    "application['EMPLOYMENT_YEAR'].value_counts()\n"
   ]
  },
  {
   "cell_type": "markdown",
   "id": "353818ee",
   "metadata": {},
   "source": [
    "### Insight : Most of the loan applicants have work experience within 0-5 years \n"
   ]
  },
  {
   "cell_type": "code",
   "execution_count": 79,
   "id": "49590018",
   "metadata": {},
   "outputs": [
    {
     "data": {
      "text/plain": [
       "AMT_INCOME_RANGE                    1\n",
       "LIVE_CITY_NOT_WORK_CITY             2\n",
       "TARGET                              2\n",
       "NAME_CONTRACT_TYPE                  2\n",
       "FLAG_OWN_CAR                        2\n",
       "FLAG_OWN_REALTY                     2\n",
       "REG_CITY_NOT_LIVE_CITY              2\n",
       "LIVE_REGION_NOT_WORK_REGION         2\n",
       "REG_REGION_NOT_WORK_REGION          2\n",
       "REG_REGION_NOT_LIVE_REGION          2\n",
       "REG_CITY_NOT_WORK_CITY              2\n",
       "CODE_GENDER                         3\n",
       "REGION_RATING_CLIENT_W_CITY         3\n",
       "NAME_EDUCATION_TYPE                 5\n",
       "EMPLOYMENT_YEAR                     6\n",
       "NAME_FAMILY_STATUS                  6\n",
       "NAME_HOUSING_TYPE                   6\n",
       "WEEKDAY_APPR_PROCESS_START          7\n",
       "NAME_INCOME_TYPE                    8\n",
       "AMT_CREDIT_RANGE                   11\n",
       "CNT_CHILDREN                       15\n",
       "CNT_FAM_MEMBERS                    17\n",
       "OCCUPATION_TYPE                    18\n",
       "HOUR_APPR_PROCESS_START            24\n",
       "YEARS_EMPLOYED                     51\n",
       "ORGANIZATION_TYPE                  58\n",
       "REGION_POPULATION_RELATIVE         81\n",
       "AMT_GOODS_PRICE                  1002\n",
       "AMT_INCOME_TOTAL                 2548\n",
       "AMT_CREDIT                       5603\n",
       "DAYS_ID_PUBLISH                  6168\n",
       "DAYS_EMPLOYED                   12574\n",
       "AMT_ANNUITY                     13672\n",
       "DAYS_REGISTRATION               15688\n",
       "DAYS_BIRTH                      17460\n",
       "SK_ID_CURR                     307511\n",
       "dtype: int64"
      ]
     },
     "execution_count": 79,
     "metadata": {},
     "output_type": "execute_result"
    }
   ],
   "source": [
    "#Checking the number of unique values each column possess to identify categorical columns\n",
    "application.nunique().sort_values()"
   ]
  },
  {
   "cell_type": "code",
   "execution_count": 81,
   "id": "b9ca7f96",
   "metadata": {},
   "outputs": [],
   "source": [
    "#Conversion of Object and Numerical columns to Categorical Columns\n",
    "categorical_columns = ['NAME_CONTRACT_TYPE','CODE_GENDER','NAME_INCOME_TYPE','NAME_EDUCATION_TYPE',\n",
    "                       'NAME_FAMILY_STATUS','NAME_HOUSING_TYPE','OCCUPATION_TYPE','WEEKDAY_APPR_PROCESS_START',\n",
    "                       'ORGANIZATION_TYPE','FLAG_OWN_CAR','FLAG_OWN_REALTY','LIVE_CITY_NOT_WORK_CITY',\n",
    "                       'REG_CITY_NOT_LIVE_CITY','REG_CITY_NOT_WORK_CITY','REG_REGION_NOT_WORK_REGION',\n",
    "                       'LIVE_REGION_NOT_WORK_REGION','WEEKDAY_APPR_PROCESS_START',\n",
    "                       'REGION_RATING_CLIENT_W_CITY'\n",
    "                      ]\n",
    "for col in categorical_columns:\n",
    "    application[col] =pd.Categorical(application[col])"
   ]
  },
  {
   "cell_type": "code",
   "execution_count": 82,
   "id": "26a687da",
   "metadata": {},
   "outputs": [
    {
     "name": "stdout",
     "output_type": "stream",
     "text": [
      "<class 'pandas.core.frame.DataFrame'>\n",
      "RangeIndex: 307511 entries, 0 to 307510\n",
      "Data columns (total 36 columns):\n",
      " #   Column                       Non-Null Count   Dtype   \n",
      "---  ------                       --------------   -----   \n",
      " 0   SK_ID_CURR                   307511 non-null  int64   \n",
      " 1   TARGET                       307511 non-null  int64   \n",
      " 2   NAME_CONTRACT_TYPE           307511 non-null  category\n",
      " 3   CODE_GENDER                  307511 non-null  category\n",
      " 4   FLAG_OWN_CAR                 307511 non-null  category\n",
      " 5   FLAG_OWN_REALTY              307511 non-null  category\n",
      " 6   CNT_CHILDREN                 307511 non-null  int64   \n",
      " 7   AMT_INCOME_TOTAL             307511 non-null  float64 \n",
      " 8   AMT_CREDIT                   307511 non-null  float64 \n",
      " 9   AMT_ANNUITY                  307511 non-null  float64 \n",
      " 10  AMT_GOODS_PRICE              307511 non-null  float64 \n",
      " 11  NAME_INCOME_TYPE             307511 non-null  category\n",
      " 12  NAME_EDUCATION_TYPE          307511 non-null  category\n",
      " 13  NAME_FAMILY_STATUS           307511 non-null  category\n",
      " 14  NAME_HOUSING_TYPE            307511 non-null  category\n",
      " 15  REGION_POPULATION_RELATIVE   307511 non-null  float64 \n",
      " 16  DAYS_BIRTH                   307511 non-null  int64   \n",
      " 17  DAYS_EMPLOYED                307511 non-null  int64   \n",
      " 18  DAYS_REGISTRATION            307511 non-null  float64 \n",
      " 19  DAYS_ID_PUBLISH              307511 non-null  int64   \n",
      " 20  OCCUPATION_TYPE              211120 non-null  category\n",
      " 21  CNT_FAM_MEMBERS              307511 non-null  float64 \n",
      " 22  REGION_RATING_CLIENT_W_CITY  307511 non-null  category\n",
      " 23  WEEKDAY_APPR_PROCESS_START   307511 non-null  category\n",
      " 24  HOUR_APPR_PROCESS_START      307511 non-null  int64   \n",
      " 25  REG_REGION_NOT_LIVE_REGION   307511 non-null  int64   \n",
      " 26  REG_REGION_NOT_WORK_REGION   307511 non-null  category\n",
      " 27  LIVE_REGION_NOT_WORK_REGION  307511 non-null  category\n",
      " 28  REG_CITY_NOT_LIVE_CITY       307511 non-null  category\n",
      " 29  REG_CITY_NOT_WORK_CITY       307511 non-null  category\n",
      " 30  LIVE_CITY_NOT_WORK_CITY      307511 non-null  category\n",
      " 31  ORGANIZATION_TYPE            307511 non-null  category\n",
      " 32  AMT_INCOME_RANGE             307511 non-null  category\n",
      " 33  AMT_CREDIT_RANGE             270948 non-null  category\n",
      " 34  YEARS_EMPLOYED               307511 non-null  int64   \n",
      " 35  EMPLOYMENT_YEAR              224233 non-null  category\n",
      "dtypes: category(20), float64(7), int64(9)\n",
      "memory usage: 43.4 MB\n"
     ]
    }
   ],
   "source": [
    "application.info()"
   ]
  },
  {
   "cell_type": "code",
   "execution_count": 83,
   "id": "aa46d4d1",
   "metadata": {},
   "outputs": [
    {
     "data": {
      "text/plain": [
       "F      202448\n",
       "M      105059\n",
       "XNA         4\n",
       "Name: CODE_GENDER, dtype: int64"
      ]
     },
     "execution_count": 83,
     "metadata": {},
     "output_type": "execute_result"
    }
   ],
   "source": [
    "application['CODE_GENDER'].value_counts()\n"
   ]
  },
  {
   "cell_type": "code",
   "execution_count": 84,
   "id": "94b3794d",
   "metadata": {},
   "outputs": [
    {
     "data": {
      "text/plain": [
       "F      202452\n",
       "M      105059\n",
       "XNA         0\n",
       "Name: CODE_GENDER, dtype: int64"
      ]
     },
     "execution_count": 84,
     "metadata": {},
     "output_type": "execute_result"
    }
   ],
   "source": [
    "## As per the above analysis, I found that the number of Female 'F' is higher than the Male 'M'.\n",
    "## So we will replace the XNA value with the mode which is Female 'F'.\n",
    "application.loc[application['CODE_GENDER']=='XNA','CODE_GENDER']='F'\n",
    "application['CODE_GENDER'].value_counts()"
   ]
  },
  {
   "cell_type": "code",
   "execution_count": 85,
   "id": "fc5965bb",
   "metadata": {},
   "outputs": [],
   "source": [
    "#Converting negative days to positive days \n",
    "pre_application['DAYS_DECISION'] = abs(pre_application['DAYS_DECISION'])"
   ]
  },
  {
   "cell_type": "code",
   "execution_count": 86,
   "id": "6648bee2",
   "metadata": {},
   "outputs": [],
   "source": [
    "#Converting Categorical columns from Object to categorical \n",
    "Catgorical_col_p = ['NAME_CASH_LOAN_PURPOSE','NAME_CONTRACT_STATUS','NAME_PAYMENT_TYPE',\n",
    "                    'CODE_REJECT_REASON','NAME_CLIENT_TYPE','NAME_GOODS_CATEGORY','NAME_PORTFOLIO',\n",
    "                   'NAME_PRODUCT_TYPE','CHANNEL_TYPE','NAME_SELLER_INDUSTRY','NAME_YIELD_GROUP','PRODUCT_COMBINATION',\n",
    "                    'NAME_CONTRACT_TYPE']\n",
    "\n",
    "for col in Catgorical_col_p:\n",
    "    pre_application[col] =pd.Categorical(pre_application[col])"
   ]
  },
  {
   "cell_type": "code",
   "execution_count": 87,
   "id": "afc3fa71",
   "metadata": {},
   "outputs": [
    {
     "name": "stdout",
     "output_type": "stream",
     "text": [
      "<class 'pandas.core.frame.DataFrame'>\n",
      "RangeIndex: 1048575 entries, 0 to 1048574\n",
      "Data columns (total 22 columns):\n",
      " #   Column                  Non-Null Count    Dtype   \n",
      "---  ------                  --------------    -----   \n",
      " 0   SK_ID_PREV              1048575 non-null  int64   \n",
      " 1   SK_ID_CURR              1048575 non-null  int64   \n",
      " 2   NAME_CONTRACT_TYPE      1048575 non-null  category\n",
      " 3   AMT_ANNUITY             815566 non-null   float64 \n",
      " 4   AMT_APPLICATION         1048575 non-null  float64 \n",
      " 5   AMT_CREDIT              1048575 non-null  float64 \n",
      " 6   AMT_GOODS_PRICE         807610 non-null   float64 \n",
      " 7   NAME_CASH_LOAN_PURPOSE  1048575 non-null  category\n",
      " 8   NAME_CONTRACT_STATUS    1048575 non-null  category\n",
      " 9   DAYS_DECISION           1048575 non-null  int64   \n",
      " 10  NAME_PAYMENT_TYPE       1048575 non-null  category\n",
      " 11  CODE_REJECT_REASON      1048575 non-null  category\n",
      " 12  NAME_CLIENT_TYPE        1048575 non-null  category\n",
      " 13  NAME_GOODS_CATEGORY     1048575 non-null  category\n",
      " 14  NAME_PORTFOLIO          1048575 non-null  category\n",
      " 15  NAME_PRODUCT_TYPE       1048575 non-null  category\n",
      " 16  CHANNEL_TYPE            1048575 non-null  category\n",
      " 17  SELLERPLACE_AREA        1048575 non-null  int64   \n",
      " 18  NAME_SELLER_INDUSTRY    1048575 non-null  category\n",
      " 19  CNT_PAYMENT             815569 non-null   float64 \n",
      " 20  NAME_YIELD_GROUP        1048575 non-null  category\n",
      " 21  PRODUCT_COMBINATION     1048351 non-null  category\n",
      "dtypes: category(13), float64(5), int64(4)\n",
      "memory usage: 85.0 MB\n"
     ]
    }
   ],
   "source": [
    "pre_application.info()"
   ]
  },
  {
   "cell_type": "code",
   "execution_count": 88,
   "id": "58b59465",
   "metadata": {},
   "outputs": [
    {
     "name": "stdout",
     "output_type": "stream",
     "text": [
      "<class 'pandas.core.frame.DataFrame'>\n",
      "RangeIndex: 307511 entries, 0 to 307510\n",
      "Data columns (total 36 columns):\n",
      " #   Column                       Non-Null Count   Dtype   \n",
      "---  ------                       --------------   -----   \n",
      " 0   SK_ID_CURR                   307511 non-null  int64   \n",
      " 1   TARGET                       307511 non-null  int64   \n",
      " 2   NAME_CONTRACT_TYPE           307511 non-null  category\n",
      " 3   CODE_GENDER                  307511 non-null  category\n",
      " 4   FLAG_OWN_CAR                 307511 non-null  category\n",
      " 5   FLAG_OWN_REALTY              307511 non-null  category\n",
      " 6   CNT_CHILDREN                 307511 non-null  int64   \n",
      " 7   AMT_INCOME_TOTAL             307511 non-null  float64 \n",
      " 8   AMT_CREDIT                   307511 non-null  float64 \n",
      " 9   AMT_ANNUITY                  307511 non-null  float64 \n",
      " 10  AMT_GOODS_PRICE              307511 non-null  float64 \n",
      " 11  NAME_INCOME_TYPE             307511 non-null  category\n",
      " 12  NAME_EDUCATION_TYPE          307511 non-null  category\n",
      " 13  NAME_FAMILY_STATUS           307511 non-null  category\n",
      " 14  NAME_HOUSING_TYPE            307511 non-null  category\n",
      " 15  REGION_POPULATION_RELATIVE   307511 non-null  float64 \n",
      " 16  DAYS_BIRTH                   307511 non-null  int64   \n",
      " 17  DAYS_EMPLOYED                307511 non-null  int64   \n",
      " 18  DAYS_REGISTRATION            307511 non-null  float64 \n",
      " 19  DAYS_ID_PUBLISH              307511 non-null  int64   \n",
      " 20  OCCUPATION_TYPE              211120 non-null  category\n",
      " 21  CNT_FAM_MEMBERS              307511 non-null  float64 \n",
      " 22  REGION_RATING_CLIENT_W_CITY  307511 non-null  category\n",
      " 23  WEEKDAY_APPR_PROCESS_START   307511 non-null  category\n",
      " 24  HOUR_APPR_PROCESS_START      307511 non-null  int64   \n",
      " 25  REG_REGION_NOT_LIVE_REGION   307511 non-null  int64   \n",
      " 26  REG_REGION_NOT_WORK_REGION   307511 non-null  category\n",
      " 27  LIVE_REGION_NOT_WORK_REGION  307511 non-null  category\n",
      " 28  REG_CITY_NOT_LIVE_CITY       307511 non-null  category\n",
      " 29  REG_CITY_NOT_WORK_CITY       307511 non-null  category\n",
      " 30  LIVE_CITY_NOT_WORK_CITY      307511 non-null  category\n",
      " 31  ORGANIZATION_TYPE            307511 non-null  category\n",
      " 32  AMT_INCOME_RANGE             307511 non-null  category\n",
      " 33  AMT_CREDIT_RANGE             270948 non-null  category\n",
      " 34  YEARS_EMPLOYED               307511 non-null  int64   \n",
      " 35  EMPLOYMENT_YEAR              224233 non-null  category\n",
      "dtypes: category(20), float64(7), int64(9)\n",
      "memory usage: 43.4 MB\n"
     ]
    }
   ],
   "source": [
    "application.info()"
   ]
  },
  {
   "cell_type": "code",
   "execution_count": 89,
   "id": "c6770904",
   "metadata": {},
   "outputs": [],
   "source": [
    "application['OCCUPATION_TYPE'] = application['OCCUPATION_TYPE'].cat.add_categories('Unknown')\n",
    "application['OCCUPATION_TYPE'].fillna('Unknown', inplace =True) "
   ]
  },
  {
   "cell_type": "markdown",
   "id": "245c8e09",
   "metadata": {},
   "source": [
    " <font color='Red'>Identify outliers</font>\n"
   ]
  },
  {
   "cell_type": "code",
   "execution_count": 90,
   "id": "bd55dfa7",
   "metadata": {},
   "outputs": [
    {
     "data": {
      "image/png": "[encoded data removed]",
      "text/plain": [
       "<Figure size 1440x1080 with 7 Axes>"
      ]
     },
     "metadata": {
      "needs_background": "light"
     },
     "output_type": "display_data"
    }
   ],
   "source": [
    "plt.figure(figsize=(20,15))\n",
    "\n",
    "app_outlier_col_1 = ['AMT_ANNUITY','AMT_INCOME_TOTAL','AMT_CREDIT','AMT_GOODS_PRICE','DAYS_EMPLOYED','CNT_CHILDREN','DAYS_BIRTH']\n",
    "for i in enumerate(app_outlier_col_1):\n",
    "    plt.subplot(3,3,i[0]+1) #number of rows, columns\n",
    "    sns.boxplot(y=application[i[1]])\n",
    "    plt.title(i[1])\n",
    "    plt.ylabel(\"\")"
   ]
  },
  {
   "cell_type": "markdown",
   "id": "2384e4bc",
   "metadata": {},
   "source": [
    "### Insight:\n",
    "1) AMT_ANNUITY, AMT_CREDIT, AMT_GOODS_PRICE,CNT_CHILDREN have some number of outliers.\n",
    "\n",
    "2) AMT_INCOME_TOTAL has huge number of outliers which indicate that few of the loan applicants have high income when compared to the others.\n",
    "\n",
    "3) DAYS_BIRTH has no outliers which means the data available is reliable.\n",
    "\n",
    "4) DAYS_EMPLOYED has outlier values around 350000(days) which is around 958 years which is impossible and hence this has to be incorrect entry."
   ]
  },
  {
   "cell_type": "code",
   "execution_count": 91,
   "id": "cc761350",
   "metadata": {
    "scrolled": true
   },
   "outputs": [
    {
     "data": {
      "image/png": "[encoded data removed]",
      "text/plain": [
       "<Figure size 1440x1080 with 8 Axes>"
      ]
     },
     "metadata": {
      "needs_background": "light"
     },
     "output_type": "display_data"
    }
   ],
   "source": [
    "plt.figure(figsize=(20,15))\n",
    "\n",
    "prev_outlier_col_1 = ['AMT_ANNUITY','AMT_APPLICATION','AMT_CREDIT','AMT_GOODS_PRICE','SELLERPLACE_AREA','SK_ID_CURR','DAYS_DECISION','CNT_PAYMENT']\n",
    "\n",
    "for i in enumerate(prev_outlier_col_1):\n",
    "    plt.subplot(3,3,i[0]+1)\n",
    "    sns.boxplot(y=pre_application[i[1]])\n",
    "    plt.title(i[1])\n",
    "    plt.ylabel(\"\")"
   ]
  },
  {
   "cell_type": "markdown",
   "id": "c5981eae",
   "metadata": {},
   "source": [
    "### Insight:\n",
    "1) AMT_ANNUITY, AMT_APPLICATION, AMT_CREDIT, AMT_GOODS_PRICE, SELLERPLACE_AREA have huge number of outliers.\n",
    "\n",
    "2) CNT_PAYMENT has few outlier values.\n",
    "\n",
    "3) SK_ID_CURR is an ID column and hence no outliers.\n",
    "\n",
    "4) DAYS_DECISION has little number of outliers indicating that these previous applications decisions were taken long back."
   ]
  },
  {
   "cell_type": "markdown",
   "id": "72f536bf",
   "metadata": {},
   "source": [
    " <font color='Red'>Data Analysis</font>\n"
   ]
  },
  {
   "cell_type": "code",
   "execution_count": 92,
   "id": "040d394c",
   "metadata": {},
   "outputs": [],
   "source": [
    "target_number=application['TARGET'].value_counts()"
   ]
  },
  {
   "cell_type": "code",
   "execution_count": 93,
   "id": "48e3a464",
   "metadata": {},
   "outputs": [
    {
     "data": {
      "image/png": "[encoded data removed]",
      "text/plain": [
       "<Figure size 720x432 with 1 Axes>"
      ]
     },
     "metadata": {
      "needs_background": "light"
     },
     "output_type": "display_data"
    }
   ],
   "source": [
    "target_number.plot(kind='bar',colormap='Paired',figsize=(10,6), xlabel='Loan Repayment Status',\n",
    "                    ylabel='Count',title='Number of Defaulters and Repayers');"
   ]
  },
  {
   "cell_type": "code",
   "execution_count": 94,
   "id": "58f1ba4f",
   "metadata": {},
   "outputs": [
    {
     "data": {
      "text/plain": [
       "0    282686\n",
       "1     24825\n",
       "Name: TARGET, dtype: int64"
      ]
     },
     "execution_count": 94,
     "metadata": {},
     "output_type": "execute_result"
    }
   ],
   "source": [
    "target_number"
   ]
  },
  {
   "cell_type": "code",
   "execution_count": 95,
   "id": "6f289759",
   "metadata": {},
   "outputs": [
    {
     "name": "stdout",
     "output_type": "stream",
     "text": [
      "Imbalance Ratio with respect to the Repayer and Defaulter clients is: 11.39 (approximately)\n"
     ]
    }
   ],
   "source": [
    "#Ratio of imbalance percentage with respect to TARGET=1(defaulter) and TARGET=0(repayer) is given below \n",
    "target_0_repayer = round((application[\"TARGET\"].value_counts()[0]/len(application)* 100),2)\n",
    "target_1_defaluter = round((application[\"TARGET\"].value_counts()[1]/len(application)* 100),2)\n",
    "print(\"Imbalance Ratio with respect to the Repayer and Defaulter clients is: {0:.2f} (approximately)\".format(target_0_repayer/target_1_defaluter))"
   ]
  },
  {
   "cell_type": "markdown",
   "id": "13cc75da",
   "metadata": {},
   "source": [
    "## Creating functions to plot multiple Graphs"
   ]
  },
  {
   "cell_type": "code",
   "execution_count": 96,
   "id": "7549fa72",
   "metadata": {},
   "outputs": [],
   "source": [
    "# function for plotting repetitive countplots in univariate categorical analysis on applicationDF\n",
    "# This function will create two subplots: \n",
    "# 1. Count plot of categorical column w.r.t TARGET; \n",
    "# 2. Percentage of defaulters within column\n",
    "\n",
    "def univariate_categorical(feature,ylog=False,label_rotation=False,horizontal_layout=True):\n",
    "    temp = application[feature].value_counts()\n",
    "    #df1 = pd.DataFrame({feature: temp.index,'Number of contracts': temp.values})\n",
    "\n",
    "    # Calculate the percentage of target=1 per category value\n",
    "    cat_perc = application[[feature, 'TARGET']].groupby([feature],as_index=False).mean()\n",
    "    cat_perc[\"TARGET\"] = cat_perc[\"TARGET\"]*100\n",
    "    cat_perc.sort_values(by='TARGET', ascending=False, inplace=True)\n",
    "    \n",
    "    \n",
    "   \n",
    "    fig, (ax1, ax2) = plt.subplots(ncols=2, figsize=(12,6))\n",
    "\n",
    "#plt.subplots() is a function that returns a tuple containing a figure and axes object(s). Thus when using fig, ax = plt.subplots() you unpack this tuple into the variables fig and ax.\n",
    "        \n",
    "\n",
    "    # 1. Subplot 1: Count plot of categorical column\n",
    "    # sns.set_palette(\"Set2\")\n",
    "    s = sns.countplot(ax=ax1, \n",
    "                    x = feature, \n",
    "                    data=application,\n",
    "                    hue =\"TARGET\",\n",
    "                    order=cat_perc[feature],\n",
    "                    palette=\"husl\")\n",
    "    \n",
    "    # Define common styling\n",
    "    ax1.set_title(feature, fontdict={'fontsize' : 15, 'fontweight' : 15, 'color' : 'Red'}) \n",
    "    ax1.legend(['Repayer','Defaulter'])\n",
    "    \n",
    "    if ylog:\n",
    "        ax1.set_yscale('log')\n",
    "        ax1.set_ylabel(\"Count (log)\",fontdict={'fontsize' : 10, 'fontweight' : 3, 'color' : 'Blue'})   \n",
    "    \n",
    "    \n",
    "    if(label_rotation):\n",
    "        s.set_xticklabels(s.get_xticklabels(),rotation=90)\n",
    "    \n",
    "    # 2. Subplot 2: Percentage of defaulters within the categorical column\n",
    "    s = sns.barplot(ax=ax2, \n",
    "                    x = feature, \n",
    "                    y='TARGET', \n",
    "                    order=cat_perc[feature], \n",
    "                    data=cat_perc,\n",
    "                    palette='magma')\n",
    "    \n",
    "    if(label_rotation):\n",
    "        s.set_xticklabels(s.get_xticklabels(),rotation=90)\n",
    "    plt.ylabel('Percent of Defaulters [%]', fontsize=10)\n",
    "    plt.tick_params(axis='both', which='major', labelsize=10)\n",
    "    ax2.set_title(feature + \" Defaulter %\", fontdict={'fontsize' : 15, 'fontweight' : 5, 'color' : 'Red'}) \n",
    "\n",
    "    plt.show();"
   ]
  },
  {
   "cell_type": "code",
   "execution_count": 97,
   "id": "03ff4919",
   "metadata": {},
   "outputs": [
    {
     "data": {
      "image/png": "[encoded data removed]",
      "text/plain": [
       "<Figure size 864x432 with 2 Axes>"
      ]
     },
     "metadata": {
      "needs_background": "light"
     },
     "output_type": "display_data"
    }
   ],
   "source": [
    "univariate_categorical('CODE_GENDER')\n"
   ]
  },
  {
   "cell_type": "markdown",
   "id": "f7b13d9f",
   "metadata": {},
   "source": [
    "### Insight:\n",
    "The number of female clients is almost double the number of male clients. Based on the percentage of defaulted credits, males have a higher chance of not returning their loans (10%), comparing with women (7%)\n"
   ]
  },
  {
   "cell_type": "code",
   "execution_count": 98,
   "id": "983b80ac",
   "metadata": {},
   "outputs": [
    {
     "data": {
      "image/png": "[encoded data removed]",
      "text/plain": [
       "<Figure size 864x432 with 2 Axes>"
      ]
     },
     "metadata": {
      "needs_background": "light"
     },
     "output_type": "display_data"
    }
   ],
   "source": [
    "univariate_categorical(\"NAME_HOUSING_TYPE\",True,True,True)\n"
   ]
  },
  {
   "cell_type": "markdown",
   "id": "e8a01aa8",
   "metadata": {},
   "source": [
    "### Insight:\n",
    "Majority of people live in House/apartment\n",
    "\n",
    "People living in office apartments have lowest default rate\n",
    "\n",
    "People living with parents (~11.5%) and living in rented apartments(>12%) have higher probability of defaulting"
   ]
  },
  {
   "cell_type": "code",
   "execution_count": 99,
   "id": "2415407f",
   "metadata": {},
   "outputs": [
    {
     "data": {
      "image/png": "[encoded data removed]",
      "text/plain": [
       "<Figure size 864x432 with 2 Axes>"
      ]
     },
     "metadata": {
      "needs_background": "light"
     },
     "output_type": "display_data"
    }
   ],
   "source": [
    "univariate_categorical('FLAG_OWN_REALTY')"
   ]
  },
  {
   "cell_type": "markdown",
   "id": "642d4264",
   "metadata": {},
   "source": [
    "### Insight:\n",
    "The clients who own real estate are more than double of the ones that don't own. But the defaulting rate of both categories are around the same (~8%). Thus there is no correlation between owning a reality and defaulting the loan."
   ]
  },
  {
   "cell_type": "code",
   "execution_count": 100,
   "id": "8eb0367d",
   "metadata": {},
   "outputs": [
    {
     "data": {
      "image/png": "[encoded data removed]",
      "text/plain": [
       "<Figure size 864x432 with 2 Axes>"
      ]
     },
     "metadata": {
      "needs_background": "light"
     },
     "output_type": "display_data"
    }
   ],
   "source": [
    "univariate_categorical(\"NAME_FAMILY_STATUS\",False,True,True)\n"
   ]
  },
  {
   "cell_type": "markdown",
   "id": "ce5e7278",
   "metadata": {},
   "source": [
    "### Inferences:\n",
    "Most of the people who have taken loan are married, followed by Single/not married and civil marriage\n",
    "In terms of percentage of not repayment of loan, Civil marriage has the highest percent of not repayment (10%), with Widow the lowest (exception being Unknown).\n"
   ]
  },
  {
   "cell_type": "code",
   "execution_count": 101,
   "id": "9e94007c",
   "metadata": {},
   "outputs": [
    {
     "data": {
      "image/png": "[encoded data removed]",
      "text/plain": [
       "<Figure size 864x432 with 2 Axes>"
      ]
     },
     "metadata": {
      "needs_background": "light"
     },
     "output_type": "display_data"
    }
   ],
   "source": [
    "univariate_categorical(\"NAME_EDUCATION_TYPE\",True,True,True)\n"
   ]
  },
  {
   "cell_type": "markdown",
   "id": "26100312",
   "metadata": {},
   "source": [
    "### Insight:\n",
    "Majority of the clients have Secondary / secondary special education, followed by clients with Higher education. Only a very small number having an academic degree\n",
    "\n",
    "The Lower secondary category, although rare, have the largest rate of not returning the loan (11%). The people with Academic degree have less than 2% defaulting rate."
   ]
  },
  {
   "cell_type": "code",
   "execution_count": 102,
   "id": "d6b1990c",
   "metadata": {},
   "outputs": [
    {
     "data": {
      "image/png": "[encoded data removed]",
      "text/plain": [
       "<Figure size 864x432 with 2 Axes>"
      ]
     },
     "metadata": {
      "needs_background": "light"
     },
     "output_type": "display_data"
    }
   ],
   "source": [
    "univariate_categorical(\"NAME_INCOME_TYPE\",True,True,False)\n"
   ]
  },
  {
   "cell_type": "markdown",
   "id": "fccaf5b6",
   "metadata": {},
   "source": [
    "### Insight :\n",
    "Most of applicants for loans have income type as Working, followed by Commercial associate, Pensioner and State servant.\n",
    "\n",
    "The applicants with the type of income Maternity leave have almost 40% ratio of not returning loans, followed by Unemployed (37%). The rest of types of incomes are under the average of 10% for not returning loans.\n",
    "\n",
    "Student and Businessmen, though less in numbers do not have any default record. Thus these two category are safest for providing loan."
   ]
  },
  {
   "cell_type": "code",
   "execution_count": 103,
   "id": "7bf2724f",
   "metadata": {},
   "outputs": [
    {
     "data": {
      "image/png": "[encoded data removed]",
      "text/plain": [
       "<Figure size 864x432 with 2 Axes>"
      ]
     },
     "metadata": {
      "needs_background": "light"
     },
     "output_type": "display_data"
    }
   ],
   "source": [
    "univariate_categorical(\"OCCUPATION_TYPE\",False,True,True)\n"
   ]
  },
  {
   "cell_type": "markdown",
   "id": "9768ac6c",
   "metadata": {},
   "source": [
    "### Insight:\n",
    "Most of the loans are taken by Laborers, followed by Sales staff. IT staff take the lowest amount of loans.\n",
    "The category with highest percent of not repaid loans are Low-skill Laborers (above 17%), followed by Drivers and Waiters/barmen staff, Security staff, Laborers and Cooking staff."
   ]
  },
  {
   "cell_type": "code",
   "execution_count": 104,
   "id": "48cb41e5",
   "metadata": {},
   "outputs": [
    {
     "data": {
      "image/png": "[encoded data removed]",
      "text/plain": [
       "<Figure size 864x432 with 2 Axes>"
      ]
     },
     "metadata": {
      "needs_background": "light"
     },
     "output_type": "display_data"
    }
   ],
   "source": [
    "univariate_categorical(\"EMPLOYMENT_YEAR\",False,False,True)\n"
   ]
  },
  {
   "cell_type": "markdown",
   "id": "d92e5c5b",
   "metadata": {},
   "source": [
    "### Inferences:\n",
    "Majority of the applicants have been employeed in between 0-5 years. The defaulting rating of this group is also the highest which is 10%\n",
    "\n",
    "With increase of employment year, defaulting rate is gradually decreasing with people having 40+ year experience having less than 1% default rate"
   ]
  },
  {
   "cell_type": "code",
   "execution_count": 105,
   "id": "b48e4adf",
   "metadata": {},
   "outputs": [
    {
     "data": {
      "image/png": "[encoded data removed]",
      "text/plain": [
       "<Figure size 864x432 with 2 Axes>"
      ]
     },
     "metadata": {
      "needs_background": "light"
     },
     "output_type": "display_data"
    }
   ],
   "source": [
    "univariate_categorical(\"AMT_CREDIT_RANGE\",False,False,True)\n"
   ]
  },
  {
   "cell_type": "markdown",
   "id": "957150b8",
   "metadata": {},
   "source": [
    "### Inferences:\n",
    "More than 80% of the loan provided are for amount less than 900,000\n",
    "People who get loan for 300-600k tend to default more than others."
   ]
  },
  {
   "cell_type": "code",
   "execution_count": 106,
   "id": "ac9bde6b",
   "metadata": {},
   "outputs": [
    {
     "data": {
      "image/png": "[encoded data removed]",
      "text/plain": [
       "<Figure size 864x432 with 2 Axes>"
      ]
     },
     "metadata": {
      "needs_background": "light"
     },
     "output_type": "display_data"
    }
   ],
   "source": [
    "univariate_categorical(\"AMT_INCOME_RANGE\",False,False,False)\n"
   ]
  },
  {
   "cell_type": "markdown",
   "id": "7a632726",
   "metadata": {},
   "source": [
    "### Inferences:\n",
    "90% of the applications have Income total less than 300,000\n",
    "Application with Income less than 300,000 has high probability of defaulting\n",
    "Applicant with Income more than 700,000 are less likely to default"
   ]
  },
  {
   "cell_type": "code",
   "execution_count": 107,
   "id": "38fa3239",
   "metadata": {},
   "outputs": [
    {
     "data": {
      "image/png": "[encoded data removed]",
      "text/plain": [
       "<Figure size 864x432 with 2 Axes>"
      ]
     },
     "metadata": {
      "needs_background": "light"
     },
     "output_type": "display_data"
    }
   ],
   "source": [
    "univariate_categorical(\"CNT_CHILDREN\",True)\n"
   ]
  },
  {
   "cell_type": "markdown",
   "id": "e2982ba9",
   "metadata": {},
   "source": [
    "### Inferences:\n",
    "Most of the applicants do not have children\n",
    "\n",
    "Very few clients have more than 3 children.\n",
    "\n",
    "Client who have more than 4 children has a very high default rate with child count 9 and 11 showing 100% default rate"
   ]
  },
  {
   "cell_type": "code",
   "execution_count": 108,
   "id": "422d05d0",
   "metadata": {},
   "outputs": [
    {
     "data": {
      "image/png": "[encoded data removed]",
      "text/plain": [
       "<Figure size 864x432 with 2 Axes>"
      ]
     },
     "metadata": {
      "needs_background": "light"
     },
     "output_type": "display_data"
    }
   ],
   "source": [
    "univariate_categorical(\"CNT_FAM_MEMBERS\",True, False, False)\n"
   ]
  },
  {
   "cell_type": "markdown",
   "id": "adec3213",
   "metadata": {},
   "source": [
    "### Insight:\n",
    "Family member follows the same trend as children where having more family members increases the risk of defaulting\n"
   ]
  },
  {
   "cell_type": "code",
   "execution_count": 109,
   "id": "616c65ba",
   "metadata": {},
   "outputs": [],
   "source": [
    "def bivariate_bar(x,y,df,hue,figsize):\n",
    "    \n",
    "    plt.figure(figsize=figsize)\n",
    "    sns.barplot(x=x,\n",
    "                  y=y,\n",
    "                  data=df, \n",
    "                  hue=hue, \n",
    "                  palette = \"Set2\")     \n",
    "        \n",
    "    # Defining aesthetics of Labels and Title of the plot using style dictionaries\n",
    "    plt.xlabel(x,fontdict={'fontsize' : 10, 'fontweight' : 3, 'color' : 'Red'})    \n",
    "    plt.ylabel(y,fontdict={'fontsize' : 10, 'fontweight' : 3, 'color' : 'Red'})    \n",
    "    plt.title(col, fontdict={'fontsize' : 15, 'fontweight' : 5, 'color' : 'Red'}) \n",
    "    plt.xticks(rotation=90, ha='right')\n",
    "    plt.legend(labels = ['Repayer','Defaulter'])\n",
    "    plt.show()"
   ]
  },
  {
   "cell_type": "code",
   "execution_count": 110,
   "id": "14724102",
   "metadata": {},
   "outputs": [
    {
     "data": {
      "text/html": [
       "<div>\n",
       "<style scoped>\n",
       "    .dataframe tbody tr th:only-of-type {\n",
       "        vertical-align: middle;\n",
       "    }\n",
       "\n",
       "    .dataframe tbody tr th {\n",
       "        vertical-align: top;\n",
       "    }\n",
       "\n",
       "    .dataframe thead th {\n",
       "        text-align: right;\n",
       "    }\n",
       "</style>\n",
       "<table border=\"1\" class=\"dataframe\">\n",
       "  <thead>\n",
       "    <tr style=\"text-align: right;\">\n",
       "      <th></th>\n",
       "      <th>count</th>\n",
       "      <th>mean</th>\n",
       "      <th>std</th>\n",
       "      <th>min</th>\n",
       "      <th>25%</th>\n",
       "      <th>50%</th>\n",
       "      <th>75%</th>\n",
       "      <th>max</th>\n",
       "    </tr>\n",
       "    <tr>\n",
       "      <th>NAME_INCOME_TYPE</th>\n",
       "      <th></th>\n",
       "      <th></th>\n",
       "      <th></th>\n",
       "      <th></th>\n",
       "      <th></th>\n",
       "      <th></th>\n",
       "      <th></th>\n",
       "      <th></th>\n",
       "    </tr>\n",
       "  </thead>\n",
       "  <tbody>\n",
       "    <tr>\n",
       "      <th>Businessman</th>\n",
       "      <td>10.0</td>\n",
       "      <td>6.525000e-10</td>\n",
       "      <td>6.272260e-10</td>\n",
       "      <td>1.800000e-10</td>\n",
       "      <td>2.250000e-10</td>\n",
       "      <td>4.950000e-10</td>\n",
       "      <td>8.437500e-10</td>\n",
       "      <td>2.250000e-09</td>\n",
       "    </tr>\n",
       "    <tr>\n",
       "      <th>Commercial associate</th>\n",
       "      <td>71617.0</td>\n",
       "      <td>2.029553e-10</td>\n",
       "      <td>1.479742e-10</td>\n",
       "      <td>2.655000e-11</td>\n",
       "      <td>1.350000e-10</td>\n",
       "      <td>1.800000e-10</td>\n",
       "      <td>2.250000e-10</td>\n",
       "      <td>1.800009e-08</td>\n",
       "    </tr>\n",
       "    <tr>\n",
       "      <th>Maternity leave</th>\n",
       "      <td>5.0</td>\n",
       "      <td>1.404000e-10</td>\n",
       "      <td>1.268569e-10</td>\n",
       "      <td>4.950000e-11</td>\n",
       "      <td>6.750000e-11</td>\n",
       "      <td>9.000000e-11</td>\n",
       "      <td>1.350000e-10</td>\n",
       "      <td>3.600000e-10</td>\n",
       "    </tr>\n",
       "    <tr>\n",
       "      <th>Pensioner</th>\n",
       "      <td>55362.0</td>\n",
       "      <td>1.364013e-10</td>\n",
       "      <td>7.665033e-11</td>\n",
       "      <td>2.565000e-11</td>\n",
       "      <td>9.000000e-11</td>\n",
       "      <td>1.170000e-10</td>\n",
       "      <td>1.665000e-10</td>\n",
       "      <td>2.250000e-09</td>\n",
       "    </tr>\n",
       "    <tr>\n",
       "      <th>State servant</th>\n",
       "      <td>21703.0</td>\n",
       "      <td>1.797380e-10</td>\n",
       "      <td>1.008806e-10</td>\n",
       "      <td>2.700000e-11</td>\n",
       "      <td>1.125000e-10</td>\n",
       "      <td>1.575000e-10</td>\n",
       "      <td>2.250000e-10</td>\n",
       "      <td>3.150000e-09</td>\n",
       "    </tr>\n",
       "    <tr>\n",
       "      <th>Student</th>\n",
       "      <td>18.0</td>\n",
       "      <td>1.705000e-10</td>\n",
       "      <td>1.066447e-10</td>\n",
       "      <td>8.100000e-11</td>\n",
       "      <td>1.125000e-10</td>\n",
       "      <td>1.575000e-10</td>\n",
       "      <td>1.788750e-10</td>\n",
       "      <td>5.625000e-10</td>\n",
       "    </tr>\n",
       "    <tr>\n",
       "      <th>Unemployed</th>\n",
       "      <td>22.0</td>\n",
       "      <td>1.105364e-10</td>\n",
       "      <td>8.805508e-11</td>\n",
       "      <td>2.655000e-11</td>\n",
       "      <td>5.400000e-11</td>\n",
       "      <td>7.875000e-11</td>\n",
       "      <td>1.350000e-10</td>\n",
       "      <td>3.375000e-10</td>\n",
       "    </tr>\n",
       "    <tr>\n",
       "      <th>Working</th>\n",
       "      <td>158774.0</td>\n",
       "      <td>1.631699e-10</td>\n",
       "      <td>3.075777e-10</td>\n",
       "      <td>2.565000e-11</td>\n",
       "      <td>1.125000e-10</td>\n",
       "      <td>1.350000e-10</td>\n",
       "      <td>2.025000e-10</td>\n",
       "      <td>1.170000e-07</td>\n",
       "    </tr>\n",
       "  </tbody>\n",
       "</table>\n",
       "</div>"
      ],
      "text/plain": [
       "                         count          mean           std           min  \\\n",
       "NAME_INCOME_TYPE                                                           \n",
       "Businessman               10.0  6.525000e-10  6.272260e-10  1.800000e-10   \n",
       "Commercial associate   71617.0  2.029553e-10  1.479742e-10  2.655000e-11   \n",
       "Maternity leave            5.0  1.404000e-10  1.268569e-10  4.950000e-11   \n",
       "Pensioner              55362.0  1.364013e-10  7.665033e-11  2.565000e-11   \n",
       "State servant          21703.0  1.797380e-10  1.008806e-10  2.700000e-11   \n",
       "Student                   18.0  1.705000e-10  1.066447e-10  8.100000e-11   \n",
       "Unemployed                22.0  1.105364e-10  8.805508e-11  2.655000e-11   \n",
       "Working               158774.0  1.631699e-10  3.075777e-10  2.565000e-11   \n",
       "\n",
       "                               25%           50%           75%           max  \n",
       "NAME_INCOME_TYPE                                                              \n",
       "Businessman           2.250000e-10  4.950000e-10  8.437500e-10  2.250000e-09  \n",
       "Commercial associate  1.350000e-10  1.800000e-10  2.250000e-10  1.800009e-08  \n",
       "Maternity leave       6.750000e-11  9.000000e-11  1.350000e-10  3.600000e-10  \n",
       "Pensioner             9.000000e-11  1.170000e-10  1.665000e-10  2.250000e-09  \n",
       "State servant         1.125000e-10  1.575000e-10  2.250000e-10  3.150000e-09  \n",
       "Student               1.125000e-10  1.575000e-10  1.788750e-10  5.625000e-10  \n",
       "Unemployed            5.400000e-11  7.875000e-11  1.350000e-10  3.375000e-10  \n",
       "Working               1.125000e-10  1.350000e-10  2.025000e-10  1.170000e-07  "
      ]
     },
     "execution_count": 110,
     "metadata": {},
     "output_type": "execute_result"
    }
   ],
   "source": [
    "application.groupby('NAME_INCOME_TYPE')['AMT_INCOME_TOTAL'].describe()\n"
   ]
  },
  {
   "cell_type": "code",
   "execution_count": 111,
   "id": "ba98d9be",
   "metadata": {},
   "outputs": [
    {
     "data": {
      "image/png": "[encoded data removed]",
      "text/plain": [
       "<Figure size 1296x720 with 1 Axes>"
      ]
     },
     "metadata": {
      "needs_background": "light"
     },
     "output_type": "display_data"
    }
   ],
   "source": [
    "bivariate_bar(\"NAME_INCOME_TYPE\",\"AMT_INCOME_TOTAL\",application,\"TARGET\",(18,10))\n"
   ]
  },
  {
   "cell_type": "markdown",
   "id": "76f7f978",
   "metadata": {},
   "source": [
    "### Insight:\n",
    "It can be seen that business man's income is the highest and the estimated range with default 95% confidence level seem to indicate that the income of a business man could be in the range of slightly close to 4 lakhs and slightly above 10 lakhs\n",
    "\n"
   ]
  },
  {
   "cell_type": "markdown",
   "id": "221b194b",
   "metadata": {},
   "source": [
    " <font color='Red'>Numeric Variable Analysis</font>\n"
   ]
  },
  {
   "cell_type": "code",
   "execution_count": 112,
   "id": "75a185f3",
   "metadata": {},
   "outputs": [
    {
     "data": {
      "text/plain": [
       "Index(['SK_ID_CURR', 'TARGET', 'NAME_CONTRACT_TYPE', 'CODE_GENDER',\n",
       "       'FLAG_OWN_CAR', 'FLAG_OWN_REALTY', 'CNT_CHILDREN', 'AMT_INCOME_TOTAL',\n",
       "       'AMT_CREDIT', 'AMT_ANNUITY', 'AMT_GOODS_PRICE', 'NAME_INCOME_TYPE',\n",
       "       'NAME_EDUCATION_TYPE', 'NAME_FAMILY_STATUS', 'NAME_HOUSING_TYPE',\n",
       "       'REGION_POPULATION_RELATIVE', 'DAYS_BIRTH', 'DAYS_EMPLOYED',\n",
       "       'DAYS_REGISTRATION', 'DAYS_ID_PUBLISH', 'OCCUPATION_TYPE',\n",
       "       'CNT_FAM_MEMBERS', 'REGION_RATING_CLIENT_W_CITY',\n",
       "       'WEEKDAY_APPR_PROCESS_START', 'HOUR_APPR_PROCESS_START',\n",
       "       'REG_REGION_NOT_LIVE_REGION', 'REG_REGION_NOT_WORK_REGION',\n",
       "       'LIVE_REGION_NOT_WORK_REGION', 'REG_CITY_NOT_LIVE_CITY',\n",
       "       'REG_CITY_NOT_WORK_CITY', 'LIVE_CITY_NOT_WORK_CITY',\n",
       "       'ORGANIZATION_TYPE', 'AMT_INCOME_RANGE', 'AMT_CREDIT_RANGE',\n",
       "       'YEARS_EMPLOYED', 'EMPLOYMENT_YEAR'],\n",
       "      dtype='object')"
      ]
     },
     "execution_count": 112,
     "metadata": {},
     "output_type": "execute_result"
    }
   ],
   "source": [
    "application.columns"
   ]
  },
  {
   "cell_type": "code",
   "execution_count": 113,
   "id": "a0b06b6d",
   "metadata": {},
   "outputs": [],
   "source": [
    "cols_for_correlation =['NAME_CONTRACT_TYPE', 'CODE_GENDER',\n",
    "       'FLAG_OWN_CAR', 'FLAG_OWN_REALTY', 'CNT_CHILDREN', 'AMT_INCOME_TOTAL',\n",
    "       'AMT_CREDIT', 'AMT_ANNUITY', 'AMT_GOODS_PRICE', 'NAME_INCOME_TYPE',\n",
    "       'NAME_EDUCATION_TYPE', 'NAME_FAMILY_STATUS', 'NAME_HOUSING_TYPE',\n",
    "       'REGION_POPULATION_RELATIVE', 'DAYS_BIRTH', 'DAYS_EMPLOYED',\n",
    "       'DAYS_REGISTRATION', 'DAYS_ID_PUBLISH', 'OCCUPATION_TYPE',\n",
    "       'CNT_FAM_MEMBERS', 'REGION_RATING_CLIENT_W_CITY',\n",
    "       'WEEKDAY_APPR_PROCESS_START', 'HOUR_APPR_PROCESS_START',\n",
    "       'REG_REGION_NOT_LIVE_REGION', 'REG_REGION_NOT_WORK_REGION',\n",
    "       'LIVE_REGION_NOT_WORK_REGION', 'REG_CITY_NOT_LIVE_CITY',\n",
    "       'REG_CITY_NOT_WORK_CITY', 'LIVE_CITY_NOT_WORK_CITY',\n",
    "       'ORGANIZATION_TYPE', 'AMT_INCOME_RANGE', 'AMT_CREDIT_RANGE',\n",
    "       'YEARS_EMPLOYED', 'EMPLOYMENT_YEAR']\n",
    "\n",
    "Repayer_df = application.loc[application['TARGET']==0, cols_for_correlation] # Repayers\n",
    "Defaulter_df = application.loc[application['TARGET']==1, cols_for_correlation] # Defaulters"
   ]
  },
  {
   "cell_type": "code",
   "execution_count": 114,
   "id": "268bd507",
   "metadata": {},
   "outputs": [
    {
     "data": {
      "image/png": "[encoded data removed]",
      "text/plain": [
       "<Figure size 864x864 with 2 Axes>"
      ]
     },
     "metadata": {
      "needs_background": "light"
     },
     "output_type": "display_data"
    }
   ],
   "source": [
    "fig = plt.figure(figsize=(12,12))\n",
    "ax = sns.heatmap(Repayer_df.corr(), cmap=\"rocket\",annot=False,linewidth =1)"
   ]
  },
  {
   "cell_type": "markdown",
   "id": "9e70e801",
   "metadata": {},
   "source": [
    "### Inferences:\n",
    "Correlating factors amongst repayers:\n",
    "Credit amount is highly correlated with\n",
    "amount of goods price\n",
    "loan annuity\n",
    "total income\n",
    "We can also see that repayers have high correlation in number of days employed."
   ]
  },
  {
   "cell_type": "code",
   "execution_count": 115,
   "id": "2e30d18f",
   "metadata": {},
   "outputs": [
    {
     "data": {
      "image/png": "[encoded data removed]",
      "text/plain": [
       "<Figure size 864x864 with 2 Axes>"
      ]
     },
     "metadata": {
      "needs_background": "light"
     },
     "output_type": "display_data"
    }
   ],
   "source": [
    "fig = plt.figure(figsize=(12,12))\n",
    "ax = sns.heatmap(Defaulter_df.corr(), cmap=\"rocket\",annot=False,linewidth =1)"
   ]
  },
  {
   "cell_type": "markdown",
   "id": "9058c45e",
   "metadata": {},
   "source": [
    "### Inferences:\n",
    "Credit amount is highly correlated with amount of goods price which is same as repayers.\n",
    "\n",
    "But the loan annuity correlation with credit amount has slightly reduced in defaulters when compared to repayers\n",
    "\n",
    "We can also see that repayers have high correlation in number of days employed when compared to defaulters.\n",
    "\n",
    "There is a severe drop in the correlation between total income of the client and the credit amount amongst defaulters whereas it is among repayers.\n",
    "\n",
    "Days_birth and number of children correlation has reduced in defaulters when compared to in repayers.\n",
    "\n",
    "There is a slight increase in defaulted to observed count in social circle among defaulters when compared to repayers"
   ]
  },
  {
   "cell_type": "code",
   "execution_count": 116,
   "id": "db7f8d25",
   "metadata": {},
   "outputs": [
    {
     "data": {
      "text/plain": [
       "<matplotlib.legend.Legend at 0x22b91544c70>"
      ]
     },
     "execution_count": 116,
     "metadata": {},
     "output_type": "execute_result"
    },
    {
     "data": {
      "image/png": "[encoded data removed]",
      "text/plain": [
       "<Figure size 1152x864 with 4 Axes>"
      ]
     },
     "metadata": {
      "needs_background": "light"
     },
     "output_type": "display_data"
    }
   ],
   "source": [
    "# Plotting the numerical columns related to amount as distribution plot to see density\n",
    "amount = application[[ 'AMT_INCOME_TOTAL','AMT_CREDIT','AMT_ANNUITY', 'AMT_GOODS_PRICE']]\n",
    "\n",
    "fig = plt.figure(figsize=(16,12))\n",
    "\n",
    "for i in enumerate(amount):\n",
    "    plt.subplot(2,2,i[0]+1)\n",
    "    sns.kdeplot(Defaulter_df[i[1]], color='r',label =\"Defaulter\")\n",
    "    sns.kdeplot(Repayer_df[i[1]], color='g', label =\"Repayer\")\n",
    "    plt.title(i[1], fontdict={'fontsize' : 15, 'fontweight' : 5, 'color' : 'Blue'}) \n",
    "    \n",
    "plt.legend()\n"
   ]
  },
  {
   "cell_type": "code",
   "execution_count": 117,
   "id": "b7ae7a94",
   "metadata": {},
   "outputs": [],
   "source": [
    "import warnings\n",
    "warnings.filterwarnings('ignore')"
   ]
  },
  {
   "cell_type": "markdown",
   "id": "33ce3e09",
   "metadata": {},
   "source": [
    "### Insight: The repayers and defaulters distribution overlap in all the plots and hence we cannot use any of these variables in isolation to make a decision"
   ]
  },
  {
   "cell_type": "code",
   "execution_count": 118,
   "id": "218d12ae",
   "metadata": {},
   "outputs": [],
   "source": [
    "def bivariate_rel(x,y, legend,figsize):\n",
    "    \n",
    "    plt.figure(figsize=figsize)\n",
    "    sns.relplot(x=x, \n",
    "                y=y, \n",
    "                data=application, \n",
    "                hue=\"TARGET\",\n",
    "                kind= 'line',\n",
    "                palette = ['g','r'],\n",
    "                legend = False)\n",
    "    plt.legend(['Repayer','Defaulter'])\n",
    "    plt.xticks(rotation=90, ha='right')\n",
    "    plt.show()"
   ]
  },
  {
   "cell_type": "code",
   "execution_count": 119,
   "id": "0b33a486",
   "metadata": {},
   "outputs": [
    {
     "data": {
      "text/plain": [
       "<Figure size 1080x432 with 0 Axes>"
      ]
     },
     "metadata": {},
     "output_type": "display_data"
    },
    {
     "data": {
      "image/png": "[encoded data removed]",
      "text/plain": [
       "<Figure size 360x360 with 1 Axes>"
      ]
     },
     "metadata": {
      "needs_background": "light"
     },
     "output_type": "display_data"
    }
   ],
   "source": [
    "# Checking the relationship between Goods price and credit and comparing with loan repayment staus\n",
    "bivariate_rel('AMT_GOODS_PRICE','AMT_CREDIT', False,(15,6))"
   ]
  },
  {
   "cell_type": "markdown",
   "id": "29c69009",
   "metadata": {},
   "source": [
    "### Merge both Dataframe"
   ]
  },
  {
   "cell_type": "code",
   "execution_count": null,
   "id": "10234f29",
   "metadata": {},
   "outputs": [],
   "source": [
    "loan_process_df = pd.merge(application, pre_application, how='inner', on='SK_ID_CURR')\n",
    "loan_process_df.head()"
   ]
  },
  {
   "cell_type": "code",
   "execution_count": null,
   "id": "150dc585",
   "metadata": {},
   "outputs": [],
   "source": [
    "loan_process_df.shape"
   ]
  },
  {
   "cell_type": "code",
   "execution_count": null,
   "id": "cab44008",
   "metadata": {},
   "outputs": [],
   "source": [
    "loan_process_df.size"
   ]
  },
  {
   "cell_type": "code",
   "execution_count": null,
   "id": "eff7adbc",
   "metadata": {},
   "outputs": [],
   "source": [
    "loan_process_df.info()"
   ]
  },
  {
   "cell_type": "code",
   "execution_count": null,
   "id": "133865f8",
   "metadata": {},
   "outputs": [],
   "source": [
    "loan_process_df.describe()"
   ]
  },
  {
   "cell_type": "code",
   "execution_count": null,
   "id": "dd08d49b",
   "metadata": {},
   "outputs": [],
   "source": [
    "# Bifurcating the applicationDF dataframe based on Target value 0 and 1 for correlation and other analysis\n",
    "\n",
    "L0 = loan_process_df[loan_process_df['TARGET']==0] # Repayers\n",
    "L1 = loan_process_df[loan_process_df['TARGET']==1] # Defaulters"
   ]
  },
  {
   "cell_type": "code",
   "execution_count": null,
   "id": "81f289a9",
   "metadata": {},
   "outputs": [],
   "source": [
    "def univariate_merged(col,df,hue,palette,ylog,figsize):\n",
    "    plt.figure(figsize=figsize)\n",
    "    ax=sns.countplot(x=col, \n",
    "                  data=df,\n",
    "                  hue= hue,\n",
    "                  palette= palette,\n",
    "                  order=df[col].value_counts().index)\n",
    "    if ylog:\n",
    "        plt.yscale('log')\n",
    "        plt.ylabel(\"Count (log)\",fontdict={'fontsize' : 10, 'fontweight' : 3, 'color' : 'Blue'})     \n",
    "    else:\n",
    "        plt.ylabel(\"Count\",fontdict={'fontsize' : 10, 'fontweight' : 3, 'color' : 'Blue'})  \n",
    "    plt.title(col , fontdict={'fontsize' : 15, 'fontweight' : 5, 'color' : 'Blue'}) \n",
    "    plt.legend(loc = \"upper right\")\n",
    "    plt.xticks(rotation=90, ha='right')\n",
    "    \n",
    "    plt.show()"
   ]
  },
  {
   "cell_type": "code",
   "execution_count": null,
   "id": "3cb3b722",
   "metadata": {},
   "outputs": [],
   "source": [
    "univariate_merged(\"NAME_CASH_LOAN_PURPOSE\",L0,\"NAME_CONTRACT_STATUS\",[\"#548235\",\"#FF0000\",\"#0070C0\",\"#FFFF00\"],True,(18,7))\n",
    "\n",
    "univariate_merged(\"NAME_CASH_LOAN_PURPOSE\",L1,\"NAME_CONTRACT_STATUS\",[\"#548235\",\"#FF0000\",\"#0070C0\",\"#FFFF00\"],True,(18,7))"
   ]
  },
  {
   "cell_type": "markdown",
   "id": "772c6ee0",
   "metadata": {},
   "source": [
    "### Insight:\n",
    "Inferences:\n",
    "Loan purpose has high number of unknown values (XAP, XNA)\n",
    "\n",
    "Loan taken for the purpose of Repairs seems to have highest default rate\n",
    "\n",
    "A very high number application have been rejected by bank or refused by client which has purpose as repair or other.\n",
    "This shows that purpose repair is taken as high risk by bank and either they are rejected or bank offers very high loan interest rate which is not feasible by the clients, thus they refuse the loan."
   ]
  },
  {
   "cell_type": "code",
   "execution_count": null,
   "id": "33eba34e",
   "metadata": {},
   "outputs": [],
   "source": [
    "loan_process_df['NAME_CONTRACT_STATUS'].head()"
   ]
  },
  {
   "cell_type": "code",
   "execution_count": null,
   "id": "db29ded1",
   "metadata": {},
   "outputs": [],
   "source": [
    "def merged_pointplot(x,y):\n",
    "    plt.figure(figsize=(8,4))\n",
    "    sns.pointplot(x=x, \n",
    "                  y=y, \n",
    "                  hue=\"TARGET\", \n",
    "                  data=loan_process_df,\n",
    "                  palette =['g','r'])\n",
    "   # plt.legend(['Repayer','Defaulter'])"
   ]
  },
  {
   "cell_type": "code",
   "execution_count": null,
   "id": "acca212a",
   "metadata": {},
   "outputs": [],
   "source": [
    "merged_pointplot(\"NAME_CONTRACT_STATUS\",'AMT_INCOME_TOTAL')\n"
   ]
  },
  {
   "cell_type": "markdown",
   "id": "2940b8e8",
   "metadata": {},
   "source": [
    "### Inferences:\n",
    "The point plot show that the people who have not used offer earlier have defaulted even when there average income is higher than others"
   ]
  },
  {
   "cell_type": "markdown",
   "id": "3e57d381",
   "metadata": {},
   "source": [
    "### Conclusion\n",
    "\n",
    "Decisive Factor whether an applicant will be Repayer:\n",
    "\n",
    "NAME_EDUCATION_TYPE: Academic degree has less defaults.\n",
    "\n",
    "NAME_INCOME_TYPE: Student and Businessmen have no defaults.\n",
    "\n",
    "REGION_RATING_CLIENT: RATING 1 is safer.\n",
    "\n",
    "DAYS_BIRTH: People above age of 50 have low probability of defaulting\n",
    "\n",
    "DAYS_EMPLOYED: Clients with 40+ year experience having less than 1% default rate\n",
    "\n",
    "AMT_INCOME_TOTAL:Applicant with Income more than 700,000 are less likely to default\n",
    "\n",
    "NAME_CASH_LOAN_PURPOSE: Loans bought for Hobby, Buying garage are being repayed mostly.\n",
    "\n",
    "CNT_CHILDREN: People with zero to two children tend to repay the loans.\n"
   ]
  },
  {
   "cell_type": "markdown",
   "id": "35bda2f1",
   "metadata": {},
   "source": [
    "### \n",
    "Decisive Factor whether an applicant will be Defaulter:\n",
    "CODE_GENDER: Men are at relatively higher default rate\n",
    "\n",
    "NAME_FAMILY_STATUS : People who have civil marriage or who are single default a lot.\n",
    "\n",
    "NAME_EDUCATION_TYPE: People with Lower Secondary & Secondary education\n",
    "\n",
    "NAME_INCOME_TYPE: Clients who are either at Maternity leave OR Unemployed default a lot.\n",
    "\n",
    "REGION_RATING_CLIENT: People who live in Rating 3 has highest defaults.\n",
    "\n",
    "OCCUPATION_TYPE: Avoid Low-skill Laborers, Drivers and Waiters/barmen staff, Security staff, Laborers and Cooking staff as the default rate is huge.\n",
    "\n",
    "ORGANIZATION_TYPE: Organizations with highest percent of loans not repaid are Transport: type 3 (16%), Industry: type 13 (13.5%), Industry: type 8 (12.5%) and Restaurant (less than 12%). Self-employed people have relative high defaulting rate, and thus should be avoided to be approved for loan or provide loan with higher interest rate to mitigate the risk of defaulting.\n",
    "\n",
    "DAYS_BIRTH: Avoid young people who are in age group of 20-40 as they have higher probability of defaulting\n",
    "\n",
    "DAYS_EMPLOYED: People who have less than 5 years of employment have high default rate.\n",
    "\n",
    "CNT_CHILDREN & CNT_FAM_MEMBERS: Client who have children equal to or more than 9 default 100% and hence their applications are to be rejected.\n",
    "\n",
    "AMT_GOODS_PRICE: When the credit amount goes beyond 3M, there is an increase in defaulters."
   ]
  },
  {
   "cell_type": "markdown",
   "id": "cb1715c7",
   "metadata": {},
   "source": [
    "###\n",
    "NAME_HOUSING_TYPE: High number of loan applications are from the category of people who live in Rented apartments & living with parents and hence offering the loan would mitigate the loss if any of those default.\n",
    "\n",
    "AMT_CREDIT: People who get loan for 300-600k tend to default more than others and hence having higher interest specifically for this credit range would be ideal.\n",
    "\n",
    "AMT_INCOME: Since 90% of the applications have Income total less than 300,000 and they have high probability of defaulting, they could be offered loan with higher interest compared to other income category.\n",
    "\n",
    "CNT_CHILDREN & CNT_FAM_MEMBERS: Clients who have 4 to 8 children has a very high default rate and hence higher interest should be imposed on their loans.\n",
    "\n",
    "NAME_CASH_LOAN_PURPOSE: Loan taken for the purpose of Repairs seems to have highest default rate. A very high number applications have been rejected by bank or refused by client in previous applications as well which has purpose as repair or other. This shows that purpose repair is taken as high risk by bank and either they are rejected, or bank offers very high loan interest rate which is not feasible by the clients, thus they refuse the loan. The same approach could be followed in future as well."
   ]
  },
  {
   "cell_type": "code",
   "execution_count": 124,
   "id": "56335e8a",
   "metadata": {},
   "outputs": [
    {
     "data": {
      "application/vnd.jupyter.widget-view+json": {
       "model_id": "",
       "version_major": 2,
       "version_minor": 0
      },
      "text/plain": [
       "  0%|                                                                                         | 0/4847 [00:00<…"
      ]
     },
     "metadata": {},
     "output_type": "display_data"
    },
    {
     "name": "stderr",
     "output_type": "stream",
     "text": [
      "E-1019 (DUPLICATE_FACTORS): FactorRange must specify a unique list of categorical factors for an axis: duplicate factors found: 'REG_REGION_NO...ION', 'REG_CITY_NOT_...ITY'\n"
     ]
    }
   ],
   "source": [
    "from dataprep.eda import create_report \n",
    "report = create_report(application, title='My Report')"
   ]
  },
  {
   "cell_type": "code",
   "execution_count": 123,
   "id": "2214144f",
   "metadata": {},
   "outputs": [
    {
     "ename": "AttributeError",
     "evalue": "'function' object has no attribute 'show_browser'",
     "output_type": "error",
     "traceback": [
      "\u001b[1;31m---------------------------------------------------------------------------\u001b[0m",
      "\u001b[1;31mAttributeError\u001b[0m                            Traceback (most recent call last)",
      "Input \u001b[1;32mIn [123]\u001b[0m, in \u001b[0;36m<module>\u001b[1;34m\u001b[0m\n\u001b[1;32m----> 1\u001b[0m \u001b[43mcreate_report\u001b[49m\u001b[38;5;241;43m.\u001b[39;49m\u001b[43mshow_browser\u001b[49m()\n",
      "\u001b[1;31mAttributeError\u001b[0m: 'function' object has no attribute 'show_browser'"
     ]
    }
   ],
   "source": [
    "create_report.show_browser()\n"
   ]
  },
  {
   "cell_type": "code",
   "execution_count": 125,
   "id": "a7027b0d",
   "metadata": {},
   "outputs": [],
   "source": [
    "report.show_browser()\n"
   ]
  },
  {
   "cell_type": "code",
   "execution_count": null,
   "id": "ea920a2d",
   "metadata": {},
   "outputs": [],
   "source": []
  }
 ],
 "metadata": {
  "kernelspec": {
   "display_name": "Python 3 (ipykernel)",
   "language": "python",
   "name": "python3"
  },
  "language_info": {
   "codemirror_mode": {
    "name": "ipython",
    "version": 3
   },
   "file_extension": ".py",
   "mimetype": "text/x-python",
   "name": "python",
   "nbconvert_exporter": "python",
   "pygments_lexer": "ipython3",
   "version": "3.10.2"
  }
 },
 "nbformat": 4,
 "nbformat_minor": 5
}
